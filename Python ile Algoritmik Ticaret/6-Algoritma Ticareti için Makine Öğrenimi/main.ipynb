{
 "cells": [
  {
   "cell_type": "markdown",
   "metadata": {
    "colab_type": "text",
    "id": "vSJqKVam0xEj"
   },
   "source": [
    "### <center>Algo Ticareti için Makine Öğrenimi</center>\n",
    "#### <center>Serkan Polat</center>"
   ]
  },
  {
   "cell_type": "markdown",
   "metadata": {},
   "source": [
    "## Optimizasyon neredeyse tüm makine öğrenimi algoritmalarının merkezinde yer alır\n",
    "\n",
    "* #### Makine Öğreniminin Temelleri: Doğrusal cebir, olasılık analizi ve sayısal optimizasyon\n",
    "\n",
    "Makine Öğrenimi 60'lı yıllardan bu yana pek çok insan için ilgi çekici bir konu olmuştur. Ancak birçok kişi makine öğrenimini öğrenmeye başlamaktan korkuyor, bunun nedeni çoğunlukla doğrusal cebir ve matematik hakkında biraz bilgi gerektirmesi. Bildiğiniz gibi ders Makine Öğrenimi üzerinedir ve bu not defterinde sizi korkudan kurtaracağız ve çok az çabayla bazı gerçek dünya uygulamalarını çözmek için pratik modellerin nasıl yapılabileceğini göreceğiz.\n",
    "\n",
    "* #### Doğru modeller oluşturmak karmaşık ve zorlu bir iştir.\n",
    "\n",
    "\n",
    "<img src=\"images/model.png\" />\n",
    "\n",
    "\n",
    "### Ekonometri ve Makine Öğrenimi\n",
    "\n",
    "#### Ekonometrinin hedefi\n",
    "\n",
    "* #### \"Ekonometrinin amacı $\\hat\\theta$'ı bulmaktır; burada $\\hat\\theta$'ın X'in y üzerindeki nedensel etkisi olduğunu kastediyoruz\n",
    "\n",
    "* #### Ekonometrinin birincil istatistiksel kaygısı örnekleme hatasıdır. Başka bir deyişle amaç, popülasyon örneklemesindeki rastgelelik nedeniyle $\\hat\\theta$ etrafındaki belirsizliği ölçmektir.\n",
    "\n",
    "* #### Amaç karşı-olgusal tahminler yapmaktır.\n",
    "\n",
    "        Web sitesinin düzenini değiştirirse Amazon'un kârı ne olur?\n",
    "\n",
    "Bu alternatif politikalar altında dünyayı gözlemleyemiyoruz, dolayısıyla yanıtları verilerde kolayca bulamıyoruz. Karşı olguyu bilmek nedensel bir etkiyi ölçebilmeyi gerektirir. Nedensel bir etkiyi ölçebilmek varsayımlarda bulunmayı gerektirir. Ekonominin anlamı budur!\n",
    "\n",
    "\n",
    "#### Makine öğreniminin hedefi\n",
    "\n",
    "* #### Buna karşılık, makine öğreniminin amacı, mümkün olan en iyi örnek dışı tahmini ortaya çıkarmaktır.\n",
    "\n",
    "* #### Buna, makine öğreniminin temel endişesinin \"$\\hat y$\" olması diyoruz.\n",
    "\n",
    "* #### Amaç, birçok farklı modelin ayarlanması ve doğrulanması yoluyla en iyi tahminin yapıldığından emin olmaktır. Çapraz doğrulama tamamen bununla ilgilidir ve makine öğrenimi uygulayıcılarının takıntılı olduğu şey de budur."
   ]
  },
  {
   "cell_type": "markdown",
   "metadata": {},
   "source": [
    "### İktisat (Econometrics) ve Makine Öğrenimi (Machine Learning) Terimleri Çevirisi:\n",
    "\n",
    "| İktisat (Econometrics) | Makine Öğrenimi (Machine Learning) |\n",
    "| ----- | ----- |\n",
    "| X: Açıklayıcı Değişkenler | X: Girdi Değişkenleri |\n",
    "| y: Bağımlı Değişken | y: Çıkış Değişkeni |\n",
    "| $\\beta_0$: Sabit/Arakesit | b: Bias (Sapma) |\n",
    "| $\\beta$: Katsayılar | $w$: Ağırlıklar |\n",
    "| $f()$: Doğrusal Model | $f()$: Algoritmalar |\n",
    "| $\\beta$ tahmin ederiz | $w$ öğreniriz/eğitiriz |\n",
    "| İçindeki ve dışındaki örnekler | Eğitim (+doğrulama) ve test |\n",
    "| Küçültme | Regularizasyon |"
   ]
  },
  {
   "cell_type": "markdown",
   "metadata": {
    "colab_type": "text",
    "id": "VE4qkrZTvNBM"
   },
   "source": [
    "## Makine Öğreniminin Tanımı"
   ]
  },
  {
   "cell_type": "markdown",
   "metadata": {
    "colab_type": "text",
    "id": "QKJU8EEIu6im"
   },
   "source": [
    "\n",
    "        \"Machine Learning, bilgisayarları açıkça programlanmadan öğrenme yeteneği veren bir bilgisayar bilimi alanıdır.\" (Wikipedia)\n",
    "\n",
    "Makine öğrenimi, yapay zeka ve desen tanıma alanlarının erken gelişimi sırasında doğdu. Diğer tüm teknolojiler gibi, işletmelerin yardımıyla endüstride büyüdü. Makine öğrenimi algoritmaları için yaygın olarak kullanılan bir resmi tanım bulunmaktadır:\n",
    "\n",
    "        \"Bir bilgisayar programı, deneyim E'ye göre belirli bir görev türü T ve performans ölçüsü P için, deneyim E ile öğrenir denir, çünkü P tarafından ölçülen T görevlerindeki performansı deneyim E ile gelişir.\" - Tom. M. Mitchell\n",
    "\n",
    "Tanım, programımızın verilerimizden öğrenmesi gerektiğini ve performansını iyileştirmesi gerektiğini belirtir. Klasik bir örnek olarak, ev fiyatlarını tahmin etmek istediğimizi düşünelim. İlk olarak, algoritmamızı evin alanına, yatak odası sayısına vb. göre mevcut fiyatlar gibi verilerle besleyebiliriz. Verilerden, algoritma öğrenir ve tahminlerini hataları azaltarak geliştirir. Performansı, algoritmayı bilinen sonuçları olan yeni bir giriş verisi kullanarak çalıştırarak ve hata oranına bakarak ölçebiliriz. Amacımız burada hata oranını azaltmaktır."
   ]
  },
  {
   "cell_type": "markdown",
   "metadata": {
    "colab_type": "text",
    "id": "r2DnAnT4vLKV"
   },
   "source": [
    "## Makine Öğrenimi Sorunlarının ve Görevlerinin Türleri"
   ]
  },
  {
   "cell_type": "markdown",
   "metadata": {
    "colab_type": "text",
    "id": "1V2LDk0NvZbq"
   },
   "source": [
    "### Denetimli Öğrenme"
   ]
  },
  {
   "cell_type": "markdown",
   "metadata": {
    "colab_type": "text",
    "id": "P1NjOVwhvdG0"
   },
   "source": [
    "Bu tür ML algoritmaları, öğretici modelle çalışır. Bu, giriş ve çıkış değerlerini içeren etiketli verilere sahip bir veri kümesimiz olduğu anlamına gelir. Sahip olduğumuz girişler için bilinen çıkışları almak için bir yöntem tanımlarız. Tüm giriş-çıkış çiftlerini kullanarak yöntemimizi geliştirdikçe (buna eğitim denir), yeni giriş verileri için çıkış değerlerini tahmin edebiliriz. Buna denetimli öğrenme denir. Modeli, eğitim verileri kullanarak öğreniriz ve görünmeyen test verileri ile modeli test ederiz. Dolayısıyla hem giriş hem de çıkış verileriyle çalışırız. Denetimli öğrenmenin bir örneği, ev fiyatlarını tahmin etmektir. Diğer bir örnek ise bir resimde hangi rakamın, hayvanın veya nesnenin olduğunu belirlemektir.\n",
    "\n",
    "Örnekler:\n",
    "\n",
    "- Regresyon (y Sürekli Değerlidir, Yani Doğrusal Regresyon)\n",
    "- Sınıflandırma (y İkili veya Çoklu Sınıf İçerir, Yani Lojistik Regresyon)"
   ]
  },
  {
   "cell_type": "markdown",
   "metadata": {
    "colab_type": "text",
    "id": "DcB8pW7RvdL8"
   },
   "source": [
    "### Denetimsiz Öğrenme"
   ]
  },
  {
   "cell_type": "markdown",
   "metadata": {
    "colab_type": "text",
    "id": "Ypln4hoGvdP5"
   },
   "source": [
    "- Kümeleme (yani K-aracı)\n",
    "- Boyutsallığın azaltılması (yani PCA)"
   ]
  },
  {
   "cell_type": "markdown",
   "metadata": {
    "colab_type": "text",
    "id": "N0xMMSzdvdTZ"
   },
   "source": [
    "### Yarı Denetimli Öğrenme"
   ]
  },
  {
   "cell_type": "markdown",
   "metadata": {
    "colab_type": "text",
    "id": "73aYxHFSvdXX"
   },
   "source": [
    "Bu algoritmalar, çok miktarda giriş verisinin olduğu ancak yalnızca az miktarda çıkış (etiketli) verisinin olduğu durumlarda kullanılır. Bu sorunlar denetimli ve denetimsiz öğrenmenin ortasında yer alır. Bu nedenle denetimli ve denetimsiz öğrenme teknikleri bir arada kullanılmaktadır. Bunun en güzel örneklerinden biri fotoğraflardaki nesnelerin tanımlanmasıdır. Bazı fotoğraflarda elma veya aslan etiketi bulunur ancak çoğunda etiket yoktur."
   ]
  },
  {
   "cell_type": "markdown",
   "metadata": {
    "colab_type": "text",
    "id": "SeqpfL0Nvdap"
   },
   "source": [
    "### Pekiştirmeli Öğrenme"
   ]
  },
  {
   "cell_type": "markdown",
   "metadata": {},
   "source": [
    "Takviyeli Öğrenme, ödüllendirme sistemi ile davranış psikolojisi tarafından etkilenir. Bunu bir köpek ile oynamak gibi düşünebiliriz. Bir köpeğimiz (terminolojik olarak bir ajan olarak adlandırılır) ve istediği her şeyi yapabileceği bir park (*çevre*) var. Köpek bir sopayla size geri döndüğünde, onu yiyecekle ödüllendirirsiniz. Bir süre sonra, köpek etrafında başka sopalar bulmak için daha iyi yaklaşımlar geliştirmeye başlayacaktır. Bu nedenle, *ödül* sistemi üzerinden öğrenir. Bu yaklaşım, köpeğin kafasındaki takviyeli öğrenme olarak adlandırılır. Bir ajanımız, çevremiz ve ödülümüz var. Denetimli öğrenme ile arasındaki fark, çıktı verilerindedir. Takviyeli öğrenmede, köpek etrafta dolaşırken ödül alıp almayacağını bilmez. Hiçbir zaman hiçbir ödül almayabilir. Ama her ne zaman bulursa, kazanmayı öğrenmiştir. Bu nedenle çıktı verileri bazen daha sonra gelebilir. Denetimli öğrenmede çıktıyı önceden biliriz ve onlara bakarak tahminlerde bulunuruz."
   ]
  },
  {
   "cell_type": "markdown",
   "metadata": {
    "colab_type": "text",
    "id": "Ob8CxWlmw6AW"
   },
   "source": [
    "<img src=\"images/types.png\"/>"
   ]
  },
  {
   "cell_type": "markdown",
   "metadata": {
    "colab_type": "text",
    "id": "OwlL7P802JGS"
   },
   "source": [
    "Dünya üzerinde birçok olgu, genellikle doğrusal regresyon veya sınıflandırma kullanılarak yeterince modellebilir; ancak çoğu ilgi çekici olgu genellikle doğrusal olmayan bir niteliğe sahiptir. Doğrusal olmayan olgularla başa çıkmak için çeşitli doğrusal olmayan modeller geliştirilmiştir. Örneğin, parametrik modeller, verilerin bazı parametrik olmayan fonksiyon sınıfını takip ettiğini varsayarlar (örneğin polinom, üs veya üstel). Bu defterin odaklandığı diğer bir model sınıfı ise yapay sinir ağları (YSA) olarak bilinir. YSA'lar, sinir sisteminin fizyolojik yapısından esinlenerek geliştirilen doğrusal olmayan modellerdir. Bunlar, bir araya getirildiğinde sağlam ve karmaşık doğrusal olmayan işlevleri uygulayabilen basit doğrusal olmayan hesaplamaların bir dizi içerir.\n",
    "\n",
    "1940'lara kadar uzanan, inişler ve çıkışlar, sürprizler ve dönemeçler, arkadaşlar ve rakipler ve başarılar ve başarısızlıklarla dolu büyüleyici bir tarih mevcuttur. Bir zamanlar çirkin ördek yavrusu gibi olan bir fikir, şimdi balonun en güzel kızı olmuştur.\n",
    "\n",
    "<img src='images/nn_timeline.jpg' style='width: 110%'/>"
   ]
  },
  {
   "cell_type": "markdown",
   "metadata": {
    "colab_type": "text",
    "id": "hGucE-yd35gZ"
   },
   "source": [
    "Makine öğreniminde erken çalışmalar, büyük ölçüde beynin o dönemdeki çalışma teorileri tarafından bilgilendirildi. Sahne ilk kez Walter Pitts ve Warren McCulloch tarafından alındı. Onlar, \"eşik mantık birimi\" olarak bilinen bir teknik geliştirmişlerdi ve bu teknik, bir nöronun çalışma şeklini taklit etmek için tasarlanmıştı (bu konu tekrarlayan bir tema olacaktır).\n",
    "\n",
    "Ancak, gerçek anlamda modern sinir ağlarının öncüsü olarak gördüğümüz ilk şey [Frank Rosenblatt'ın](https://en.wikipedia.org/wiki/Frank_Rosenblatt) \"[perceptron](https://en.wikipedia.org/wiki/Perceptron)\" oldu. Döneminde bu şey oldukça etkileyiciydi. Doğru çözüme kesin olarak yaklaşacağını kanıtlayabilen bir öğrenme prosedürü içeriyordu ve harf ve rakamları tanıyabilirdi. Rosenblatt, perceptron'un gerçek yapay zekaya yol açacağına o kadar emindi ki, 1959'da şunları söyledi:\n",
    "\n",
    "Rosenblatt'ın perceptroni oldukça fazla ilgi görmeye başladı ve özellikle bir kişi dikkatini çekti. [Marvin Minsky](https://en.wikipedia.org/wiki/Marvin_Minsky), genellikle yapay zekanın babalarından biri olarak düşünülür ve Minsky, Rosenblatt'ın perceptronunda bir şeylerin ters gittiğini hissetmeye başladı. Minsky, şu sözlerle alıntı yapılmıştır:\n",
    "\n",
    "\n",
    "\n",
    "    Ancak, böyle bir makinenin neleri yapamayacağı konusunda endişelenmeye başladım. Örneğin, 'E'leri 'F'lerden ve '5'leri '6'lardan ayırabilirdi, benzer şeyler yapabilirdi. Ancak bu şekilde bu figürlerin yakınında bunlarla ilişkilendirilmemiş rahatsız edici uyarıcılara geldiğinde tanıma bozuluyordu.\n",
    "\n",
    "Seymor Papert ile birlikte Minsky, Perceptrons adlı bir kitap yazdı ve bu kitap, perceptrona etkili bir şekilde son vererek nöral ağların embriyonik fikrini sona erdirdi. Perceptronun basit özgün-veya (XOR) işlevini öğrenme yeteneğinin olmadığını gösterdiler. Daha da kötüsü, onun böyle bir işlevi öğrenmesinin teorik olarak mümkün olmadığını kanıtladılar, ne kadar uzun süre eğitim verirseniz verin. Şimdi, bu bize şaşırtıcı gelmiyor çünkü perceptron tarafından ima edilen model, lineer bir modeldir ve XOR işlevi nonlineardır, ancak o dönemde bu, nöral ağlar üzerindeki tüm araştırmayı sona erdirmek ve ilk yapay zeka kışını başlatmak için yeterliydi"
   ]
  },
  {
   "cell_type": "markdown",
   "metadata": {},
   "source": [
    "### LR ile tekrar başlayalım\n",
    "\n",
    "\n",
    "Makine öğrenimi problemlerinde, girdi $ X $ ile çıktıyı $ y $ tahmin eden bir fonksiyon $ f $ elde etmek istiyoruz.\n",
    "$$\\begin{equation} y = f(X) \\end{equation}$$\n",
    "Bu $ f $ fonksiyonu, matematik alanında fonksiyon yaklaşımı olarak da bilinen regresyon veya sınıflandırma fonksiyonu olarak adlandırılır.\n",
    "\n",
    "Regresyon problemi temel olarak sürekli bir çıktı $ Y $ tahmin etmek için iyi bir yöntemdir. Ve regresyon probleminde kesirli bir $ Y $ kullanmak da uygundur.\n",
    "Kesirli bir $ Y $ problemin sınıflandırmaya yol açar. Örneğin, \"$ Y $'nin 0 veya 1 olup olmadığı\" gibi.\n",
    "\n",
    "Eğitim verilerinden $(\\mathbf{X}, \\mathbf{y})$ elde edilen $ \\hat{f}$'yi herhangi bir yöntemle hesaplarız ve ardından test verilerini alırız ve onu test ederiz ($\\hat{f}$ ne kadar iyi?).\n",
    "Tabii ki, böyle bir görevi bir ipucu olmadan yapmak son derece zordur, bu nedenle $ f $'yi özel bir özellikle donatarak durumu basitleştiririz. \""
   ]
  },
  {
   "cell_type": "markdown",
   "metadata": {},
   "source": [
    "#### Doğrusal Regresyonda\n",
    "\n",
    "En saçma varsayım $ f $'ın doğrusal olmasıdır.\n",
    "With $ X \\in \\mathbb{R}^p$ and $y \\in \\mathbb{R} $, we can write the linear regression function as\n",
    "$$\\begin{align} y &= f(X) \\\\ &= \\beta_0 + \\beta_1 X_1 + \\cdots + \\beta_p X_p \\\\ &= \\beta^T X, \\end{align}$$\n",
    "burada kısaca, $ X $ ve $ \\beta $ sırasıyla kesmeyi içeren $ (p+1) $-vektörüdür.\n",
    "Şimdi $ f $'ı tahmin etmek, bulmayla eşdeğerdir $ \\beta $.Abartılı bir ifadeyle doğrusal regresyon, nokta bulutunu görmeniz ve uygun düz çizginizi çizmenizdir. Doğrusal regresyon uyumu $ \\hat{f} $ en küçük kareler ile hesaplanabilir.\n",
    "\n",
    "İşte en basit örnek.\n",
    "$$\\begin{equation} Y = \\beta_0 + \\beta_1 X \\end{equation}$$"
   ]
  },
  {
   "cell_type": "code",
   "execution_count": 1,
   "metadata": {},
   "outputs": [],
   "source": [
    "import numpy as np\n",
    "import csv\n",
    "import matplotlib\n",
    "import matplotlib.pyplot as plt\n",
    "from mpl_toolkits.mplot3d import Axes3D"
   ]
  },
  {
   "cell_type": "code",
   "execution_count": 2,
   "metadata": {},
   "outputs": [
    {
     "name": "stdout",
     "output_type": "stream",
     "text": [
      "Y = 0.132555 + 0.009174X\n"
     ]
    },
    {
     "data": {
      "image/png": "[encoded data removed]",
      "text/plain": [
       "<Figure size 640x480 with 1 Axes>"
      ]
     },
     "metadata": {},
     "output_type": "display_data"
    }
   ],
   "source": [
    "\"\"\"1D doğrusal regresyon için en basit örnek\"\"\"\n",
    "sample_size = 500\n",
    "sample_x = np.arange(0, 100, 100/sample_size)\n",
    "sample_y_true = np.sin(sample_x/10)/2 + sample_x*.01\n",
    "sample_y = sample_y_true + np.random.randn(sample_size)/4\n",
    "\n",
    "fig0 = plt.figure(0)\n",
    "ax0 = fig0.add_subplot(1, 1, 1)\n",
    "ax0.plot(sample_x, sample_y, 'o')\n",
    "\n",
    "# 1D doğrusal regresyonun uygulanması\n",
    "mat_1x = np.vstack((np.ones(sample_size), sample_x)).T\n",
    "hat_beta = np.linalg.solve((mat_1x.T @ mat_1x),\n",
    "                              (mat_1x.T @ sample_y))\n",
    "\n",
    "# Uygunluğu hesaplayın\n",
    "hat_y = mat_1x @ hat_beta\n",
    "\n",
    "# Uygunluğu planlayın\n",
    "ax0.plot(sample_x, hat_y, linewidth=5)\n",
    "ax0.set_title('1Dde Doğrusal Regresyon')\n",
    "print('Y = {:5f} + {:5f}X'.format(*hat_beta))"
   ]
  },
  {
   "cell_type": "markdown",
   "metadata": {},
   "source": [
    "Yukarıdaki resimde hesaplanan düz çizgi ya iyi ya da kötü görünüyor.\n",
    "\n",
    "1. Satır orijinal verileri açıklıyor mu? Kötü. Aslında modeli seçerken yanlış yaptık, çünkü eğri verileri gördük ama düz çizgiye uyduk. (Yüksek önyargı)\n",
    "2. Çizgi yeni bir veriyi ne kadar iyi tahmin ediyor? İyi. (Düşük varyans)\n",
    "\n",
    "Düz çizgi basittir ve basitlik iyidir çünkü\n",
    "\n",
    "- hesaplamayı kolaylaştırır,\n",
    "- Yorumlamayı kolaylaştırır ve\n",
    "- kıt verilerle iyi çalışır."
   ]
  },
  {
   "cell_type": "markdown",
   "metadata": {},
   "source": [
    "#### Polinom Regresyon\n",
    "\n",
    "Birçok ders kitabının öncelikle doğrusal regresyonla ilgilenmesinin bir nedeni, aynı yöntemle daha karmaşık bir şekilde uyum sağlamamıza olanak sağlamasıdır. Fikir basit. Düz bir çizgi yerine ikinci dereceden bir eğri sığdırmak istediğimizi varsayalım. Daha sonra orijinal doğrusal modeli değiştiriyoruz\n",
    "\n",
    "$$\\begin{equation} Y = \\beta_0 + \\beta_1 X \\end{equation}$$\n",
    "ikinci dereceden terimi şu şekilde ekleyerek ikinci dereceden modele\n",
    "$$\\begin{equation} Y = \\beta_0 + \\beta_1 X + \\beta_2 X^2. \\end{equation}$$\n",
    "$ \\beta_0, \\beta_1, \\beta_2 $ tahminini elde etmek için karşılık gelen eğitim verileri aynı şekilde değişir.\n",
    "$$\\begin{equation} \\mathbf{X} = \\begin{bmatrix} 1 & x_1 \\\\ 1 & x_2 \\\\ \\vdots & \\vdots \\\\ 1 & x_N \\end{bmatrix} \\quad\\Longrightarrow\\quad \\mathbf{X} = \\begin{bmatrix} 1 & x_1 & x_1^2 \\\\ 1 & x_2 & x_2^2 \\\\ \\vdots & \\vdots & \\vdots \\\\ 1 & x_N & x_N^2 \\end{bmatrix}, \\end{equation}$$\n",
    "ve son hesaplama düz doğrusal regresyonla yapılır."
   ]
  },
  {
   "cell_type": "code",
   "execution_count": 3,
   "metadata": {},
   "outputs": [
    {
     "name": "stdout",
     "output_type": "stream",
     "text": [
      "Y = 0.423316 + -0.008342X + 0.000176X^2\n",
      "Y = 0.654481 + -0.036277X + 0.000876X^2 + -0.000005X^3\n"
     ]
    },
    {
     "data": {
      "image/png": "[encoded data removed]",
      "text/plain": [
       "<Figure size 1000x500 with 2 Axes>"
      ]
     },
     "metadata": {},
     "output_type": "display_data"
    }
   ],
   "source": [
    "import numpy as np\n",
    "import matplotlib.pyplot as plt\n",
    "\n",
    "\"\"\"1 boyutlu polinom regresyonu\"\"\"\n",
    "\n",
    "fig1 = plt.figure(1, figsize=(10, 5))\n",
    "ax11 = fig1.add_subplot(1, 2, 1)\n",
    "ax11.plot(sample_x, sample_y, 'o')\n",
    "ax12 = fig1.add_subplot(1, 2, 2)\n",
    "ax12.plot(sample_x, sample_y, 'o')\n",
    "\n",
    "# 1D polinom regresyonunun uygulanması (ikinci dereceden/kübik)\n",
    "mat_1x2 = np.vstack((np.ones(sample_size),\n",
    "                     sample_x, sample_x**2)).T\n",
    "hat_beta2 = np.linalg.solve((mat_1x2.T @ mat_1x2),\n",
    "                            (mat_1x2.T @ sample_y))\n",
    "mat_1x3 = np.hstack((mat_1x2,\n",
    "                     (sample_x**3).reshape(-1, 1)))\n",
    "hat_beta3 = np.linalg.solve((mat_1x3.T @ mat_1x3),\n",
    "                            (mat_1x3.T @ sample_y))\n",
    "\n",
    "# Uyumları hesaplayın\n",
    "hat_y2 = mat_1x2 @ hat_beta2\n",
    "hat_y3 = mat_1x3 @ hat_beta3\n",
    "\n",
    "ax11.plot(sample_x, hat_y2, linewidth=5)\n",
    "ax11.set_title('Polinom Regresyon (İkinci Dereceden)')\n",
    "ax12.plot(sample_x, hat_y3, linewidth=5)\n",
    "ax12.set_title('Polinom Regresyon (Kübik)')\n",
    "print('Y = {:5f} + {:5f}X + {:5f}X^2'.format(*hat_beta2))\n",
    "print('Y = {:5f} + {:5f}X + {:5f}X^2 + {:5f}X^3'.format(*hat_beta3))"
   ]
  },
  {
   "cell_type": "markdown",
   "metadata": {},
   "source": [
    "### Sinir Ağları (Doğrusallığın Ötesine Geçmek)\n",
    "\n",
    "- Ana fikir, girdilerin doğrusal kombinasyonlarını türetilmiş özellikler olarak çıkarmak ve ardından hedefi bu özelliklerin doğrusal olmayan bir fonksiyonu olarak modellemektir. \"Sinir ağları\" adının, bunların ilk olarak insan beyni için modeller olarak geliştirilmiş olmasından kaynaklandığını belirtelim. Her birim bir nöronu, bağlantılar ise sinapsları temsil eder.\n",
    "\n",
    "<img src=\"images/intro_nn.png\"/>\n",
    "\n",
    "\n",
    "\n",
    "#### Tek katmanlı algılayıcı\n",
    "\n",
    "Sinir ağları terimi, geniş bir model ve öğrenme yöntemleri sınıfını kapsayacak şekilde gelişmiştir. Burada, bazen **tek gizli katmanlı geri yayılım ağı veya tek katmanlı algılayıcı** olarak da adlandırılan, en yaygın kullanılan \"vanilya\" sinir ağını açıklıyoruz. Bkz. [Sinir Ağı Mimarileri](https://towardsdatascience.com/the-mostly-complete-chart-of-neural-networks-explained-3fb6f2367464)\n",
    "\n",
    "Sinir ağlarını çevreleyen, onların büyülü ve gizemli görünmesine neden olan çok fazla abartılı reklam var. Bu bölümde açıkça belirttiğimiz gibi bunlar sadece doğrusal olmayan istatistiksel modellerdir.\n",
    "\n",
    "Bir sinir ağı, tipik olarak ŞEKİL 11.2'deki gibi bir ağ diyagramı ile temsil edilen, iki aşamalı bir regresyon veya sınıflandırma modelidir. (İstatistiksel Öğrenmenin Unsurları'ndan) Bu ağ hem regresyona hem de sınıflandırmaya uygulanır.\n",
    "\n",
    "<img src='images/11.2.png' style='width: 60%'/>\n",
    "\n",
    "\n",
    "\n",
    "* Regresyon için genellikle $K=1$ ve üstte yalnızca bir $Y_1$ çıkış birimi vardır.\n",
    "  Bununla birlikte, bu ağlar birden fazla niceliksel yanıtı kesintisiz bir şekilde yönetebilir, bu nedenle genel durumla ilgileneceğiz.\n",
    "* $K$ sınıfı sınıflandırma için, üstte $K$ birimleri vardır ve $k$th birimi $k$ sınıfının olasılığını modeller. Her biri $k$th sınıfı için 0-1 değişken olarak kodlanan $K$ hedef ölçümleri $Y_k$ vardır."
   ]
  },
  {
   "cell_type": "markdown",
   "metadata": {},
   "source": [
    "### $Z$\n",
    "\n",
    "Türetilmiş $Z_m$ özellikleri, girişlerin doğrusal kombinasyonlarından oluşturulur ve hedef $Y_k$, $Z_m$'ın doğrusal kombinasyonlarının bir fonksiyonu olarak modellenir,\n",
    "\n",
    "\\begin{align}\n",
    "Z_m &= \\sigma(\\alpha_{0m} + \\alpha_m^T X), & m=1,\\cdots,M, \\\\\n",
    "T_k &= \\beta_{0k} + \\beta_k^T Z, & k=1,\\cdots,K, \\\\\n",
    "f_k(X) &= g_k(T), & k=1,\\cdots,K.\n",
    "\\end{align}"
   ]
  },
  {
   "cell_type": "markdown",
   "metadata": {},
   "source": [
    "### Sigmoid\n",
    "\n",
    "Aktivasyon fonksiyonu $\\sigma(v)$ genellikle _sigmoid_ olarak seçilir.\n",
    "\n",
    "\\begin{equation}\n",
    "\\sigma(v) = \\frac{1}{1+e^{-v}}.\n",
    "\\end{equation}\n",
    "\n",
    "Sigmoid fonksiyonunun grafiği için ŞEKİL 11.3'e bakınız.\n",
    "\n",
    "<img src='images/11.3.png' style='width: 70%'/>\n"
   ]
  },
  {
   "cell_type": "code",
   "execution_count": 4,
   "metadata": {},
   "outputs": [],
   "source": [
    "\"\"\"ŞEKİL 11.3. Sigmoid fonksiyonunun grafiği.\n",
    "Ölçek parametreleri aktivasyon oranını kontrol eder,\n",
    "ve büyük s'nin v=0'da sert aktivasyon anlamına geldiğini görebiliriz.\n",
    "Sigmoid(s(v-v0))'nin aktivasyon eşiğini 0'dan v0'a kaydırdığını unutmayın.\"\"\"\n",
    "import numpy as np\n",
    "import matplotlib.pyplot as plt"
   ]
  },
  {
   "cell_type": "code",
   "execution_count": 5,
   "metadata": {},
   "outputs": [],
   "source": [
    "def sigmoid(x: np.ndarray, s: float) -> np.ndarray:\n",
    "    return 1 / (1 + np.exp(-s * x))"
   ]
  },
  {
   "cell_type": "code",
   "execution_count": 6,
   "metadata": {},
   "outputs": [
    {
     "data": {
      "image/png": "[encoded data removed]",
      "text/plain": [
       "<Figure size 1000x500 with 1 Axes>"
      ]
     },
     "metadata": {},
     "output_type": "display_data"
    }
   ],
   "source": [
    "import numpy as np\n",
    "import matplotlib.pyplot as plt\n",
    "\n",
    "def sigmoid(x: np.ndarray, s: float) -> np.ndarray:\n",
    "    return 1 / (1 + np.exp(-s * x))\n",
    "\n",
    "x = np.linspace(-10, 10, 200)\n",
    "y_1 = sigmoid(x, 1)\n",
    "y_half = sigmoid(x, 0.5)\n",
    "y_10 = sigmoid(x, 10)\n",
    "\n",
    "fig = plt.figure(0, figsize=(10, 5))\n",
    "ax = fig.add_subplot(1, 1, 1)\n",
    "ax.plot(x, y_1, color='C3')\n",
    "ax.plot(x, y_half, '--', color='C0')\n",
    "ax.plot(x, y_10, '--', color='C4')\n",
    "ax.set_xlabel('v')\n",
    "ax.set_ylabel('sigmoid')\n",
    "plt.show()"
   ]
  },
  {
   "cell_type": "markdown",
   "metadata": {},
   "source": [
    "### Sinir Ağlarını Yerleştirme\n",
    "\n",
    "Sinir ağı modelinin, genellikle _ağırlıklar_ olarak adlandırılan bilinmeyen parametreleri vardır ve bunlar için, modelin eğitim verilerine iyi uyum sağlamasını sağlayacak değerler ararız.\n",
    "\n",
    "Ağırlıkların tamamını $\\theta$ ile gösteririz;\n",
    "\n",
    "\\begin{align}\n",
    "\\{ \\alpha_{0m}, \\alpha_m : m=1,2,\\cdots,M \\} & & M(p+1) \\text{ weights}, \\\\\n",
    "\\{ \\beta_{0k}, \\beta_k : k=1,2,\\cdots,K \\} & & K(M+1) \\text{ weights}.\n",
    "\\end{align}"
   ]
  },
  {
   "cell_type": "markdown",
   "metadata": {},
   "source": [
    "Regresyon için uyum ölçüsü olarak hataların karelerinin toplamını kullanırız (hata fonksiyonu)\n",
    "\n",
    "\\begin{equation}\n",
    "R(\\theta) = \\sum_{k=1}^K \\sum_{i=1}^N (y_{ik} - f_k(x_i))^2.\n",
    "\\end{equation}\n",
    "\n",
    "Sınıflandırma için ya karesel hata ya da çapraz entropi (sapma) kullanırız\n",
    "\n",
    "\\begin{equation}\n",
    "R(\\theta) = -\\sum_{i=1}^N \\sum_{k=1}^K y_{ik}\\log f_k(x_i),\n",
    "\\end{equation}\n",
    "\n",
    "ve karşılık gelen sınıflandırıcı\n",
    "\n",
    "\\begin{equation}\n",
    "G(x) = \\arg\\max_k f_k(x).\n",
    "\\end{equation}\n",
    "\n",
    "Softmax aktivasyon fonksiyonu ve çapraz entropi hata fonksiyonu ile sinir ağı modeli, gizli birimlerde tam olarak doğrusal bir lojistik regresyondur ve tüm parametreler maksimum olasılığa göre tahmin edilir."
   ]
  },
  {
   "cell_type": "markdown",
   "metadata": {},
   "source": [
    "### Geri yayılım = gradyan inişi\n",
    "\n",
    "$R(\\theta)$'ı en aza indirmeye yönelik genel yaklaşım, bu ayarda _back-propagation_ adı verilen gradyan inişidir. Modelin kompozisyon biçiminden dolayı gradyan, farklılaşma için zincir kuralı kullanılarak kolaylıkla elde edilebilir.\n",
    "\n",
    "Bu, ağ üzerinde ileri ve geri tarama yapılarak, yalnızca her birime ait yerel miktarların takibi yapılarak hesaplanabilir."
   ]
  },
  {
   "cell_type": "markdown",
   "metadata": {},
   "source": [
    "### Geri yayılımın avantajları\n",
    "\n",
    "Geri yayılımın avantajları basit ve yerel doğasıdır. Geri yayılım algoritmasında, her gizli birim yalnızca bağlantıyı paylaşan birimlere bilgi iletir ve bu birimlerden bilgi alır. Dolayısıyla paralel mimarili bir bilgisayarda verimli bir şekilde uygulanabilir."
   ]
  },
  {
   "cell_type": "markdown",
   "metadata": {},
   "source": [
    "## Python'da Sıfırdan Sinir Ağı\n",
    "\n",
    "Sıfırdan 3 katmanlı basit bir sinir ağını hayata geçireceğiz. Bir ağı en az bir kez sıfırdan hayata geçirmek son derece değerli bir uygulamadır. Sinir ağlarının nasıl çalıştığını anlamanıza yardımcı olur ve bu, etkili modeller tasarlamak için çok önemlidir.\n",
    "\n",
    "\n",
    "<img src=\"images/nn.png\" style='width: 40%'/>\n",
    "\n",
    "<img src=\"images/bpro.png\" style='width: 40%'/>"
   ]
  },
  {
   "cell_type": "markdown",
   "metadata": {},
   "source": [
    "— — — — — — — — — — — — —\n",
    "\n",
    "Tipik bir eğitim senaryosu aşağıdaki adımlara sahiptir:\n",
    "\n",
    "- Ağı tanımlayın\n",
    "- Parametreleri başlat\n",
    "- Girişler üzerinde döngü\n",
    "- Çıkışı almak için girişi ağ üzerinden iletin\n",
    "- Çıkış ve etiket ile kaybı hesaplayın\n",
    "- Arka pervane gradyanı\n",
    "- Gradyan inişiyle parametreleri güncelleyin.\n",
    "\n",
    "\n",
    "<img src='images/nn-3-layer-network.png' style='width: 55%'/>"
   ]
  },
  {
   "cell_type": "code",
   "execution_count": 7,
   "metadata": {},
   "outputs": [
    {
     "name": "stdout",
     "output_type": "stream",
     "text": [
      "[[0.96097289]\n",
      " [0.95757682]\n",
      " [0.05777677]]\n"
     ]
    }
   ],
   "source": [
    "import numpy as np\n",
    "\n",
    "X=np.array([[1,0,1,0],[1,0,1,1],[0,1,0,1]])\n",
    "\n",
    "\n",
    "y=np.array([[1],[1],[0]])\n",
    "\n",
    "def sigmoid (x):\n",
    "    return 1/(1 + np.exp(-x))\n",
    "\n",
    "def derivatives_sigmoid(x):\n",
    "    return x * (1 - x)\n",
    "\n",
    "epoch=500 # Setting training iterations\n",
    "lr=0.5 #Setting learning rate\n",
    "inputlayer_neurons = X.shape[1] #number of features in data set\n",
    "hiddenlayer_neurons = 5 #number of hidden layers neurons\n",
    "output_neurons = 1 #number of neurons at output layer\n",
    "\n",
    "#weight and bias initialization\n",
    "wh=np.random.uniform(size=(inputlayer_neurons,hiddenlayer_neurons))\n",
    "bh=np.random.uniform(size=(1,hiddenlayer_neurons))\n",
    "wout=np.random.uniform(size=(hiddenlayer_neurons,output_neurons))\n",
    "bout=np.random.uniform(size=(1,output_neurons))\n",
    "\n",
    "for i in range(epoch):\n",
    "    #Forward Propogation\n",
    "    hidden_layer_input1=np.dot(X,wh)\n",
    "    hidden_layer_input=hidden_layer_input1 + bh\n",
    "    hiddenlayer_activations = sigmoid(hidden_layer_input)\n",
    "    output_layer_input1=np.dot(hiddenlayer_activations,wout)\n",
    "    output_layer_input= output_layer_input1+ bout\n",
    "    output = sigmoid(output_layer_input)\n",
    "\n",
    "    #Backpropagation\n",
    "    E = y-output\n",
    "    slope_output_layer = derivatives_sigmoid(output)\n",
    "    slope_hidden_layer = derivatives_sigmoid(hiddenlayer_activations)\n",
    "    d_output = E * slope_output_layer\n",
    "    Error_at_hidden_layer = d_output.dot(wout.T)\n",
    "    d_hiddenlayer = Error_at_hidden_layer * slope_hidden_layer\n",
    "    wout += hiddenlayer_activations.T.dot(d_output) *lr\n",
    "    bout += np.sum(d_output, axis=0,keepdims=True) *lr\n",
    "    wh += X.T.dot(d_hiddenlayer) *lr\n",
    "    bh += np.sum(d_hiddenlayer, axis=0,keepdims=True) *lr\n",
    "\n",
    "print (output)\n",
    "\n"
   ]
  },
  {
   "cell_type": "code",
   "execution_count": 8,
   "metadata": {},
   "outputs": [
    {
     "data": {
      "text/plain": [
       "array([[ 0.71273452,  0.82648752,  0.18289037,  1.33666737, -1.82347165],\n",
       "       [ 0.054209  , -0.76462869,  0.32789653, -0.63777055,  2.05937739],\n",
       "       [ 0.6923873 ,  0.82506026,  0.10732317,  0.90558165, -1.7959843 ],\n",
       "       [ 0.56368249,  0.16504334,  0.43583448, -0.05550196,  0.65469064]])"
      ]
     },
     "execution_count": 8,
     "metadata": {},
     "output_type": "execute_result"
    }
   ],
   "source": [
    "wh"
   ]
  },
  {
   "cell_type": "markdown",
   "metadata": {},
   "source": [
    "## Scikit-Learn ile Sinir Ağları\n",
    "\n",
    "https://scikit-learn.org/stable/modules/neural_networks_supervised.html"
   ]
  },
  {
   "cell_type": "code",
   "execution_count": 9,
   "metadata": {},
   "outputs": [],
   "source": [
    "%matplotlib inline\n",
    "from sklearn.neural_network import MLPRegressor\n",
    "import numpy as np\n",
    "import matplotlib.pyplot as plt"
   ]
  },
  {
   "cell_type": "code",
   "execution_count": 10,
   "metadata": {},
   "outputs": [
    {
     "data": {
      "image/png": "[encoded data removed]",
      "text/plain": [
       "<Figure size 640x480 with 1 Axes>"
      ]
     },
     "metadata": {},
     "output_type": "display_data"
    }
   ],
   "source": [
    "x = np.arange(-1.5, 1.5, 0.01).reshape(-1, 1)\n",
    "y = np.sin(2 * np.pi * x).ravel()\n",
    "\n",
    "fig = plt.figure()\n",
    "ax1 = fig.add_subplot(111)\n",
    "ax1.scatter(x, y, s=1, c='b', marker=\"s\", label='real')\n",
    "plt.show()"
   ]
  },
  {
   "cell_type": "code",
   "execution_count": 11,
   "metadata": {},
   "outputs": [
    {
     "data": {
      "image/png": "[encoded data removed]",
      "text/plain": [
       "<Figure size 640x480 with 1 Axes>"
      ]
     },
     "metadata": {},
     "output_type": "display_data"
    }
   ],
   "source": [
    "nn = MLPRegressor(\n",
    "    hidden_layer_sizes=(4,),  activation='tanh', solver='lbfgs', alpha=0.001, batch_size='auto',\n",
    "    learning_rate='constant', learning_rate_init=0.1, power_t=0.5, max_iter=5000, shuffle=True,\n",
    "    random_state=9, tol=0.0001, verbose=False, warm_start=False, momentum=0.9, nesterovs_momentum=True,\n",
    "    early_stopping=False, validation_fraction=0.1, beta_1=0.9, beta_2=0.999, epsilon=1e-08)\n",
    "\n",
    "n = nn.fit(x, y)\n",
    "test_x = np.arange(-1.5, 1.5, 0.05).reshape(-1, 1)\n",
    "test_y = nn.predict(test_x)\n",
    "fig = plt.figure()\n",
    "ax1 = fig.add_subplot(111)\n",
    "ax1.scatter(x, y, s=1, c='b', marker=\"s\", label='real')\n",
    "ax1.scatter(test_x,test_y, s=10, c='r', marker=\"o\", label='NN Prediction')\n",
    "plt.show()"
   ]
  },
  {
   "cell_type": "markdown",
   "metadata": {},
   "source": [
    "## Derin Sinir Ağları ile Özellik Çıkarma ve Boyut Azaltma"
   ]
  },
  {
   "cell_type": "markdown",
   "metadata": {},
   "source": [
    "### Otomatik kodlayıcılar"
   ]
  },
  {
   "cell_type": "markdown",
   "metadata": {},
   "source": [
    "Otomatik kodlayıcılar denetimsiz derin öğrenme modellerinden biridir. Otomatik kodlayıcının amacı boyut azaltma ve özellik keşfidir. Bir otomatik kodlayıcı kendi girişini tahmin edecek şekilde eğitilir ancak modelin kimlik eşlemesini öğrenmesini önlemek için gizli birimlere bazı kısıtlamalar uygulanır.\n",
    "\n",
    "\"Otomatik kodlama\", sıkıştırma ve açma işlevlerinin 1) verilere özgü, 2) kayıplı olduğu ve 3) bir insan tarafından tasarlanmak yerine örneklerden otomatik olarak öğrenildiği bir veri sıkıştırma algoritmasıdır. Ek olarak, “otomatik kodlayıcı” teriminin kullanıldığı hemen hemen tüm bağlamlarda, sıkıştırma ve açma fonksiyonları sinir ağları ile uygulanmaktadır.\n",
    "\n",
    "Bir otomatik kodlayıcı oluşturmak için üç şeye ihtiyaç vardır: bir kodlama işlevi, bir kod çözme işlevi ve verilerinizin sıkıştırılmış gösterimi ile sıkıştırılmamış gösterimi arasındaki bilgi kaybı miktarı arasındaki mesafe işlevi (yani bir \"kayıp\" işlevi).\n",
    "\n",
    "Otomatik kodlayıcının en basit biçimi, $x$ girişinin gizli katmana beslendiği ve gizli katmanın çıktısının daha sonra orijinal girişleri yeniden oluşturmak için beslendiği ileri beslemeli bir sinir ağıdır. Basit bir otomatik kodlayıcı aşağıda gösterilmiştir:\n",
    "\n",
    "<center><img src = \"images/autoencoder.png\" width = \"650\" alt = \"Basit bir Otomatik Kodlayıcı.\"></center>\n",
    "<center><img src = \"images/autoencoder2.png\" width = \"850\" alt = \"Basit bir Otomatik Kodlayıcı.\"></center>"
   ]
  },
  {
   "cell_type": "markdown",
   "metadata": {},
   "source": [
    "Otomatik kodlayıcılar, verinin en önemli özelliklerini birleştirerek beslendikleri veriyi daha düşük boyutlu bir alana haritalar. Orijinal verileri daha kompakt bir gösterime kodlar. Ayrıca verilerin nasıl birleştirileceğine de karar verir, dolayısıyla Autoencoder'daki otomatiktir. Bu kodlanmış özelliklere gizli değişkenler diyoruz.\n",
    "\n",
    "Bunu yapmanın birkaç nedeni yararlı olabilir:\n",
    "\n",
    "1. Boyutsallığın azaltılması eğitim süresini azaltabilir.\n",
    "1. Gizli özellik gösterimlerinin kullanılması model performansını artırabilir.\n",
    "\n",
    "\n",
    "Otomatik Kodlayıcı modeli gibi Temel Bileşenler Analizi (PCA) da boyut azaltma tekniği olarak yaygın şekilde kullanılır. Ancak PCA, girişi Otomatik Kodlayıcıdan farklı bir şekilde eşler.\n",
    "\n",
    "Hem PCA hem de Otomatik Kodlayıcı, kayıplı bir veri sıkıştırma algoritması olarak düşünülebilir. Verilerin kalitesi mükemmel şekilde korunmaz; orijinal verilerin bir kısmı kaybolur. Özellik seçiminde durumun farklı olduğuna dikkat edin. Özellik seçme algoritmaları, verinin bazı özelliklerini atar ve göze çarpan özellikleri korur. Tuttukları özellikler genellikle nitelik ile hedef etiket arasındaki korelasyon gibi istatistiksel nedenlerle seçilir. Otomatik kodlayıcı, bir özellik çıkarma algoritması olarak verileri yeni bir alana yansıtır.\n",
    "\n",
    "Önce PCA'nın nasıl çalıştığını özetleyelim."
   ]
  },
  {
   "cell_type": "markdown",
   "metadata": {},
   "source": [
    "### PCA"
   ]
  },
  {
   "cell_type": "markdown",
   "metadata": {},
   "source": [
    "PCA, girdi verilerini verinin kovaryans matrisinin özvektörlerine yansıtarak çalışır. Kovaryans matrisi, verilerin varyansını ve her değişkenin birbirine göre ne kadar değiştiğini ölçer. Özvektörler basitçe doğrusal bir dönüşüm boyunca yayılmalarını koruyan vektörlerdir, yani dönüşümden önce ve sonra aynı yöne işaret ederler. Kovaryans matrisi, orijinal temel vektörleri, her değişken arasındaki kovaryans yönünde yönlendirilecek şekilde dönüştürür. Daha basit bir ifadeyle, özvektör, verileri gerçekte dönüştürmeden orijinal verileri farklı bir açıdan görüntülemek için oryantasyonunu yeniden çerçevelememize olanak tanır. Verileri bu vektörlere yansıttığımızda esasen her değişkenin en fazla varyansa yol açan bileşenini çıkarıyoruz. Daha sonra kovaryans matrisinin özdeğerlerini kullanarak baskın eksenleri seçebiliriz çünkü bunlar karşılık gelen özvektör yönünde varyansın büyüklüğünü yansıtır.\n",
    "\n",
    "<center><img src=\"https://drive.google.com/uc?export=view&id=1ifTzuIC47I1DTP88cwUvtRQtG-_5OQIy\" width=\"450\" ​​alt=\"Basit bir Otomatik Kodlayıcı.\"></center>\n",
    "\n",
    "Bu projeksiyonlar, her temel vektörün en fazla varyansı kapsadığı yeni bir alanla sonuçlanır (yani, en büyük özdeğere sahip özvektör üzerindeki projeksiyonlar en fazla varyansa sahiptir, ikinci özvektördekiler ikinci en fazla varyansa sahiptir, vb.). Bu yeni temel vektörlere temel bileşenler adı verilir. Temel bileşenlerin maksimum varyans yönünde yönlendirilmesini istiyoruz çünkü nitelik değerlerindeki daha büyük varyans, daha iyi tahmin yeteneklerine yol açabilir. Örneğin, iki özellik göz önüne alındığında bir arabanın fiyatını tahmin etmeye çalıştığınızı varsayalım: renk ve marka. Diyelim ki bütün arabaların rengi aynı ama aralarında pek çok marka var. Bu örnekte bir arabanın fiyatını rengine göre tahmin etmek (sıfır varyansa sahip bir özellik) neredeyse imkansızdır. Bununla birlikte, daha fazla değişkenliğe sahip bir özellik olan markayı ele alırsak, daha iyi fiyat tahminleri ortaya çıkarabiliriz çünkü Audi ve Ferrari'ler, Honda ve Toyota'lardan daha yüksek fiyatlı olma eğilimindedir. PCA'dan kaynaklanan temel bileşenler, girdi değişkenlerinin  doğrusal kombinasyonlarıdır. Bu temel bileşenlerin doğrusal doğası aynı zamanda dönüştürülmüş verileri yorumlamamıza da olanak tanır."
   ]
  },
  {
   "cell_type": "markdown",
   "metadata": {},
   "source": [
    "**PCA'nın Artıları**:\n",
    "\n",
    "* Boyutsallığı azaltır\n",
    "* Yorumlanabilir\n",
    "* Hızlı çalışma süresi\n",
    "\n",
    "**PCA Eksileri**:\n",
    "* Doğrusal olmayan özellik gösterimlerini öğrenememek\n",
    "\n",
    "**Otomatik Kodlayıcının Avantajları**:\n",
    "\n",
    "* Doğrusal olmayan özellik gösterimlerini öğrenebilme\n",
    "* Boyutsallığı azaltın\n",
    "\n",
    "**Otomatik Kodlayıcı Eksileri**:\n",
    "\n",
    "* Eğitilmesi hesaplama açısından pahalıdır\n",
    "* Son derece yorumlanamaz\n",
    "* Temel matematik daha karmaşıktır\n",
    "* Aşırı uyum eğilimi, ancak bu durum düzenlileştirme yoluyla hafifletilebilir"
   ]
  },
  {
   "cell_type": "markdown",
   "metadata": {},
   "source": [
    "## Vitrin 1 - Hisse senedinin hareketini tahmin etmek için Sinir Ağları"
   ]
  },
  {
   "cell_type": "code",
   "execution_count": 12,
   "metadata": {},
   "outputs": [],
   "source": [
    "import numpy as np\n",
    "import pandas as pd\n",
    "import yfinance as yf\n",
    "import matplotlib.pyplot as plt\n",
    "import random\n",
    "from sklearn.preprocessing import StandardScaler"
   ]
  },
  {
   "cell_type": "code",
   "execution_count": 13,
   "metadata": {},
   "outputs": [
    {
     "name": "stdout",
     "output_type": "stream",
     "text": [
      "[*********************100%***********************]  1 of 1 completed\n"
     ]
    },
    {
     "data": {
      "text/html": [
       "<div>\n",
       "<style scoped>\n",
       "    .dataframe tbody tr th:only-of-type {\n",
       "        vertical-align: middle;\n",
       "    }\n",
       "\n",
       "    .dataframe tbody tr th {\n",
       "        vertical-align: top;\n",
       "    }\n",
       "\n",
       "    .dataframe thead th {\n",
       "        text-align: right;\n",
       "    }\n",
       "</style>\n",
       "<table border=\"1\" class=\"dataframe\">\n",
       "  <thead>\n",
       "    <tr style=\"text-align: right;\">\n",
       "      <th></th>\n",
       "      <th>Open</th>\n",
       "      <th>High</th>\n",
       "      <th>Low</th>\n",
       "      <th>Close</th>\n",
       "    </tr>\n",
       "    <tr>\n",
       "      <th>Date</th>\n",
       "      <th></th>\n",
       "      <th></th>\n",
       "      <th></th>\n",
       "      <th></th>\n",
       "    </tr>\n",
       "  </thead>\n",
       "  <tbody>\n",
       "    <tr>\n",
       "      <th>2018-01-02</th>\n",
       "      <td>20.799999</td>\n",
       "      <td>21.474001</td>\n",
       "      <td>20.733334</td>\n",
       "      <td>21.368668</td>\n",
       "    </tr>\n",
       "    <tr>\n",
       "      <th>2018-01-03</th>\n",
       "      <td>21.400000</td>\n",
       "      <td>21.683332</td>\n",
       "      <td>21.036667</td>\n",
       "      <td>21.150000</td>\n",
       "    </tr>\n",
       "    <tr>\n",
       "      <th>2018-01-04</th>\n",
       "      <td>20.858000</td>\n",
       "      <td>21.236668</td>\n",
       "      <td>20.378668</td>\n",
       "      <td>20.974667</td>\n",
       "    </tr>\n",
       "    <tr>\n",
       "      <th>2018-01-05</th>\n",
       "      <td>21.108000</td>\n",
       "      <td>21.149332</td>\n",
       "      <td>20.799999</td>\n",
       "      <td>21.105333</td>\n",
       "    </tr>\n",
       "    <tr>\n",
       "      <th>2018-01-08</th>\n",
       "      <td>21.066668</td>\n",
       "      <td>22.468000</td>\n",
       "      <td>21.033333</td>\n",
       "      <td>22.427334</td>\n",
       "    </tr>\n",
       "  </tbody>\n",
       "</table>\n",
       "</div>"
      ],
      "text/plain": [
       "                 Open       High        Low      Close\n",
       "Date                                                  \n",
       "2018-01-02  20.799999  21.474001  20.733334  21.368668\n",
       "2018-01-03  21.400000  21.683332  21.036667  21.150000\n",
       "2018-01-04  20.858000  21.236668  20.378668  20.974667\n",
       "2018-01-05  21.108000  21.149332  20.799999  21.105333\n",
       "2018-01-08  21.066668  22.468000  21.033333  22.427334"
      ]
     },
     "execution_count": 13,
     "metadata": {},
     "output_type": "execute_result"
    }
   ],
   "source": [
    "df = yf.download('THYAO.IS', start='2018-01-01', end='2023-01-01')\n",
    "\n",
    "df = df.dropna()\n",
    "df = df[['Open', 'High', 'Low', 'Close']]\n",
    "df.head()\n"
   ]
  },
  {
   "cell_type": "markdown",
   "metadata": {},
   "source": [
    "Daha sonra yapay sinir ağı öğreniminin tahminleri yapmak için kullanacağı çeşitli giriş özelliklerini hazırlıyoruz. Aşağıdaki giriş özelliklerini tanımlıyoruz:\n",
    "\n",
    "- Yüksek eksi Düşük fiyat\n",
    "- Kapanış eksi Açılış fiyatı\n",
    "- Üç günlük hareketli ortalama\n",
    "- On günlük hareketli ortalama\n",
    "- 30 günlük hareketli ortalama\n",
    "- 5 günlük bir süre için standart sapma\n",
    "- Göreceli Güç Endeksi\n",
    "-Williams %R"
   ]
  },
  {
   "cell_type": "code",
   "execution_count": 14,
   "metadata": {},
   "outputs": [
    {
     "data": {
      "text/html": [
       "<div>\n",
       "<style scoped>\n",
       "    .dataframe tbody tr th:only-of-type {\n",
       "        vertical-align: middle;\n",
       "    }\n",
       "\n",
       "    .dataframe tbody tr th {\n",
       "        vertical-align: top;\n",
       "    }\n",
       "\n",
       "    .dataframe thead th {\n",
       "        text-align: right;\n",
       "    }\n",
       "</style>\n",
       "<table border=\"1\" class=\"dataframe\">\n",
       "  <thead>\n",
       "    <tr style=\"text-align: right;\">\n",
       "      <th></th>\n",
       "      <th>Open</th>\n",
       "      <th>High</th>\n",
       "      <th>Low</th>\n",
       "      <th>Close</th>\n",
       "      <th>O-C</th>\n",
       "      <th>H-L</th>\n",
       "      <th>3day MA</th>\n",
       "      <th>10day MA</th>\n",
       "      <th>30day MA</th>\n",
       "      <th>Std_dev</th>\n",
       "      <th>RSI</th>\n",
       "      <th>Williams %R</th>\n",
       "    </tr>\n",
       "    <tr>\n",
       "      <th>Date</th>\n",
       "      <th></th>\n",
       "      <th></th>\n",
       "      <th></th>\n",
       "      <th></th>\n",
       "      <th></th>\n",
       "      <th></th>\n",
       "      <th></th>\n",
       "      <th></th>\n",
       "      <th></th>\n",
       "      <th></th>\n",
       "      <th></th>\n",
       "      <th></th>\n",
       "    </tr>\n",
       "  </thead>\n",
       "  <tbody>\n",
       "    <tr>\n",
       "      <th>2018-02-14</th>\n",
       "      <td>21.389334</td>\n",
       "      <td>21.744667</td>\n",
       "      <td>21.234667</td>\n",
       "      <td>21.487333</td>\n",
       "      <td>-0.098000</td>\n",
       "      <td>0.510000</td>\n",
       "      <td>21.106890</td>\n",
       "      <td>22.163000</td>\n",
       "      <td>22.400867</td>\n",
       "      <td>0.364370</td>\n",
       "      <td>42.670514</td>\n",
       "      <td>-48.848871</td>\n",
       "    </tr>\n",
       "    <tr>\n",
       "      <th>2018-02-15</th>\n",
       "      <td>21.633333</td>\n",
       "      <td>22.274668</td>\n",
       "      <td>21.493334</td>\n",
       "      <td>22.271334</td>\n",
       "      <td>-0.638000</td>\n",
       "      <td>0.781334</td>\n",
       "      <td>21.371112</td>\n",
       "      <td>21.949667</td>\n",
       "      <td>22.404822</td>\n",
       "      <td>0.595392</td>\n",
       "      <td>52.467982</td>\n",
       "      <td>-27.014469</td>\n",
       "    </tr>\n",
       "    <tr>\n",
       "      <th>2018-02-16</th>\n",
       "      <td>22.166668</td>\n",
       "      <td>22.874666</td>\n",
       "      <td>22.109333</td>\n",
       "      <td>22.365999</td>\n",
       "      <td>-0.199331</td>\n",
       "      <td>0.765333</td>\n",
       "      <td>21.778667</td>\n",
       "      <td>21.848467</td>\n",
       "      <td>22.442200</td>\n",
       "      <td>0.557207</td>\n",
       "      <td>53.546391</td>\n",
       "      <td>-24.378035</td>\n",
       "    </tr>\n",
       "    <tr>\n",
       "      <th>2018-02-20</th>\n",
       "      <td>22.298000</td>\n",
       "      <td>22.722668</td>\n",
       "      <td>22.100000</td>\n",
       "      <td>22.318001</td>\n",
       "      <td>-0.020000</td>\n",
       "      <td>0.622667</td>\n",
       "      <td>22.041555</td>\n",
       "      <td>21.793400</td>\n",
       "      <td>22.488578</td>\n",
       "      <td>0.433040</td>\n",
       "      <td>52.862273</td>\n",
       "      <td>-17.266302</td>\n",
       "    </tr>\n",
       "    <tr>\n",
       "      <th>2018-02-21</th>\n",
       "      <td>22.402000</td>\n",
       "      <td>22.646000</td>\n",
       "      <td>22.211332</td>\n",
       "      <td>22.219999</td>\n",
       "      <td>0.182001</td>\n",
       "      <td>0.434668</td>\n",
       "      <td>22.318445</td>\n",
       "      <td>21.804334</td>\n",
       "      <td>22.529000</td>\n",
       "      <td>0.364727</td>\n",
       "      <td>51.355171</td>\n",
       "      <td>-26.634148</td>\n",
       "    </tr>\n",
       "  </tbody>\n",
       "</table>\n",
       "</div>"
      ],
      "text/plain": [
       "                 Open       High        Low      Close       O-C       H-L  \\\n",
       "Date                                                                         \n",
       "2018-02-14  21.389334  21.744667  21.234667  21.487333 -0.098000  0.510000   \n",
       "2018-02-15  21.633333  22.274668  21.493334  22.271334 -0.638000  0.781334   \n",
       "2018-02-16  22.166668  22.874666  22.109333  22.365999 -0.199331  0.765333   \n",
       "2018-02-20  22.298000  22.722668  22.100000  22.318001 -0.020000  0.622667   \n",
       "2018-02-21  22.402000  22.646000  22.211332  22.219999  0.182001  0.434668   \n",
       "\n",
       "              3day MA   10day MA   30day MA   Std_dev        RSI  Williams %R  \n",
       "Date                                                                           \n",
       "2018-02-14  21.106890  22.163000  22.400867  0.364370  42.670514   -48.848871  \n",
       "2018-02-15  21.371112  21.949667  22.404822  0.595392  52.467982   -27.014469  \n",
       "2018-02-16  21.778667  21.848467  22.442200  0.557207  53.546391   -24.378035  \n",
       "2018-02-20  22.041555  21.793400  22.488578  0.433040  52.862273   -17.266302  \n",
       "2018-02-21  22.318445  21.804334  22.529000  0.364727  51.355171   -26.634148  "
      ]
     },
     "execution_count": 14,
     "metadata": {},
     "output_type": "execute_result"
    }
   ],
   "source": [
    "import pandas_ta as pta\n",
    "\n",
    "# Predictor variables\n",
    "df['O-C'] = df.Open - df.Close\n",
    "df['H-L'] = df.High - df.Low\n",
    "df['3day MA'] = df.Close.shift(1).rolling(window=3).mean()\n",
    "df['10day MA'] = df.Close.shift(1).rolling(window=10).mean()\n",
    "df['30day MA'] = df.Close.shift(1).rolling(window=30).mean()\n",
    "df['Std_dev'] = df.Close.rolling(5).std()\n",
    "\n",
    "df['RSI'] = pta.rsi(df.Close, length=9)\n",
    "\n",
    "df['Williams %R'] = pta.willr(df.High, df.Low, df.Close, length=7)\n",
    "\n",
    "df = df.dropna()\n",
    "df.head()"
   ]
  },
  {
   "cell_type": "markdown",
   "metadata": {},
   "source": [
    "Daha sonra çıktı değerini, yarının kapanış fiyatı bugünün kapanış fiyatından büyük olduğunda 1'i saklayan ikili bir değişken olan fiyat artışı olarak tanımlarız."
   ]
  },
  {
   "cell_type": "code",
   "execution_count": 15,
   "metadata": {},
   "outputs": [
    {
     "data": {
      "text/html": [
       "<div>\n",
       "<style scoped>\n",
       "    .dataframe tbody tr th:only-of-type {\n",
       "        vertical-align: middle;\n",
       "    }\n",
       "\n",
       "    .dataframe tbody tr th {\n",
       "        vertical-align: top;\n",
       "    }\n",
       "\n",
       "    .dataframe thead th {\n",
       "        text-align: right;\n",
       "    }\n",
       "</style>\n",
       "<table border=\"1\" class=\"dataframe\">\n",
       "  <thead>\n",
       "    <tr style=\"text-align: right;\">\n",
       "      <th></th>\n",
       "      <th>Open</th>\n",
       "      <th>High</th>\n",
       "      <th>Low</th>\n",
       "      <th>Close</th>\n",
       "      <th>O-C</th>\n",
       "      <th>H-L</th>\n",
       "      <th>3day MA</th>\n",
       "      <th>10day MA</th>\n",
       "      <th>30day MA</th>\n",
       "      <th>Std_dev</th>\n",
       "      <th>RSI</th>\n",
       "      <th>Williams %R</th>\n",
       "      <th>Price_Rise</th>\n",
       "    </tr>\n",
       "    <tr>\n",
       "      <th>Date</th>\n",
       "      <th></th>\n",
       "      <th></th>\n",
       "      <th></th>\n",
       "      <th></th>\n",
       "      <th></th>\n",
       "      <th></th>\n",
       "      <th></th>\n",
       "      <th></th>\n",
       "      <th></th>\n",
       "      <th></th>\n",
       "      <th></th>\n",
       "      <th></th>\n",
       "      <th></th>\n",
       "    </tr>\n",
       "  </thead>\n",
       "  <tbody>\n",
       "    <tr>\n",
       "      <th>2018-02-14</th>\n",
       "      <td>21.389334</td>\n",
       "      <td>21.744667</td>\n",
       "      <td>21.234667</td>\n",
       "      <td>21.487333</td>\n",
       "      <td>-0.098000</td>\n",
       "      <td>0.510000</td>\n",
       "      <td>21.106890</td>\n",
       "      <td>22.163000</td>\n",
       "      <td>22.400867</td>\n",
       "      <td>0.364370</td>\n",
       "      <td>42.670514</td>\n",
       "      <td>-48.848871</td>\n",
       "      <td>1</td>\n",
       "    </tr>\n",
       "    <tr>\n",
       "      <th>2018-02-15</th>\n",
       "      <td>21.633333</td>\n",
       "      <td>22.274668</td>\n",
       "      <td>21.493334</td>\n",
       "      <td>22.271334</td>\n",
       "      <td>-0.638000</td>\n",
       "      <td>0.781334</td>\n",
       "      <td>21.371112</td>\n",
       "      <td>21.949667</td>\n",
       "      <td>22.404822</td>\n",
       "      <td>0.595392</td>\n",
       "      <td>52.467982</td>\n",
       "      <td>-27.014469</td>\n",
       "      <td>1</td>\n",
       "    </tr>\n",
       "    <tr>\n",
       "      <th>2018-02-16</th>\n",
       "      <td>22.166668</td>\n",
       "      <td>22.874666</td>\n",
       "      <td>22.109333</td>\n",
       "      <td>22.365999</td>\n",
       "      <td>-0.199331</td>\n",
       "      <td>0.765333</td>\n",
       "      <td>21.778667</td>\n",
       "      <td>21.848467</td>\n",
       "      <td>22.442200</td>\n",
       "      <td>0.557207</td>\n",
       "      <td>53.546391</td>\n",
       "      <td>-24.378035</td>\n",
       "      <td>0</td>\n",
       "    </tr>\n",
       "    <tr>\n",
       "      <th>2018-02-20</th>\n",
       "      <td>22.298000</td>\n",
       "      <td>22.722668</td>\n",
       "      <td>22.100000</td>\n",
       "      <td>22.318001</td>\n",
       "      <td>-0.020000</td>\n",
       "      <td>0.622667</td>\n",
       "      <td>22.041555</td>\n",
       "      <td>21.793400</td>\n",
       "      <td>22.488578</td>\n",
       "      <td>0.433040</td>\n",
       "      <td>52.862273</td>\n",
       "      <td>-17.266302</td>\n",
       "      <td>0</td>\n",
       "    </tr>\n",
       "    <tr>\n",
       "      <th>2018-02-21</th>\n",
       "      <td>22.402000</td>\n",
       "      <td>22.646000</td>\n",
       "      <td>22.211332</td>\n",
       "      <td>22.219999</td>\n",
       "      <td>0.182001</td>\n",
       "      <td>0.434668</td>\n",
       "      <td>22.318445</td>\n",
       "      <td>21.804334</td>\n",
       "      <td>22.529000</td>\n",
       "      <td>0.364727</td>\n",
       "      <td>51.355171</td>\n",
       "      <td>-26.634148</td>\n",
       "      <td>1</td>\n",
       "    </tr>\n",
       "  </tbody>\n",
       "</table>\n",
       "</div>"
      ],
      "text/plain": [
       "                 Open       High        Low      Close       O-C       H-L  \\\n",
       "Date                                                                         \n",
       "2018-02-14  21.389334  21.744667  21.234667  21.487333 -0.098000  0.510000   \n",
       "2018-02-15  21.633333  22.274668  21.493334  22.271334 -0.638000  0.781334   \n",
       "2018-02-16  22.166668  22.874666  22.109333  22.365999 -0.199331  0.765333   \n",
       "2018-02-20  22.298000  22.722668  22.100000  22.318001 -0.020000  0.622667   \n",
       "2018-02-21  22.402000  22.646000  22.211332  22.219999  0.182001  0.434668   \n",
       "\n",
       "              3day MA   10day MA   30day MA   Std_dev        RSI  Williams %R  \\\n",
       "Date                                                                            \n",
       "2018-02-14  21.106890  22.163000  22.400867  0.364370  42.670514   -48.848871   \n",
       "2018-02-15  21.371112  21.949667  22.404822  0.595392  52.467982   -27.014469   \n",
       "2018-02-16  21.778667  21.848467  22.442200  0.557207  53.546391   -24.378035   \n",
       "2018-02-20  22.041555  21.793400  22.488578  0.433040  52.862273   -17.266302   \n",
       "2018-02-21  22.318445  21.804334  22.529000  0.364727  51.355171   -26.634148   \n",
       "\n",
       "            Price_Rise  \n",
       "Date                    \n",
       "2018-02-14           1  \n",
       "2018-02-15           1  \n",
       "2018-02-16           0  \n",
       "2018-02-20           0  \n",
       "2018-02-21           1  "
      ]
     },
     "execution_count": 15,
     "metadata": {},
     "output_type": "execute_result"
    }
   ],
   "source": [
    "df['Price_Rise'] = np.where(df.Close.shift(-1) > df.Close, 1, 0)\n",
    "df = df.dropna()\n",
    "df.head()"
   ]
  },
  {
   "cell_type": "code",
   "execution_count": 16,
   "metadata": {},
   "outputs": [],
   "source": [
    "X = df.iloc[:, 4:-1]\n",
    "y = df.iloc[:, -1]\n",
    "\n",
    "split = int(len(df)*0.8)\n",
    "X_train, X_test, y_train, y_test = X[:split], X[split:], y[:split], y[split:]"
   ]
  },
  {
   "cell_type": "code",
   "execution_count": 17,
   "metadata": {},
   "outputs": [],
   "source": [
    "sc = StandardScaler()\n",
    "X_train = sc.fit_transform(X_train)\n",
    "X_test = sc.transform(X_test)"
   ]
  },
  {
   "cell_type": "code",
   "execution_count": 18,
   "metadata": {},
   "outputs": [],
   "source": [
    "# Yapay Sinir Ağının Oluşturulması\n",
    "import tensorflow\n",
    "\n",
    "from tensorflow.keras.models import Sequential\n",
    "from tensorflow.keras.layers import Dense\n",
    "from tensorflow.keras.layers import Dropout"
   ]
  },
  {
   "cell_type": "code",
   "execution_count": 19,
   "metadata": {},
   "outputs": [],
   "source": [
    "classifier = Sequential()\n",
    "classifier.add(Dense(units = 32, kernel_initializer = 'uniform', activation = 'relu', input_dim = X.shape[1]))"
   ]
  },
  {
   "cell_type": "markdown",
   "metadata": {},
   "source": [
    "- Birimler: Bu, söz konusu katmandaki düğümlerin veya nöronların sayısını tanımlar. Bu değeri 128 olarak ayarladık, yani gizli katmanımızda 128 nöron olacak.\n",
    "- Kernel_initializer: Gizli katmandaki farklı nöronların ağırlıkları için başlangıç ​​değerlerini tanımlar. Bunu 'tekdüze' olarak tanımladık; bu, ağırlıkların tekdüze bir dağılımdan elde edilen değerlerle başlatılacağı anlamına gelir.\n",
    "- Aktivasyon: Bu, belirli gizli katmandaki nöronlar için aktivasyon fonksiyonudur. Burada fonksiyonu düzeltilmiş Doğrusal Birim fonksiyonu veya 'relu' olarak tanımlıyoruz.\n",
    "- Output_dim: Bu, gizli katmana yapılan giriş sayısını tanımlar, bu değeri, giriş özelliği veri çerçevemizin sütun sayısına eşit olacak şekilde tanımladık. Model önceki katmanın kaç çıktı ürettiğini bileceğinden sonraki katmanlarda bu argümana gerek kalmayacaktır."
   ]
  },
  {
   "cell_type": "code",
   "execution_count": 20,
   "metadata": {},
   "outputs": [],
   "source": [
    "# İkinci bir gizli katman ekliyoruz\n",
    "classifier.add(Dense(units = 32, kernel_initializer = 'uniform', activation = 'relu'))"
   ]
  },
  {
   "cell_type": "code",
   "execution_count": 21,
   "metadata": {},
   "outputs": [],
   "source": [
    "# çıktı katmanını oluşturduk\n",
    "classifier.add(Dense(units = 1, kernel_initializer = 'uniform', activation = 'sigmoid'))"
   ]
  },
  {
   "cell_type": "markdown",
   "metadata": {},
   "source": [
    "Aktivasyon fonksiyonu Sigmoid fonksiyonu olarak seçilmiştir çünkü tahminin piyasanın yukarıya doğru hareket etme olasılığı olmasını isteriz."
   ]
  },
  {
   "cell_type": "code",
   "execution_count": 22,
   "metadata": {},
   "outputs": [],
   "source": [
    "classifier.compile(optimizer = 'adam', loss = 'binary_crossentropy', metrics = ['accuracy'])"
   ]
  },
  {
   "cell_type": "markdown",
   "metadata": {},
   "source": [
    "- Optimize Edici: Optimize edici, stokastik gradyan inişinin bir uzantısı olan 'adam' olarak seçilir.\n",
    "- Kayıp: Bu, eğitim süresi boyunca optimize edilecek kaybı tanımlar. Bu kaybı ortalama karesel hata olarak tanımlıyoruz.\n",
    "- Metrikler: Bu, test ve eğitim aşamasında model tarafından değerlendirilecek metriklerin listesini tanımlar. Değerlendirme ölçütümüz olarak doğruluğu seçtik."
   ]
  },
  {
   "cell_type": "code",
   "execution_count": 23,
   "metadata": {},
   "outputs": [
    {
     "name": "stdout",
     "output_type": "stream",
     "text": [
      "Epoch 1/10\n",
      "197/197 [==============================] - 1s 901us/step - loss: 0.6930 - accuracy: 0.5036\n",
      "Epoch 2/10\n",
      "197/197 [==============================] - 0s 831us/step - loss: 0.6925 - accuracy: 0.5259\n",
      "Epoch 3/10\n",
      "197/197 [==============================] - 0s 894us/step - loss: 0.6916 - accuracy: 0.5259\n",
      "Epoch 4/10\n",
      "197/197 [==============================] - 0s 842us/step - loss: 0.6911 - accuracy: 0.5259\n",
      "Epoch 5/10\n",
      "197/197 [==============================] - 0s 825us/step - loss: 0.6909 - accuracy: 0.5259\n",
      "Epoch 6/10\n",
      "197/197 [==============================] - 0s 809us/step - loss: 0.6904 - accuracy: 0.5259\n",
      "Epoch 7/10\n",
      "197/197 [==============================] - 0s 816us/step - loss: 0.6897 - accuracy: 0.5259\n",
      "Epoch 8/10\n",
      "197/197 [==============================] - 0s 816us/step - loss: 0.6899 - accuracy: 0.5259\n",
      "Epoch 9/10\n",
      "197/197 [==============================] - 0s 821us/step - loss: 0.6890 - accuracy: 0.5300\n",
      "Epoch 10/10\n",
      "197/197 [==============================] - 0s 823us/step - loss: 0.6886 - accuracy: 0.5300\n"
     ]
    }
   ],
   "source": [
    "model = classifier.fit(X_train, y_train, batch_size = 5, epochs = 10)"
   ]
  },
  {
   "cell_type": "code",
   "execution_count": 24,
   "metadata": {},
   "outputs": [
    {
     "name": "stdout",
     "output_type": "stream",
     "text": [
      "8/8 [==============================] - 0s 896us/step\n"
     ]
    }
   ],
   "source": [
    "y_pred = classifier.predict(X_test)\n",
    "y_pred = (y_pred > 0.5)"
   ]
  },
  {
   "cell_type": "markdown",
   "metadata": {},
   "source": [
    "Daha sonra y_pred > 5 koşulunu saklayarak ikili değerleri depolamak için y_pred'i dönüştürürüz. Artık y_pred değişkeni, tahmin edilen değerin 0,5'ten büyük veya küçük olmasına bağlı olarak Doğru veya Yanlış'ı saklar."
   ]
  },
  {
   "cell_type": "code",
   "execution_count": 25,
   "metadata": {},
   "outputs": [],
   "source": [
    "df['y_pred'] = np.NaN\n",
    "df.iloc[(len(df) - len(y_pred)):,-1:] = y_pred.astype(np.float64)\n",
    "trade_df = df.dropna()"
   ]
  },
  {
   "cell_type": "code",
   "execution_count": 26,
   "metadata": {},
   "outputs": [
    {
     "data": {
      "text/html": [
       "<div>\n",
       "<style scoped>\n",
       "    .dataframe tbody tr th:only-of-type {\n",
       "        vertical-align: middle;\n",
       "    }\n",
       "\n",
       "    .dataframe tbody tr th {\n",
       "        vertical-align: top;\n",
       "    }\n",
       "\n",
       "    .dataframe thead th {\n",
       "        text-align: right;\n",
       "    }\n",
       "</style>\n",
       "<table border=\"1\" class=\"dataframe\">\n",
       "  <thead>\n",
       "    <tr style=\"text-align: right;\">\n",
       "      <th></th>\n",
       "      <th>Open</th>\n",
       "      <th>High</th>\n",
       "      <th>Low</th>\n",
       "      <th>Close</th>\n",
       "      <th>O-C</th>\n",
       "      <th>H-L</th>\n",
       "      <th>3day MA</th>\n",
       "      <th>10day MA</th>\n",
       "      <th>30day MA</th>\n",
       "      <th>Std_dev</th>\n",
       "      <th>RSI</th>\n",
       "      <th>Williams %R</th>\n",
       "      <th>Price_Rise</th>\n",
       "      <th>y_pred</th>\n",
       "      <th>Tomorrows Returns</th>\n",
       "    </tr>\n",
       "    <tr>\n",
       "      <th>Date</th>\n",
       "      <th></th>\n",
       "      <th></th>\n",
       "      <th></th>\n",
       "      <th></th>\n",
       "      <th></th>\n",
       "      <th></th>\n",
       "      <th></th>\n",
       "      <th></th>\n",
       "      <th></th>\n",
       "      <th></th>\n",
       "      <th></th>\n",
       "      <th></th>\n",
       "      <th></th>\n",
       "      <th></th>\n",
       "      <th></th>\n",
       "    </tr>\n",
       "  </thead>\n",
       "  <tbody>\n",
       "    <tr>\n",
       "      <th>2022-01-10</th>\n",
       "      <td>333.333344</td>\n",
       "      <td>353.033325</td>\n",
       "      <td>326.666656</td>\n",
       "      <td>352.706665</td>\n",
       "      <td>-19.373322</td>\n",
       "      <td>26.366669</td>\n",
       "      <td>353.308889</td>\n",
       "      <td>364.162332</td>\n",
       "      <td>347.871111</td>\n",
       "      <td>15.278400</td>\n",
       "      <td>49.394709</td>\n",
       "      <td>-65.736831</td>\n",
       "      <td>1</td>\n",
       "      <td>0.0</td>\n",
       "      <td>0.005917</td>\n",
       "    </tr>\n",
       "    <tr>\n",
       "      <th>2022-01-11</th>\n",
       "      <td>351.223328</td>\n",
       "      <td>358.616669</td>\n",
       "      <td>346.273346</td>\n",
       "      <td>354.799988</td>\n",
       "      <td>-3.576660</td>\n",
       "      <td>12.343323</td>\n",
       "      <td>349.975555</td>\n",
       "      <td>362.968332</td>\n",
       "      <td>347.606666</td>\n",
       "      <td>7.314940</td>\n",
       "      <td>50.383627</td>\n",
       "      <td>-62.982459</td>\n",
       "      <td>1</td>\n",
       "      <td>1.0</td>\n",
       "      <td>0.038538</td>\n",
       "    </tr>\n",
       "    <tr>\n",
       "      <th>2022-01-12</th>\n",
       "      <td>359.616669</td>\n",
       "      <td>371.613342</td>\n",
       "      <td>357.529999</td>\n",
       "      <td>368.739990</td>\n",
       "      <td>-9.123322</td>\n",
       "      <td>14.083344</td>\n",
       "      <td>349.942220</td>\n",
       "      <td>362.165997</td>\n",
       "      <td>346.800110</td>\n",
       "      <td>9.412873</td>\n",
       "      <td>56.719871</td>\n",
       "      <td>-44.640350</td>\n",
       "      <td>0</td>\n",
       "      <td>1.0</td>\n",
       "      <td>-0.069877</td>\n",
       "    </tr>\n",
       "    <tr>\n",
       "      <th>2022-01-13</th>\n",
       "      <td>369.690002</td>\n",
       "      <td>371.866669</td>\n",
       "      <td>342.179993</td>\n",
       "      <td>343.853333</td>\n",
       "      <td>25.836670</td>\n",
       "      <td>29.686676</td>\n",
       "      <td>358.748881</td>\n",
       "      <td>362.833664</td>\n",
       "      <td>346.371887</td>\n",
       "      <td>10.576693</td>\n",
       "      <td>45.141677</td>\n",
       "      <td>-72.911625</td>\n",
       "      <td>1</td>\n",
       "      <td>1.0</td>\n",
       "      <td>0.017346</td>\n",
       "    </tr>\n",
       "    <tr>\n",
       "      <th>2022-01-14</th>\n",
       "      <td>339.959991</td>\n",
       "      <td>350.666656</td>\n",
       "      <td>337.793335</td>\n",
       "      <td>349.869995</td>\n",
       "      <td>-9.910004</td>\n",
       "      <td>12.873322</td>\n",
       "      <td>355.797770</td>\n",
       "      <td>361.540997</td>\n",
       "      <td>345.666998</td>\n",
       "      <td>9.214006</td>\n",
       "      <td>48.027192</td>\n",
       "      <td>-48.665194</td>\n",
       "      <td>0</td>\n",
       "      <td>0.0</td>\n",
       "      <td>-0.018365</td>\n",
       "    </tr>\n",
       "  </tbody>\n",
       "</table>\n",
       "</div>"
      ],
      "text/plain": [
       "                  Open        High         Low       Close        O-C  \\\n",
       "Date                                                                    \n",
       "2022-01-10  333.333344  353.033325  326.666656  352.706665 -19.373322   \n",
       "2022-01-11  351.223328  358.616669  346.273346  354.799988  -3.576660   \n",
       "2022-01-12  359.616669  371.613342  357.529999  368.739990  -9.123322   \n",
       "2022-01-13  369.690002  371.866669  342.179993  343.853333  25.836670   \n",
       "2022-01-14  339.959991  350.666656  337.793335  349.869995  -9.910004   \n",
       "\n",
       "                  H-L     3day MA    10day MA    30day MA    Std_dev  \\\n",
       "Date                                                                   \n",
       "2022-01-10  26.366669  353.308889  364.162332  347.871111  15.278400   \n",
       "2022-01-11  12.343323  349.975555  362.968332  347.606666   7.314940   \n",
       "2022-01-12  14.083344  349.942220  362.165997  346.800110   9.412873   \n",
       "2022-01-13  29.686676  358.748881  362.833664  346.371887  10.576693   \n",
       "2022-01-14  12.873322  355.797770  361.540997  345.666998   9.214006   \n",
       "\n",
       "                  RSI  Williams %R  Price_Rise  y_pred  Tomorrows Returns  \n",
       "Date                                                                       \n",
       "2022-01-10  49.394709   -65.736831           1     0.0           0.005917  \n",
       "2022-01-11  50.383627   -62.982459           1     1.0           0.038538  \n",
       "2022-01-12  56.719871   -44.640350           0     1.0          -0.069877  \n",
       "2022-01-13  45.141677   -72.911625           1     1.0           0.017346  \n",
       "2022-01-14  48.027192   -48.665194           0     0.0          -0.018365  "
      ]
     },
     "execution_count": 26,
     "metadata": {},
     "output_type": "execute_result"
    }
   ],
   "source": [
    "trade_df = df.dropna().copy()  # Explicitly create a copy\n",
    "trade_df['Tomorrows Returns'] = 0.\n",
    "trade_df['Tomorrows Returns'] = np.log(trade_df['Close']/trade_df['Close'].shift(1))\n",
    "trade_df['Tomorrows Returns'] = trade_df['Tomorrows Returns'].shift(-1)\n",
    "trade_df.head()"
   ]
  },
  {
   "cell_type": "code",
   "execution_count": 27,
   "metadata": {},
   "outputs": [
    {
     "data": {
      "text/html": [
       "<div>\n",
       "<style scoped>\n",
       "    .dataframe tbody tr th:only-of-type {\n",
       "        vertical-align: middle;\n",
       "    }\n",
       "\n",
       "    .dataframe tbody tr th {\n",
       "        vertical-align: top;\n",
       "    }\n",
       "\n",
       "    .dataframe thead th {\n",
       "        text-align: right;\n",
       "    }\n",
       "</style>\n",
       "<table border=\"1\" class=\"dataframe\">\n",
       "  <thead>\n",
       "    <tr style=\"text-align: right;\">\n",
       "      <th></th>\n",
       "      <th>Open</th>\n",
       "      <th>High</th>\n",
       "      <th>Low</th>\n",
       "      <th>Close</th>\n",
       "      <th>O-C</th>\n",
       "      <th>H-L</th>\n",
       "      <th>3day MA</th>\n",
       "      <th>10day MA</th>\n",
       "      <th>30day MA</th>\n",
       "      <th>Std_dev</th>\n",
       "      <th>RSI</th>\n",
       "      <th>Williams %R</th>\n",
       "      <th>Price_Rise</th>\n",
       "      <th>y_pred</th>\n",
       "      <th>Tomorrows Returns</th>\n",
       "      <th>Strategy Returns</th>\n",
       "    </tr>\n",
       "    <tr>\n",
       "      <th>Date</th>\n",
       "      <th></th>\n",
       "      <th></th>\n",
       "      <th></th>\n",
       "      <th></th>\n",
       "      <th></th>\n",
       "      <th></th>\n",
       "      <th></th>\n",
       "      <th></th>\n",
       "      <th></th>\n",
       "      <th></th>\n",
       "      <th></th>\n",
       "      <th></th>\n",
       "      <th></th>\n",
       "      <th></th>\n",
       "      <th></th>\n",
       "      <th></th>\n",
       "    </tr>\n",
       "  </thead>\n",
       "  <tbody>\n",
       "    <tr>\n",
       "      <th>2022-01-10</th>\n",
       "      <td>333.333344</td>\n",
       "      <td>353.033325</td>\n",
       "      <td>326.666656</td>\n",
       "      <td>352.706665</td>\n",
       "      <td>-19.373322</td>\n",
       "      <td>26.366669</td>\n",
       "      <td>353.308889</td>\n",
       "      <td>364.162332</td>\n",
       "      <td>347.871111</td>\n",
       "      <td>15.278400</td>\n",
       "      <td>49.394709</td>\n",
       "      <td>-65.736831</td>\n",
       "      <td>1</td>\n",
       "      <td>0.0</td>\n",
       "      <td>0.005917</td>\n",
       "      <td>-0.005917</td>\n",
       "    </tr>\n",
       "    <tr>\n",
       "      <th>2022-01-11</th>\n",
       "      <td>351.223328</td>\n",
       "      <td>358.616669</td>\n",
       "      <td>346.273346</td>\n",
       "      <td>354.799988</td>\n",
       "      <td>-3.576660</td>\n",
       "      <td>12.343323</td>\n",
       "      <td>349.975555</td>\n",
       "      <td>362.968332</td>\n",
       "      <td>347.606666</td>\n",
       "      <td>7.314940</td>\n",
       "      <td>50.383627</td>\n",
       "      <td>-62.982459</td>\n",
       "      <td>1</td>\n",
       "      <td>1.0</td>\n",
       "      <td>0.038538</td>\n",
       "      <td>0.038538</td>\n",
       "    </tr>\n",
       "    <tr>\n",
       "      <th>2022-01-12</th>\n",
       "      <td>359.616669</td>\n",
       "      <td>371.613342</td>\n",
       "      <td>357.529999</td>\n",
       "      <td>368.739990</td>\n",
       "      <td>-9.123322</td>\n",
       "      <td>14.083344</td>\n",
       "      <td>349.942220</td>\n",
       "      <td>362.165997</td>\n",
       "      <td>346.800110</td>\n",
       "      <td>9.412873</td>\n",
       "      <td>56.719871</td>\n",
       "      <td>-44.640350</td>\n",
       "      <td>0</td>\n",
       "      <td>1.0</td>\n",
       "      <td>-0.069877</td>\n",
       "      <td>-0.069877</td>\n",
       "    </tr>\n",
       "    <tr>\n",
       "      <th>2022-01-13</th>\n",
       "      <td>369.690002</td>\n",
       "      <td>371.866669</td>\n",
       "      <td>342.179993</td>\n",
       "      <td>343.853333</td>\n",
       "      <td>25.836670</td>\n",
       "      <td>29.686676</td>\n",
       "      <td>358.748881</td>\n",
       "      <td>362.833664</td>\n",
       "      <td>346.371887</td>\n",
       "      <td>10.576693</td>\n",
       "      <td>45.141677</td>\n",
       "      <td>-72.911625</td>\n",
       "      <td>1</td>\n",
       "      <td>1.0</td>\n",
       "      <td>0.017346</td>\n",
       "      <td>0.017346</td>\n",
       "    </tr>\n",
       "    <tr>\n",
       "      <th>2022-01-14</th>\n",
       "      <td>339.959991</td>\n",
       "      <td>350.666656</td>\n",
       "      <td>337.793335</td>\n",
       "      <td>349.869995</td>\n",
       "      <td>-9.910004</td>\n",
       "      <td>12.873322</td>\n",
       "      <td>355.797770</td>\n",
       "      <td>361.540997</td>\n",
       "      <td>345.666998</td>\n",
       "      <td>9.214006</td>\n",
       "      <td>48.027192</td>\n",
       "      <td>-48.665194</td>\n",
       "      <td>0</td>\n",
       "      <td>0.0</td>\n",
       "      <td>-0.018365</td>\n",
       "      <td>0.018365</td>\n",
       "    </tr>\n",
       "  </tbody>\n",
       "</table>\n",
       "</div>"
      ],
      "text/plain": [
       "                  Open        High         Low       Close        O-C  \\\n",
       "Date                                                                    \n",
       "2022-01-10  333.333344  353.033325  326.666656  352.706665 -19.373322   \n",
       "2022-01-11  351.223328  358.616669  346.273346  354.799988  -3.576660   \n",
       "2022-01-12  359.616669  371.613342  357.529999  368.739990  -9.123322   \n",
       "2022-01-13  369.690002  371.866669  342.179993  343.853333  25.836670   \n",
       "2022-01-14  339.959991  350.666656  337.793335  349.869995  -9.910004   \n",
       "\n",
       "                  H-L     3day MA    10day MA    30day MA    Std_dev  \\\n",
       "Date                                                                   \n",
       "2022-01-10  26.366669  353.308889  364.162332  347.871111  15.278400   \n",
       "2022-01-11  12.343323  349.975555  362.968332  347.606666   7.314940   \n",
       "2022-01-12  14.083344  349.942220  362.165997  346.800110   9.412873   \n",
       "2022-01-13  29.686676  358.748881  362.833664  346.371887  10.576693   \n",
       "2022-01-14  12.873322  355.797770  361.540997  345.666998   9.214006   \n",
       "\n",
       "                  RSI  Williams %R  Price_Rise  y_pred  Tomorrows Returns  \\\n",
       "Date                                                                        \n",
       "2022-01-10  49.394709   -65.736831           1     0.0           0.005917   \n",
       "2022-01-11  50.383627   -62.982459           1     1.0           0.038538   \n",
       "2022-01-12  56.719871   -44.640350           0     1.0          -0.069877   \n",
       "2022-01-13  45.141677   -72.911625           1     1.0           0.017346   \n",
       "2022-01-14  48.027192   -48.665194           0     0.0          -0.018365   \n",
       "\n",
       "            Strategy Returns  \n",
       "Date                          \n",
       "2022-01-10         -0.005917  \n",
       "2022-01-11          0.038538  \n",
       "2022-01-12         -0.069877  \n",
       "2022-01-13          0.017346  \n",
       "2022-01-14          0.018365  "
      ]
     },
     "execution_count": 27,
     "metadata": {},
     "output_type": "execute_result"
    }
   ],
   "source": [
    "trade_df['Strategy Returns'] = 0.\n",
    "trade_df['Strategy Returns'] = np.where(trade_df['y_pred'] == True, trade_df['Tomorrows Returns'], - trade_df['Tomorrows Returns'])\n",
    "trade_df.head()"
   ]
  },
  {
   "cell_type": "code",
   "execution_count": 28,
   "metadata": {},
   "outputs": [
    {
     "data": {
      "text/html": [
       "<div>\n",
       "<style scoped>\n",
       "    .dataframe tbody tr th:only-of-type {\n",
       "        vertical-align: middle;\n",
       "    }\n",
       "\n",
       "    .dataframe tbody tr th {\n",
       "        vertical-align: top;\n",
       "    }\n",
       "\n",
       "    .dataframe thead th {\n",
       "        text-align: right;\n",
       "    }\n",
       "</style>\n",
       "<table border=\"1\" class=\"dataframe\">\n",
       "  <thead>\n",
       "    <tr style=\"text-align: right;\">\n",
       "      <th></th>\n",
       "      <th>Open</th>\n",
       "      <th>High</th>\n",
       "      <th>Low</th>\n",
       "      <th>Close</th>\n",
       "      <th>O-C</th>\n",
       "      <th>H-L</th>\n",
       "      <th>3day MA</th>\n",
       "      <th>10day MA</th>\n",
       "      <th>30day MA</th>\n",
       "      <th>Std_dev</th>\n",
       "      <th>RSI</th>\n",
       "      <th>Williams %R</th>\n",
       "      <th>Price_Rise</th>\n",
       "      <th>y_pred</th>\n",
       "      <th>Tomorrows Returns</th>\n",
       "      <th>Strategy Returns</th>\n",
       "      <th>Cumulative Market Returns</th>\n",
       "      <th>Cumulative Strategy Returns</th>\n",
       "    </tr>\n",
       "    <tr>\n",
       "      <th>Date</th>\n",
       "      <th></th>\n",
       "      <th></th>\n",
       "      <th></th>\n",
       "      <th></th>\n",
       "      <th></th>\n",
       "      <th></th>\n",
       "      <th></th>\n",
       "      <th></th>\n",
       "      <th></th>\n",
       "      <th></th>\n",
       "      <th></th>\n",
       "      <th></th>\n",
       "      <th></th>\n",
       "      <th></th>\n",
       "      <th></th>\n",
       "      <th></th>\n",
       "      <th></th>\n",
       "      <th></th>\n",
       "    </tr>\n",
       "  </thead>\n",
       "  <tbody>\n",
       "    <tr>\n",
       "      <th>2022-01-10</th>\n",
       "      <td>333.333344</td>\n",
       "      <td>353.033325</td>\n",
       "      <td>326.666656</td>\n",
       "      <td>352.706665</td>\n",
       "      <td>-19.373322</td>\n",
       "      <td>26.366669</td>\n",
       "      <td>353.308889</td>\n",
       "      <td>364.162332</td>\n",
       "      <td>347.871111</td>\n",
       "      <td>15.278400</td>\n",
       "      <td>49.394709</td>\n",
       "      <td>-65.736831</td>\n",
       "      <td>1</td>\n",
       "      <td>0.0</td>\n",
       "      <td>0.005917</td>\n",
       "      <td>-0.005917</td>\n",
       "      <td>0.005917</td>\n",
       "      <td>-0.005917</td>\n",
       "    </tr>\n",
       "    <tr>\n",
       "      <th>2022-01-11</th>\n",
       "      <td>351.223328</td>\n",
       "      <td>358.616669</td>\n",
       "      <td>346.273346</td>\n",
       "      <td>354.799988</td>\n",
       "      <td>-3.576660</td>\n",
       "      <td>12.343323</td>\n",
       "      <td>349.975555</td>\n",
       "      <td>362.968332</td>\n",
       "      <td>347.606666</td>\n",
       "      <td>7.314940</td>\n",
       "      <td>50.383627</td>\n",
       "      <td>-62.982459</td>\n",
       "      <td>1</td>\n",
       "      <td>1.0</td>\n",
       "      <td>0.038538</td>\n",
       "      <td>0.038538</td>\n",
       "      <td>0.044455</td>\n",
       "      <td>0.032620</td>\n",
       "    </tr>\n",
       "    <tr>\n",
       "      <th>2022-01-12</th>\n",
       "      <td>359.616669</td>\n",
       "      <td>371.613342</td>\n",
       "      <td>357.529999</td>\n",
       "      <td>368.739990</td>\n",
       "      <td>-9.123322</td>\n",
       "      <td>14.083344</td>\n",
       "      <td>349.942220</td>\n",
       "      <td>362.165997</td>\n",
       "      <td>346.800110</td>\n",
       "      <td>9.412873</td>\n",
       "      <td>56.719871</td>\n",
       "      <td>-44.640350</td>\n",
       "      <td>0</td>\n",
       "      <td>1.0</td>\n",
       "      <td>-0.069877</td>\n",
       "      <td>-0.069877</td>\n",
       "      <td>-0.025422</td>\n",
       "      <td>-0.037256</td>\n",
       "    </tr>\n",
       "    <tr>\n",
       "      <th>2022-01-13</th>\n",
       "      <td>369.690002</td>\n",
       "      <td>371.866669</td>\n",
       "      <td>342.179993</td>\n",
       "      <td>343.853333</td>\n",
       "      <td>25.836670</td>\n",
       "      <td>29.686676</td>\n",
       "      <td>358.748881</td>\n",
       "      <td>362.833664</td>\n",
       "      <td>346.371887</td>\n",
       "      <td>10.576693</td>\n",
       "      <td>45.141677</td>\n",
       "      <td>-72.911625</td>\n",
       "      <td>1</td>\n",
       "      <td>1.0</td>\n",
       "      <td>0.017346</td>\n",
       "      <td>0.017346</td>\n",
       "      <td>-0.008075</td>\n",
       "      <td>-0.019910</td>\n",
       "    </tr>\n",
       "    <tr>\n",
       "      <th>2022-01-14</th>\n",
       "      <td>339.959991</td>\n",
       "      <td>350.666656</td>\n",
       "      <td>337.793335</td>\n",
       "      <td>349.869995</td>\n",
       "      <td>-9.910004</td>\n",
       "      <td>12.873322</td>\n",
       "      <td>355.797770</td>\n",
       "      <td>361.540997</td>\n",
       "      <td>345.666998</td>\n",
       "      <td>9.214006</td>\n",
       "      <td>48.027192</td>\n",
       "      <td>-48.665194</td>\n",
       "      <td>0</td>\n",
       "      <td>0.0</td>\n",
       "      <td>-0.018365</td>\n",
       "      <td>0.018365</td>\n",
       "      <td>-0.026440</td>\n",
       "      <td>-0.001545</td>\n",
       "    </tr>\n",
       "  </tbody>\n",
       "</table>\n",
       "</div>"
      ],
      "text/plain": [
       "                  Open        High         Low       Close        O-C  \\\n",
       "Date                                                                    \n",
       "2022-01-10  333.333344  353.033325  326.666656  352.706665 -19.373322   \n",
       "2022-01-11  351.223328  358.616669  346.273346  354.799988  -3.576660   \n",
       "2022-01-12  359.616669  371.613342  357.529999  368.739990  -9.123322   \n",
       "2022-01-13  369.690002  371.866669  342.179993  343.853333  25.836670   \n",
       "2022-01-14  339.959991  350.666656  337.793335  349.869995  -9.910004   \n",
       "\n",
       "                  H-L     3day MA    10day MA    30day MA    Std_dev  \\\n",
       "Date                                                                   \n",
       "2022-01-10  26.366669  353.308889  364.162332  347.871111  15.278400   \n",
       "2022-01-11  12.343323  349.975555  362.968332  347.606666   7.314940   \n",
       "2022-01-12  14.083344  349.942220  362.165997  346.800110   9.412873   \n",
       "2022-01-13  29.686676  358.748881  362.833664  346.371887  10.576693   \n",
       "2022-01-14  12.873322  355.797770  361.540997  345.666998   9.214006   \n",
       "\n",
       "                  RSI  Williams %R  Price_Rise  y_pred  Tomorrows Returns  \\\n",
       "Date                                                                        \n",
       "2022-01-10  49.394709   -65.736831           1     0.0           0.005917   \n",
       "2022-01-11  50.383627   -62.982459           1     1.0           0.038538   \n",
       "2022-01-12  56.719871   -44.640350           0     1.0          -0.069877   \n",
       "2022-01-13  45.141677   -72.911625           1     1.0           0.017346   \n",
       "2022-01-14  48.027192   -48.665194           0     0.0          -0.018365   \n",
       "\n",
       "            Strategy Returns  Cumulative Market Returns  \\\n",
       "Date                                                      \n",
       "2022-01-10         -0.005917                   0.005917   \n",
       "2022-01-11          0.038538                   0.044455   \n",
       "2022-01-12         -0.069877                  -0.025422   \n",
       "2022-01-13          0.017346                  -0.008075   \n",
       "2022-01-14          0.018365                  -0.026440   \n",
       "\n",
       "            Cumulative Strategy Returns  \n",
       "Date                                     \n",
       "2022-01-10                    -0.005917  \n",
       "2022-01-11                     0.032620  \n",
       "2022-01-12                    -0.037256  \n",
       "2022-01-13                    -0.019910  \n",
       "2022-01-14                    -0.001545  "
      ]
     },
     "execution_count": 28,
     "metadata": {},
     "output_type": "execute_result"
    }
   ],
   "source": [
    "trade_df.loc[:, 'Cumulative Market Returns'] = np.cumsum(trade_df['Tomorrows Returns'])\n",
    "trade_df.loc[:, 'Cumulative Strategy Returns'] = np.cumsum(trade_df['Strategy Returns'])\n",
    "trade_df.head()"
   ]
  },
  {
   "cell_type": "code",
   "execution_count": 29,
   "metadata": {},
   "outputs": [
    {
     "data": {
      "image/png": "[encoded data removed]",
      "text/plain": [
       "<Figure size 1000x500 with 1 Axes>"
      ]
     },
     "metadata": {},
     "output_type": "display_data"
    }
   ],
   "source": [
    "plt.figure(figsize=(10,5))\n",
    "plt.plot(trade_df['Cumulative Market Returns'], color='r', label='Piyasa Getirileri')\n",
    "plt.plot(trade_df['Cumulative Strategy Returns'], color='g', label='Strateji Getirileri')\n",
    "plt.legend()\n",
    "plt.show()"
   ]
  },
  {
   "cell_type": "markdown",
   "metadata": {
    "colab_type": "text",
    "id": "olfypJ520h0k"
   },
   "source": [
    "## Vitrin 2 - Rejim/trend tahmini için Vektör Makinelerini Destekleyin"
   ]
  },
  {
   "cell_type": "markdown",
   "metadata": {},
   "source": [
    "Gündemi kısaca anlatarak başlayayım:\n",
    "\n",
    "1. Rejimleri tahmin etmek için denetimsiz bir ML (makine öğrenimi) algoritması oluşturun.\n",
    "2. Bu rejimleri görselleştirmek için çizin.\n",
    "3. Özelliklerden biri olan rejimi kullanarak bir Destek Vektörü Sınıflandırıcı algoritması eğitin.\n",
    "4. Piyasanın açılışında mevcut günün trendini tahmin etmek için bu Destek Vektörü Sınıflandırıcı algoritmasını kullanın.\n",
    "5. Bu stratejinin performansını test verileri üzerinde görselleştirin."
   ]
  },
  {
   "cell_type": "code",
   "execution_count": 30,
   "metadata": {},
   "outputs": [],
   "source": [
    "import numpy as np\n",
    "import pandas as pd\n",
    "from pandas_datareader import data as pdr\n",
    "import seaborn as sns \n",
    "import matplotlib.pyplot as plt\n",
    "import talib as ta\n",
    "from sklearn import mixture as mix\n",
    "from sklearn.preprocessing import StandardScaler\n",
    "from sklearn.svm import SVC\n",
    "import yfinance as yf"
   ]
  },
  {
   "cell_type": "code",
   "execution_count": 31,
   "metadata": {},
   "outputs": [
    {
     "name": "stdout",
     "output_type": "stream",
     "text": [
      "Requirement already satisfied: pandas-datareader in c:\\users\\serkan polat\\appdata\\local\\programs\\python\\python310\\lib\\site-packages (0.10.0)\n",
      "Requirement already satisfied: lxml in c:\\users\\serkan polat\\appdata\\local\\programs\\python\\python310\\lib\\site-packages (from pandas-datareader) (4.9.2)\n",
      "Requirement already satisfied: pandas>=0.23 in c:\\users\\serkan polat\\appdata\\local\\programs\\python\\python310\\lib\\site-packages (from pandas-datareader) (1.5.3)\n",
      "Requirement already satisfied: requests>=2.19.0 in c:\\users\\serkan polat\\appdata\\local\\programs\\python\\python310\\lib\\site-packages (from pandas-datareader) (2.31.0)\n",
      "Requirement already satisfied: python-dateutil>=2.8.1 in c:\\users\\serkan polat\\appdata\\roaming\\python\\python310\\site-packages (from pandas>=0.23->pandas-datareader) (2.8.2)\n",
      "Requirement already satisfied: pytz>=2020.1 in c:\\users\\serkan polat\\appdata\\local\\programs\\python\\python310\\lib\\site-packages (from pandas>=0.23->pandas-datareader) (2023.3)\n",
      "Requirement already satisfied: numpy>=1.21.0 in c:\\users\\serkan polat\\appdata\\local\\programs\\python\\python310\\lib\\site-packages (from pandas>=0.23->pandas-datareader) (1.23.5)\n",
      "Requirement already satisfied: charset-normalizer<4,>=2 in c:\\users\\serkan polat\\appdata\\local\\programs\\python\\python310\\lib\\site-packages (from requests>=2.19.0->pandas-datareader) (2.1.1)\n",
      "Requirement already satisfied: idna<4,>=2.5 in c:\\users\\serkan polat\\appdata\\local\\programs\\python\\python310\\lib\\site-packages (from requests>=2.19.0->pandas-datareader) (3.4)\n",
      "Requirement already satisfied: urllib3<3,>=1.21.1 in c:\\users\\serkan polat\\appdata\\local\\programs\\python\\python310\\lib\\site-packages (from requests>=2.19.0->pandas-datareader) (1.26.16)\n",
      "Requirement already satisfied: certifi>=2017.4.17 in c:\\users\\serkan polat\\appdata\\local\\programs\\python\\python310\\lib\\site-packages (from requests>=2.19.0->pandas-datareader) (2022.12.7)\n",
      "Requirement already satisfied: six>=1.5 in c:\\users\\serkan polat\\appdata\\roaming\\python\\python310\\site-packages (from python-dateutil>=2.8.1->pandas>=0.23->pandas-datareader) (1.16.0)\n"
     ]
    },
    {
     "name": "stderr",
     "output_type": "stream",
     "text": [
      "WARNING: Ignoring invalid distribution -rotobuf (c:\\users\\serkan polat\\appdata\\local\\programs\\python\\python310\\lib\\site-packages)\n",
      "WARNING: Error parsing requirements for keras: [Errno 2] No such file or directory: 'c:\\\\users\\\\serkan polat\\\\appdata\\\\local\\\\programs\\\\python\\\\python310\\\\lib\\\\site-packages\\\\keras-2.12.0.dist-info\\\\METADATA'\n",
      "WARNING: Ignoring invalid distribution -rotobuf (c:\\users\\serkan polat\\appdata\\local\\programs\\python\\python310\\lib\\site-packages)\n",
      "\n",
      "[notice] A new release of pip is available: 23.2.1 -> 23.3.1\n",
      "[notice] To update, run: python.exe -m pip install --upgrade pip\n"
     ]
    }
   ],
   "source": [
    "!pip install --upgrade pandas-datareader\n"
   ]
  },
  {
   "cell_type": "code",
   "execution_count": 32,
   "metadata": {},
   "outputs": [
    {
     "name": "stdout",
     "output_type": "stream",
     "text": [
      "[*********************100%***********************]  1 of 1 completed\n"
     ]
    },
    {
     "data": {
      "text/html": [
       "<div>\n",
       "<style scoped>\n",
       "    .dataframe tbody tr th:only-of-type {\n",
       "        vertical-align: middle;\n",
       "    }\n",
       "\n",
       "    .dataframe tbody tr th {\n",
       "        vertical-align: top;\n",
       "    }\n",
       "\n",
       "    .dataframe thead th {\n",
       "        text-align: right;\n",
       "    }\n",
       "</style>\n",
       "<table border=\"1\" class=\"dataframe\">\n",
       "  <thead>\n",
       "    <tr style=\"text-align: right;\">\n",
       "      <th></th>\n",
       "      <th>Open</th>\n",
       "      <th>High</th>\n",
       "      <th>Low</th>\n",
       "      <th>Close</th>\n",
       "      <th>Adj Close</th>\n",
       "      <th>Volume</th>\n",
       "    </tr>\n",
       "    <tr>\n",
       "      <th>Date</th>\n",
       "      <th></th>\n",
       "      <th></th>\n",
       "      <th></th>\n",
       "      <th></th>\n",
       "      <th></th>\n",
       "      <th></th>\n",
       "    </tr>\n",
       "  </thead>\n",
       "  <tbody>\n",
       "    <tr>\n",
       "      <th>2000-05-10</th>\n",
       "      <td>0.001870</td>\n",
       "      <td>0.001870</td>\n",
       "      <td>0.001806</td>\n",
       "      <td>0.001838</td>\n",
       "      <td>0.001694</td>\n",
       "      <td>212630653</td>\n",
       "    </tr>\n",
       "    <tr>\n",
       "      <th>2000-05-11</th>\n",
       "      <td>0.001806</td>\n",
       "      <td>0.001806</td>\n",
       "      <td>0.001711</td>\n",
       "      <td>0.001775</td>\n",
       "      <td>0.001636</td>\n",
       "      <td>211439905</td>\n",
       "    </tr>\n",
       "    <tr>\n",
       "      <th>2000-05-12</th>\n",
       "      <td>0.001806</td>\n",
       "      <td>0.001806</td>\n",
       "      <td>0.001775</td>\n",
       "      <td>0.001806</td>\n",
       "      <td>0.001664</td>\n",
       "      <td>123850733</td>\n",
       "    </tr>\n",
       "    <tr>\n",
       "      <th>2000-05-15</th>\n",
       "      <td>0.001775</td>\n",
       "      <td>0.001775</td>\n",
       "      <td>0.001711</td>\n",
       "      <td>0.001711</td>\n",
       "      <td>0.001577</td>\n",
       "      <td>145015837</td>\n",
       "    </tr>\n",
       "    <tr>\n",
       "      <th>2000-05-16</th>\n",
       "      <td>0.001743</td>\n",
       "      <td>0.001743</td>\n",
       "      <td>0.001680</td>\n",
       "      <td>0.001743</td>\n",
       "      <td>0.001606</td>\n",
       "      <td>150023501</td>\n",
       "    </tr>\n",
       "  </tbody>\n",
       "</table>\n",
       "</div>"
      ],
      "text/plain": [
       "                Open      High       Low     Close  Adj Close     Volume\n",
       "Date                                                                    \n",
       "2000-05-10  0.001870  0.001870  0.001806  0.001838   0.001694  212630653\n",
       "2000-05-11  0.001806  0.001806  0.001711  0.001775   0.001636  211439905\n",
       "2000-05-12  0.001806  0.001806  0.001775  0.001806   0.001664  123850733\n",
       "2000-05-15  0.001775  0.001775  0.001711  0.001711   0.001577  145015837\n",
       "2000-05-16  0.001743  0.001743  0.001680  0.001743   0.001606  150023501"
      ]
     },
     "execution_count": 32,
     "metadata": {},
     "output_type": "execute_result"
    }
   ],
   "source": [
    "import yfinance as yf\n",
    "\n",
    "# Read the data from Yahoo Finance\n",
    "df = yf.download('THYAO.IS', start='2000-01-01', end='2012-01-01')\n",
    "\n",
    "# No need to dropna() or select columns, as yfinance already handles that\n",
    "\n",
    "# Display the first few rows of the DataFrame\n",
    "df.head()\n"
   ]
  },
  {
   "cell_type": "code",
   "execution_count": 33,
   "metadata": {},
   "outputs": [],
   "source": [
    "n = 10  # 10 günlük geriye bakma süresi\n",
    "t = 0.8 # Eğitim için %80 veri ve test için kalan %20 veri\n",
    "split =int(t*len(df))"
   ]
  },
  {
   "cell_type": "markdown",
   "metadata": {},
   "source": [
    "Yalnızca geçmiş verilere erişmek için Yüksek, Düşük ve Kapanış sütunlarını 1'er kaydıralım. Bundan sonra RSI, SMA, ADX, Korelasyon, Parabolik SAR gibi çeşitli teknik göstergeleri ve Açıktan Açıka bazında son 1 günlük dönüşü oluşturalım."
   ]
  },
  {
   "cell_type": "code",
   "execution_count": 34,
   "metadata": {},
   "outputs": [
    {
     "name": "stdout",
     "output_type": "stream",
     "text": [
      "                Open      High       Low     Close  Adj Close     Volume  \\\n",
      "Date                                                                       \n",
      "2000-05-10  0.001870  0.001870  0.001806  0.001838   0.001694  212630653   \n",
      "2000-05-11  0.001806  0.001806  0.001711  0.001775   0.001636  211439905   \n",
      "2000-05-12  0.001806  0.001806  0.001775  0.001806   0.001664  123850733   \n",
      "2000-05-15  0.001775  0.001775  0.001711  0.001711   0.001577  145015837   \n",
      "2000-05-16  0.001743  0.001743  0.001680  0.001743   0.001606  150023501   \n",
      "\n",
      "                high       low     close  RSI  SMA  Corr       SAR  ADX  \\\n",
      "Date                                                                      \n",
      "2000-05-10       NaN       NaN       NaN  NaN  NaN   NaN       NaN  NaN   \n",
      "2000-05-11  0.001870  0.001806  0.001838  NaN  NaN   NaN       NaN  NaN   \n",
      "2000-05-12  0.001806  0.001711  0.001775  NaN  NaN   NaN  0.001870  NaN   \n",
      "2000-05-15  0.001806  0.001775  0.001806  NaN  NaN   NaN  0.001838  NaN   \n",
      "2000-05-16  0.001775  0.001711  0.001711  NaN  NaN   NaN  0.001813  NaN   \n",
      "\n",
      "              Return  \n",
      "Date                  \n",
      "2000-05-10       NaN  \n",
      "2000-05-11 -0.034824  \n",
      "2000-05-12  0.000000  \n",
      "2000-05-15 -0.017314  \n",
      "2000-05-16 -0.018193  \n"
     ]
    },
    {
     "name": "stderr",
     "output_type": "stream",
     "text": [
      "C:\\Users\\Serkan POLAT\\AppData\\Local\\Temp\\ipykernel_19360\\2981955009.py:11: SettingWithCopyWarning: \n",
      "A value is trying to be set on a copy of a slice from a DataFrame\n",
      "\n",
      "See the caveats in the documentation: https://pandas.pydata.org/pandas-docs/stable/user_guide/indexing.html#returning-a-view-versus-a-copy\n",
      "  df['Corr'][df.Corr>1]=1\n",
      "C:\\Users\\Serkan POLAT\\AppData\\Local\\Temp\\ipykernel_19360\\2981955009.py:12: SettingWithCopyWarning: \n",
      "A value is trying to be set on a copy of a slice from a DataFrame\n",
      "\n",
      "See the caveats in the documentation: https://pandas.pydata.org/pandas-docs/stable/user_guide/indexing.html#returning-a-view-versus-a-copy\n",
      "  df['Corr'][df.Corr<-1]=-1\n"
     ]
    }
   ],
   "source": [
    "df['high']=df['High'].shift(1)\n",
    "df['low']=df['Low'].shift(1)\n",
    "df['close']=df['Close'].shift(1)\n",
    "df['RSI']=ta.RSI(np.array(df['close']), timeperiod=n)\n",
    "df['SMA']= df['close'].rolling(window=n).mean()\n",
    "df['Corr']= df['SMA'].rolling(window=n).corr(df['close'])\n",
    "df['SAR']=ta.SAR(np.array(df['high']),np.array(df['low']),\\\n",
    "                  0.2,0.2)\n",
    "df['ADX']=ta.ADX(np.array(df['high']),np.array(df['low']),\\\n",
    "                  np.array(df['close']), timeperiod =n)\n",
    "df['Corr'][df.Corr>1]=1\n",
    "df['Corr'][df.Corr<-1]=-1 \n",
    "df['Return']= np.log(df['Open']/df['Open'].shift(1))\n",
    "\n",
    "print(df.head())\n",
    "\n",
    "df=df.dropna()"
   ]
  },
  {
   "cell_type": "code",
   "execution_count": 35,
   "metadata": {},
   "outputs": [
    {
     "name": "stderr",
     "output_type": "stream",
     "text": [
      "c:\\Users\\Serkan POLAT\\AppData\\Local\\Programs\\Python\\Python310\\lib\\site-packages\\seaborn\\axisgrid.py:118: UserWarning: The figure layout has changed to tight\n",
      "  self._figure.tight_layout(*args, **kwargs)\n"
     ]
    },
    {
     "data": {
      "image/png": "[encoded data removed]",
      "text/plain": [
       "<Figure size 863.361x400 with 1 Axes>"
      ]
     },
     "metadata": {},
     "output_type": "display_data"
    },
    {
     "name": "stdout",
     "output_type": "stream",
     "text": [
      "Mean for regime 0:  -0.9529544696107768\n",
      "Co-Variance for regime 0:  0.10283200891164046\n",
      "Mean for regime 1:  0.669672200179415\n",
      "Co-Variance for regime 1:  0.2993667911760895\n",
      "Mean for regime 2:  -0.9529634232359291\n",
      "Co-Variance for regime 2:  0.18281276671987415\n",
      "Mean for regime 3:  1.2920639252456885\n",
      "Co-Variance for regime 3:  4.361857770064604\n",
      "        Date  Regime      Open  Adj Close    Volume      high       low  \\\n",
      "0 2009-11-12       3  2.891195   2.931062  39620419  2.941918  2.840473   \n",
      "1 2009-11-13       3  2.967280   2.931062  22170518  2.992641  2.853153   \n",
      "2 2009-11-16       3  3.018002   3.018370  16380100  3.005322  2.954599   \n",
      "3 2009-11-17       3  3.081406   3.018370  16801527  3.094086  2.992641   \n",
      "4 2009-11-18       3  3.018002   2.881171  11528969  3.106767  3.043364   \n",
      "\n",
      "      close        RSI       SMA      Corr       SAR        ADX    Return  \\\n",
      "0  2.865834  67.079460  2.745367 -0.912842  2.720665  35.919963 -0.017392   \n",
      "1  2.979960  73.964588  2.766925 -0.530619  2.764916  36.713527  0.025976   \n",
      "2  2.979960  73.964588  2.796090  0.011091  2.810461  37.569730  0.016949   \n",
      "3  3.068725  78.318731  2.843009  0.535232  2.849433  39.239820  0.020791   \n",
      "4  3.068725  78.318731  2.892463  0.799246  2.898364  40.859181 -0.020791   \n",
      "\n",
      "   market_cu_return  \n",
      "0         -0.017392  \n",
      "1          0.008584  \n",
      "2          0.025533  \n",
      "3          0.046324  \n",
      "4          0.025533  \n"
     ]
    }
   ],
   "source": [
    "# created an unsupervised learning algorithm to make the regime prediction\n",
    "\n",
    "ss= StandardScaler()\n",
    "unsup = mix.GaussianMixture(n_components=4, \n",
    "                            covariance_type=\"spherical\", \n",
    "                            n_init=100, \n",
    "                            random_state=42)\n",
    "df=df.drop(['High','Low','Close'],axis=1)\n",
    "unsup.fit(np.reshape(ss.fit_transform(df[:split]),(-1,df.shape[1])))\n",
    "regime = unsup.predict(np.reshape(ss.transform(df[split:]),\\\n",
    "                                                   (-1,df.shape[1])))\n",
    "\n",
    "Regimes=pd.DataFrame(regime,columns=['Regime'],index=df[split:].index)\\\n",
    "                     .join(df[split:], how='inner')\\\n",
    "                          .assign(market_cu_return=df[split:]\\\n",
    "                                  .Return.cumsum())\\\n",
    "                                  .reset_index(drop=False)\\\n",
    "                                  .rename(columns={'index':'Date'})\n",
    "\n",
    "order=[0,1,2,3]\n",
    "fig = sns.FacetGrid(data=Regimes,hue='Regime',hue_order=order,aspect=2,height= 4)\n",
    "fig.map(plt.scatter,'Date','market_cu_return', s=4).add_legend()\n",
    "plt.show()\n",
    "\n",
    "for i in order:\n",
    "    print('Mean for regime %i: '%i,unsup.means_[i][0])\n",
    "    print('Co-Variance for regime %i: '%i,(unsup.covariances_[i]))\n",
    "\n",
    "print(Regimes.head())\n",
    "\n",
    "\n",
    "\n"
   ]
  },
  {
   "cell_type": "markdown",
   "metadata": {},
   "source": [
    "Rejimler veri çerçevesini, önceki kod parçasında oluşturulan Tarih ve Rejimler sütunları hariç ölçeklendiriyoruz ve onu tekrar aynı sütunlara kaydediyoruz. Bunu yaparak hiçbir özelliği kaybetmeyeceğiz ancak veriler ölçeklendirilecek ve destek vektör sınıflandırıcı algoritmasını eğitmeye hazır olacak. Daha sonra tahmin değerleri olarak görev yapacak bir sinyal sütunu oluşturuyoruz. Algoritma, bu sinyali tahmin etmek için özellik seti üzerinde eğitim alacaktır."
   ]
  },
  {
   "cell_type": "code",
   "execution_count": 36,
   "metadata": {},
   "outputs": [],
   "source": [
    "ss1 =StandardScaler()\n",
    "columns =Regimes.columns.drop(['Regime','Date'])    \n",
    "Regimes[columns]= ss1.fit_transform(Regimes[columns])\n",
    "Regimes['Signal']=0\n",
    "Regimes.loc[Regimes['Return']>0,'Signal']=1\n",
    "Regimes.loc[Regimes['Return']<0,'Signal']=-1\n",
    "Regimes['return'] = Regimes['Return'].shift(1)\n",
    "Regimes=Regimes.dropna()"
   ]
  },
  {
   "cell_type": "code",
   "execution_count": 37,
   "metadata": {},
   "outputs": [
    {
     "name": "stdout",
     "output_type": "stream",
     "text": [
      "Date\n",
      "2011-08-02    1\n",
      "2011-08-03    1\n",
      "2011-08-04    1\n",
      "2011-08-05    1\n",
      "2011-08-08    1\n",
      "             ..\n",
      "2011-12-26    1\n",
      "2011-12-27    1\n",
      "2011-12-28    1\n",
      "2011-12-29    1\n",
      "2011-12-30    1\n",
      "Name: Pred_Signal, Length: 109, dtype: int64\n"
     ]
    },
    {
     "data": {
      "image/png": "[encoded data removed]",
      "text/plain": [
       "<Figure size 640x480 with 1 Axes>"
      ]
     },
     "metadata": {},
     "output_type": "display_data"
    }
   ],
   "source": [
    "# SVM Classifier       \n",
    "cls= SVC(C=1.0, cache_size=200, class_weight=None, coef0=0.0,\n",
    "    decision_function_shape='ovr', degree=3, gamma='auto', kernel='rbf',\n",
    "    max_iter=-1, probability=False, random_state=None, shrinking=True,\n",
    "    tol=0.001, verbose=False)\n",
    "\n",
    "split2= int(.8*len(Regimes))\n",
    "\n",
    "X = Regimes.drop(['Signal','Return','market_cu_return','Date'], axis=1)\n",
    "y= Regimes['Signal']\n",
    "\n",
    "cls.fit(X[:split2],y[:split2])\n",
    "\n",
    "p_data=len(X)-split2\n",
    "\n",
    "df['Pred_Signal']=0\n",
    "df.iloc[-p_data:,df.columns.get_loc('Pred_Signal')]=cls.predict(X[split2:])\n",
    "\n",
    "print(df['Pred_Signal'][-p_data:])\n",
    "\n",
    "df['str_ret'] =df['Pred_Signal']*df['Return'].shift(-1)\n",
    "\n",
    "df['strategy_cu_return']=0.\n",
    "df['market_cu_return']=0.\n",
    "df.iloc[-p_data:,df.columns.get_loc('strategy_cu_return')] \\\n",
    "       = np.nancumsum(df['str_ret'][-p_data:])\n",
    "df.iloc[-p_data:,df.columns.get_loc('market_cu_return')] \\\n",
    "       = np.nancumsum(df['Return'][-p_data:])\n",
    "Sharpe = (df['strategy_cu_return'][-1]-df['market_cu_return'][-1])\\\n",
    "           /np.nanstd(df['strategy_cu_return'][-p_data:])\n",
    "\n",
    "plt.plot(df['strategy_cu_return'][-p_data:],color='g',label='Strateji Getirileri')\n",
    "plt.plot(df['market_cu_return'][-p_data:],color='r',label='Piyasa Getirileri')\n",
    "plt.figtext(0.14,0.9,s='Sharpe oranı: %.2f'%Sharpe)\n",
    "plt.legend(loc='best')\n",
    "plt.show()"
   ]
  },
  {
   "cell_type": "markdown",
   "metadata": {},
   "source": [
    "## Vitrin 3 - KNN'yi kullanarak ticaret stratejisi oluşturun"
   ]
  },
  {
   "cell_type": "code",
   "execution_count": 38,
   "metadata": {},
   "outputs": [],
   "source": [
    "import numpy as np\n",
    "import pandas as pd\n",
    "import matplotlib.pyplot as plt\n",
    "from sklearn.neighbors import KNeighborsClassifier\n",
    "from sklearn.metrics import accuracy_score\n",
    "from pandas_datareader import data as pdr\n",
    "import yfinance as yf\n",
    "from pandas.plotting import register_matplotlib_converters\n",
    "register_matplotlib_converters()"
   ]
  },
  {
   "cell_type": "code",
   "execution_count": 39,
   "metadata": {},
   "outputs": [
    {
     "name": "stdout",
     "output_type": "stream",
     "text": [
      "[*********************100%***********************]  1 of 1 completed\n"
     ]
    },
    {
     "data": {
      "text/html": [
       "<div>\n",
       "<style scoped>\n",
       "    .dataframe tbody tr th:only-of-type {\n",
       "        vertical-align: middle;\n",
       "    }\n",
       "\n",
       "    .dataframe tbody tr th {\n",
       "        vertical-align: top;\n",
       "    }\n",
       "\n",
       "    .dataframe thead th {\n",
       "        text-align: right;\n",
       "    }\n",
       "</style>\n",
       "<table border=\"1\" class=\"dataframe\">\n",
       "  <thead>\n",
       "    <tr style=\"text-align: right;\">\n",
       "      <th></th>\n",
       "      <th>Open</th>\n",
       "      <th>High</th>\n",
       "      <th>Low</th>\n",
       "      <th>Close</th>\n",
       "      <th>Adj Close</th>\n",
       "      <th>Volume</th>\n",
       "    </tr>\n",
       "    <tr>\n",
       "      <th>Date</th>\n",
       "      <th></th>\n",
       "      <th></th>\n",
       "      <th></th>\n",
       "      <th></th>\n",
       "      <th></th>\n",
       "      <th></th>\n",
       "    </tr>\n",
       "  </thead>\n",
       "  <tbody>\n",
       "    <tr>\n",
       "      <th>2012-01-03</th>\n",
       "      <td>127.760002</td>\n",
       "      <td>128.380005</td>\n",
       "      <td>127.430000</td>\n",
       "      <td>127.500000</td>\n",
       "      <td>102.458969</td>\n",
       "      <td>193697900</td>\n",
       "    </tr>\n",
       "    <tr>\n",
       "      <th>2012-01-04</th>\n",
       "      <td>127.199997</td>\n",
       "      <td>127.809998</td>\n",
       "      <td>126.709999</td>\n",
       "      <td>127.699997</td>\n",
       "      <td>102.619682</td>\n",
       "      <td>127186500</td>\n",
       "    </tr>\n",
       "    <tr>\n",
       "      <th>2012-01-05</th>\n",
       "      <td>127.010002</td>\n",
       "      <td>128.229996</td>\n",
       "      <td>126.430000</td>\n",
       "      <td>128.039993</td>\n",
       "      <td>102.892891</td>\n",
       "      <td>173895000</td>\n",
       "    </tr>\n",
       "    <tr>\n",
       "      <th>2012-01-06</th>\n",
       "      <td>128.199997</td>\n",
       "      <td>128.220001</td>\n",
       "      <td>127.290001</td>\n",
       "      <td>127.709999</td>\n",
       "      <td>102.627739</td>\n",
       "      <td>148050000</td>\n",
       "    </tr>\n",
       "    <tr>\n",
       "      <th>2012-01-09</th>\n",
       "      <td>128.000000</td>\n",
       "      <td>128.179993</td>\n",
       "      <td>127.410004</td>\n",
       "      <td>128.020004</td>\n",
       "      <td>102.876869</td>\n",
       "      <td>99530200</td>\n",
       "    </tr>\n",
       "  </tbody>\n",
       "</table>\n",
       "</div>"
      ],
      "text/plain": [
       "                  Open        High         Low       Close   Adj Close  \\\n",
       "Date                                                                     \n",
       "2012-01-03  127.760002  128.380005  127.430000  127.500000  102.458969   \n",
       "2012-01-04  127.199997  127.809998  126.709999  127.699997  102.619682   \n",
       "2012-01-05  127.010002  128.229996  126.430000  128.039993  102.892891   \n",
       "2012-01-06  128.199997  128.220001  127.290001  127.709999  102.627739   \n",
       "2012-01-09  128.000000  128.179993  127.410004  128.020004  102.876869   \n",
       "\n",
       "               Volume  \n",
       "Date                   \n",
       "2012-01-03  193697900  \n",
       "2012-01-04  127186500  \n",
       "2012-01-05  173895000  \n",
       "2012-01-06  148050000  \n",
       "2012-01-09   99530200  "
      ]
     },
     "execution_count": 39,
     "metadata": {},
     "output_type": "execute_result"
    }
   ],
   "source": [
    "import yfinance as yf\n",
    "\n",
    "# Read the data from Yahoo Finance\n",
    "df = yf.download('THYAO.IS', start='2012-01-01', end='2021-01-01')\n",
    "\n",
    "# No need to dropna() or select columns, as yfinance already handles that\n",
    "\n",
    "# Display the first few rows of the DataFrame\n",
    "df.head()\n"
   ]
  },
  {
   "cell_type": "code",
   "execution_count": 40,
   "metadata": {},
   "outputs": [
    {
     "data": {
      "text/html": [
       "<div>\n",
       "<style scoped>\n",
       "    .dataframe tbody tr th:only-of-type {\n",
       "        vertical-align: middle;\n",
       "    }\n",
       "\n",
       "    .dataframe tbody tr th {\n",
       "        vertical-align: top;\n",
       "    }\n",
       "\n",
       "    .dataframe thead th {\n",
       "        text-align: right;\n",
       "    }\n",
       "</style>\n",
       "<table border=\"1\" class=\"dataframe\">\n",
       "  <thead>\n",
       "    <tr style=\"text-align: right;\">\n",
       "      <th></th>\n",
       "      <th>Open-Close</th>\n",
       "      <th>High-Low</th>\n",
       "    </tr>\n",
       "    <tr>\n",
       "      <th>Date</th>\n",
       "      <th></th>\n",
       "      <th></th>\n",
       "    </tr>\n",
       "  </thead>\n",
       "  <tbody>\n",
       "    <tr>\n",
       "      <th>2012-01-03</th>\n",
       "      <td>0.260002</td>\n",
       "      <td>0.950005</td>\n",
       "    </tr>\n",
       "    <tr>\n",
       "      <th>2012-01-04</th>\n",
       "      <td>-0.500000</td>\n",
       "      <td>1.099998</td>\n",
       "    </tr>\n",
       "    <tr>\n",
       "      <th>2012-01-05</th>\n",
       "      <td>-1.029991</td>\n",
       "      <td>1.799995</td>\n",
       "    </tr>\n",
       "    <tr>\n",
       "      <th>2012-01-06</th>\n",
       "      <td>0.489998</td>\n",
       "      <td>0.930000</td>\n",
       "    </tr>\n",
       "    <tr>\n",
       "      <th>2012-01-09</th>\n",
       "      <td>-0.020004</td>\n",
       "      <td>0.769989</td>\n",
       "    </tr>\n",
       "  </tbody>\n",
       "</table>\n",
       "</div>"
      ],
      "text/plain": [
       "            Open-Close  High-Low\n",
       "Date                            \n",
       "2012-01-03    0.260002  0.950005\n",
       "2012-01-04   -0.500000  1.099998\n",
       "2012-01-05   -1.029991  1.799995\n",
       "2012-01-06    0.489998  0.930000\n",
       "2012-01-09   -0.020004  0.769989"
      ]
     },
     "execution_count": 40,
     "metadata": {},
     "output_type": "execute_result"
    }
   ],
   "source": [
    "# Predictor variables\n",
    "df['Open-Close']= df.Open -df.Close\n",
    "df['High-Low']  = df.High - df.Low\n",
    "df =df.dropna()\n",
    "X= df[['Open-Close', 'High-Low']]\n",
    "X.head()"
   ]
  },
  {
   "cell_type": "code",
   "execution_count": 41,
   "metadata": {},
   "outputs": [],
   "source": [
    "# Hedef değişken\n",
    "Y= np.where(df['Close'].shift(-1)>df['Close'],1,-1)"
   ]
  },
  {
   "cell_type": "code",
   "execution_count": 42,
   "metadata": {},
   "outputs": [],
   "source": [
    "# Veri kümesini bölme\n",
    "split_percentage = 0.7\n",
    "split = int(split_percentage*len(df))\n",
    "\n",
    "X_train = X[:split]\n",
    "Y_train = Y[:split]\n",
    "\n",
    "X_test = X[split:]\n",
    "Y_test = Y[split:]"
   ]
  },
  {
   "cell_type": "code",
   "execution_count": 43,
   "metadata": {},
   "outputs": [
    {
     "name": "stdout",
     "output_type": "stream",
     "text": [
      "Train_data Doğruluğu: 0.61\n",
      "Test_veri Doğruluğu: 0.56\n"
     ]
    }
   ],
   "source": [
    "# KNN öğrenme modelini somutlaştırın(k=15)\n",
    "knn = KNeighborsClassifier(n_neighbors=15)\n",
    "\n",
    "# modele uygun\n",
    "knn.fit(X_train, Y_train)\n",
    "\n",
    "# Doğruluk Puanı\n",
    "accuracy_train = accuracy_score(Y_train, knn.predict(X_train))\n",
    "accuracy_test = accuracy_score(Y_test, knn.predict(X_test))\n",
    "\n",
    "print ('Train_data Doğruluğu: %.2f' %accuracy_train)\n",
    "print ('Test_veri Doğruluğu: %.2f' %accuracy_test)"
   ]
  },
  {
   "cell_type": "code",
   "execution_count": 44,
   "metadata": {},
   "outputs": [],
   "source": [
    "# Tahmin Edilen Sinyal\n",
    "df['Predicted_Signal'] = knn.predict(X)"
   ]
  },
  {
   "cell_type": "code",
   "execution_count": 45,
   "metadata": {},
   "outputs": [],
   "source": [
    "# CASUS Kümülatif İadeler\n",
    "df['SPY_returns'] = np.log(df['Close']/df['Close'].shift(1))\n",
    "Cumulative_SPY_returns = df[split:]['SPY_returns'].cumsum()*100"
   ]
  },
  {
   "cell_type": "code",
   "execution_count": 46,
   "metadata": {},
   "outputs": [],
   "source": [
    "# Kümülatif Strateji Getirileri\n",
    "df['Startegy_returns'] = df['SPY_returns']* df['Predicted_Signal'].shift(1)\n",
    "Cumulative_Strategy_returns = df[split:]['Startegy_returns'].cumsum()*100"
   ]
  },
  {
   "cell_type": "code",
   "execution_count": 47,
   "metadata": {},
   "outputs": [
    {
     "data": {
      "image/png": "[encoded data removed]",
      "text/plain": [
       "<Figure size 1000x500 with 1 Axes>"
      ]
     },
     "metadata": {},
     "output_type": "display_data"
    }
   ],
   "source": [
    "# Performansı görselleştirmek için sonuçları çizin\n",
    "\n",
    "plt.figure(figsize=(10,5))\n",
    "plt.plot(Cumulative_SPY_returns, color='r',label = 'SPY Getirileri')\n",
    "plt.plot(Cumulative_Strategy_returns, color='g', label = 'Strateji Getirileri')\n",
    "plt.legend()\n",
    "plt.show()"
   ]
  },
  {
   "cell_type": "code",
   "execution_count": 48,
   "metadata": {},
   "outputs": [
    {
     "name": "stdout",
     "output_type": "stream",
     "text": [
      "Sharpe oranı: 0.66\n"
     ]
    }
   ],
   "source": [
    "# Sharpe oranını hesaplayın\n",
    "Std = Cumulative_Strategy_returns.std()\n",
    "Sharpe = (Cumulative_Strategy_returns-Cumulative_SPY_returns)/Std\n",
    "Sharpe = Sharpe.mean()\n",
    "print('Sharpe oranı: %.2f'%Sharpe )"
   ]
  }
 ],
 "metadata": {
  "colab": {
   "collapsed_sections": [],
   "name": "1_ML_Intro.ipynb",
   "provenance": [
    {
     "file_id": "1MlepN6Hfgtvpddw6b8WIC_UWGvFkWlYT",
     "timestamp": 1547849262566
    }
   ],
   "version": "0.3.2"
  },
  "kernelspec": {
   "display_name": "Python 3 (ipykernel)",
   "language": "python",
   "name": "python3"
  },
  "language_info": {
   "codemirror_mode": {
    "name": "ipython",
    "version": 3
   },
   "file_extension": ".py",
   "mimetype": "text/x-python",
   "name": "python",
   "nbconvert_exporter": "python",
   "pygments_lexer": "ipython3",
   "version": "3.10.9"
  }
 },
 "nbformat": 4,
 "nbformat_minor": 1
}
