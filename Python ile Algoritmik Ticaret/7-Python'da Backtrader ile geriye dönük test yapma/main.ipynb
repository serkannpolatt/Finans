{
 "cells": [
  {
   "cell_type": "markdown",
   "id": "0b99a954",
   "metadata": {},
   "source": [
    "### <center>Python'da Backtrader ile geriye dönük test yapma</center>\n",
    "#### <center>Serkan Polat</center>"
   ]
  },
  {
   "cell_type": "markdown",
   "id": "b58db80e",
   "metadata": {},
   "source": [
    "## Strateji optimizasyonu ve geriye dönük test"
   ]
  },
  {
   "cell_type": "markdown",
   "id": "ba54a3eb",
   "metadata": {},
   "source": [
    "Optimizasyon, bir strateji uzmanının, stratejiyi yönlendiren parametrelere ve formüllere ince ayar yaparak stratejisinin sonuçlarını iyileştirmesine olanak tanır. Optimizasyon, istenen optimizasyon hedefine ulaşmak için tek bir parametreye veya bir dizi parametreye ince ayar yapılarak yapılabilir. Strateji optimizasyon hedefine bir örnek, üretilen toplam karı maksimuma çıkarmak olabilir. Optimizasyonun bir diğer amacı dezavantajları en aza indirmek olabilir.\n",
    "\n",
    "Optimizasyon amacından bahsetmişken, optimizasyonun iki ucu keskin bir kılıç gibi olduğunun da bilincinde olmak gerekir. İstenilen eşitlik eğrisini elde etmek için optimizasyon sırasında eğitim verilerine birçok kural uygulanırsa, bu durum verilerin aşırı uyumuyla sonuçlanır ve modelin test ve gelecek veriler üzerindeki tahmin yeteneğini kaybetmesi muhtemeldir.\n",
    "\n",
    "Basit bir ifadeyle, bir ticaret stratejisinin geriye doğru test edilmesi, bir ticaret hipotezinin/stratejisinin önceki zaman dilimlerinde test edilmesi sürecidir. Bir tüccar, yıllar sürebilecek ileriki zaman dilimi için (performansı değerlendirmek için) bir strateji uygulamak yerine, ticaret stratejisini ilgili geçmiş veriler üzerinde simüle edebilir.\n",
    "\n",
    "- ### Geriye Dönük Testçi Türleri\n",
    "\n",
    "Bu hipotezi test etmek için kullanılan genel olarak iki tür geriye dönük test sistemi vardır; araştırma geri test uzmanları ve olay odaklı geri test uzmanları. Şimdi bunları ayrıntılı olarak inceleyelim.\n",
    "\n",
    "1. #### Araştırma Geri Testçileri\n",
    "\n",
    "Bu araçlar, pazar etkileşiminin tüm yönlerini tam olarak simüle etmez ancak potansiyel strateji performansının hızlı bir şekilde belirlenmesini sağlamak için tahminler yapar. Bu araçlar sıklıkla geriye dönük test ve uygulama için kullanılsa da, gün içi ticarete daha yüksek frekanslarda yaklaşan stratejiler için uygun değildir. Daha gerçekçi bir ortamda sıkı bir arka teste girmeden önce tüm strateji fikirleri için \"ilk taslağı\" almak amacıyla profesyonel kantitatif ticaret endüstrisinde yaygın olarak kullanılırlar.\n",
    "\n",
    "2. #### Olay Odaklı Geriye Dönük Test\n",
    "\n",
    "Olaya dayalı geriye dönük testte, otomatik ticaret stratejisi, gerçek zamanlı bir piyasa beslemesine ve bir komisyoncuya bağlanır; böylece sistem, yeni bir ticaret sinyali oluşturmak için bir olayı tetikleyen bir sisteme gönderilecek olan yeni piyasa bilgilerini alır. Bu sistemler sürekli bir döngü halinde çalışır ve tarihi veri işleyici, aracılık simülatörü gibi alt bileşenlere sahip olabilir; canlı yürütmeye çok benzer şekilde geriye dönük test yapılmasına izin verir. Tek dezavantajı bu sistemlerin karmaşık bir tasarıma sahip olması ve hata yapmaya daha yatkın olmasıdır."
   ]
  },
  {
   "cell_type": "markdown",
   "id": "94daa91b",
   "metadata": {},
   "source": [
    "# Python'da Backtrader ile geriye dönük test yapma\n",
    "\n",
    "Geriye dönük test, etkili ticaret sistemi geliştirmenin önemli bir bileşenidir. Belirli bir strateji tarafından tanımlanan kurallar kullanılarak geçmişte gerçekleşmiş olabilecek ticaretlerin tarihsel verilerle yeniden yapılandırılmasıyla gerçekleştirilir. Backtrader kütüphanesi Python'da bu tür testleri yürütmek için araçlar sağlar.\n",
    "\n",
    "Genel yaklaşımımız şu şekildedir:\n",
    "\n",
    "1. Veri Toplama.\n",
    "2. Geriye Dönük Test Stratejimizi Tanımlamak.\n",
    "3. Karşılaştırmayla Karşılaştırmak ve Karşılaştırmak için Performans İstatistiklerinin Çıkarılması.\n",
    "\n",
    "\n",
    "## Örnek 1: Hareketli Ortalama Geçiş Stratejisi"
   ]
  },
  {
   "cell_type": "code",
   "execution_count": 1,
   "id": "403a7d70",
   "metadata": {},
   "outputs": [
    {
     "name": "stderr",
     "output_type": "stream",
     "text": [
      "WARNING: Ignoring invalid distribution -rotobuf (c:\\users\\serkan polat\\appdata\\local\\programs\\python\\python310\\lib\\site-packages)\n",
      "WARNING: Error parsing requirements for keras: [Errno 2] No such file or directory: 'c:\\\\users\\\\serkan polat\\\\appdata\\\\local\\\\programs\\\\python\\\\python310\\\\lib\\\\site-packages\\\\keras-2.12.0.dist-info\\\\METADATA'\n",
      "WARNING: Ignoring invalid distribution -rotobuf (c:\\users\\serkan polat\\appdata\\local\\programs\\python\\python310\\lib\\site-packages)\n",
      "\n",
      "[notice] A new release of pip is available: 23.2.1 -> 23.3.1\n",
      "[notice] To update, run: python.exe -m pip install --upgrade pip\n"
     ]
    }
   ],
   "source": [
    "! pip install backtrader >Null"
   ]
  },
  {
   "cell_type": "code",
   "execution_count": 2,
   "id": "596cdcf3",
   "metadata": {},
   "outputs": [
    {
     "name": "stdout",
     "output_type": "stream",
     "text": [
      "[*********************100%***********************]  1 of 1 completed\n",
      "Başlangıç ​​Portföy Değeri: 100000.00\n",
      "Bitiş Portföy Değeri: 102770.70\n"
     ]
    },
    {
     "data": {
      "application/javascript": "/* Put everything inside the global mpl namespace */\n/* global mpl */\nwindow.mpl = {};\n\nmpl.get_websocket_type = function () {\n    if (typeof WebSocket !== 'undefined') {\n        return WebSocket;\n    } else if (typeof MozWebSocket !== 'undefined') {\n        return MozWebSocket;\n    } else {\n        alert(\n            'Your browser does not have WebSocket support. ' +\n                'Please try Chrome, Safari or Firefox ≥ 6. ' +\n                'Firefox 4 and 5 are also supported but you ' +\n                'have to enable WebSockets in about:config.'\n        );\n    }\n};\n\nmpl.figure = function (figure_id, websocket, ondownload, parent_element) {\n    this.id = figure_id;\n\n    this.ws = websocket;\n\n    this.supports_binary = this.ws.binaryType !== undefined;\n\n    if (!this.supports_binary) {\n        var warnings = document.getElementById('mpl-warnings');\n        if (warnings) {\n            warnings.style.display = 'block';\n            warnings.textContent =\n                'This browser does not support binary websocket messages. ' +\n                'Performance may be slow.';\n        }\n    }\n\n    this.imageObj = new Image();\n\n    this.context = undefined;\n    this.message = undefined;\n    this.canvas = undefined;\n    this.rubberband_canvas = undefined;\n    this.rubberband_context = undefined;\n    this.format_dropdown = undefined;\n\n    this.image_mode = 'full';\n\n    this.root = document.createElement('div');\n    this.root.setAttribute('style', 'display: inline-block');\n    this._root_extra_style(this.root);\n\n    parent_element.appendChild(this.root);\n\n    this._init_header(this);\n    this._init_canvas(this);\n    this._init_toolbar(this);\n\n    var fig = this;\n\n    this.waiting = false;\n\n    this.ws.onopen = function () {\n        fig.send_message('supports_binary', { value: fig.supports_binary });\n        fig.send_message('send_image_mode', {});\n        if (fig.ratio !== 1) {\n            fig.send_message('set_device_pixel_ratio', {\n                device_pixel_ratio: fig.ratio,\n            });\n        }\n        fig.send_message('refresh', {});\n    };\n\n    this.imageObj.onload = function () {\n        if (fig.image_mode === 'full') {\n            // Full images could contain transparency (where diff images\n            // almost always do), so we need to clear the canvas so that\n            // there is no ghosting.\n            fig.context.clearRect(0, 0, fig.canvas.width, fig.canvas.height);\n        }\n        fig.context.drawImage(fig.imageObj, 0, 0);\n    };\n\n    this.imageObj.onunload = function () {\n        fig.ws.close();\n    };\n\n    this.ws.onmessage = this._make_on_message_function(this);\n\n    this.ondownload = ondownload;\n};\n\nmpl.figure.prototype._init_header = function () {\n    var titlebar = document.createElement('div');\n    titlebar.classList =\n        'ui-dialog-titlebar ui-widget-header ui-corner-all ui-helper-clearfix';\n    var titletext = document.createElement('div');\n    titletext.classList = 'ui-dialog-title';\n    titletext.setAttribute(\n        'style',\n        'width: 100%; text-align: center; padding: 3px;'\n    );\n    titlebar.appendChild(titletext);\n    this.root.appendChild(titlebar);\n    this.header = titletext;\n};\n\nmpl.figure.prototype._canvas_extra_style = function (_canvas_div) {};\n\nmpl.figure.prototype._root_extra_style = function (_canvas_div) {};\n\nmpl.figure.prototype._init_canvas = function () {\n    var fig = this;\n\n    var canvas_div = (this.canvas_div = document.createElement('div'));\n    canvas_div.setAttribute('tabindex', '0');\n    canvas_div.setAttribute(\n        'style',\n        'border: 1px solid #ddd;' +\n            'box-sizing: content-box;' +\n            'clear: both;' +\n            'min-height: 1px;' +\n            'min-width: 1px;' +\n            'outline: 0;' +\n            'overflow: hidden;' +\n            'position: relative;' +\n            'resize: both;' +\n            'z-index: 2;'\n    );\n\n    function on_keyboard_event_closure(name) {\n        return function (event) {\n            return fig.key_event(event, name);\n        };\n    }\n\n    canvas_div.addEventListener(\n        'keydown',\n        on_keyboard_event_closure('key_press')\n    );\n    canvas_div.addEventListener(\n        'keyup',\n        on_keyboard_event_closure('key_release')\n    );\n\n    this._canvas_extra_style(canvas_div);\n    this.root.appendChild(canvas_div);\n\n    var canvas = (this.canvas = document.createElement('canvas'));\n    canvas.classList.add('mpl-canvas');\n    canvas.setAttribute(\n        'style',\n        'box-sizing: content-box;' +\n            'pointer-events: none;' +\n            'position: relative;' +\n            'z-index: 0;'\n    );\n\n    this.context = canvas.getContext('2d');\n\n    var backingStore =\n        this.context.backingStorePixelRatio ||\n        this.context.webkitBackingStorePixelRatio ||\n        this.context.mozBackingStorePixelRatio ||\n        this.context.msBackingStorePixelRatio ||\n        this.context.oBackingStorePixelRatio ||\n        this.context.backingStorePixelRatio ||\n        1;\n\n    this.ratio = (window.devicePixelRatio || 1) / backingStore;\n\n    var rubberband_canvas = (this.rubberband_canvas = document.createElement(\n        'canvas'\n    ));\n    rubberband_canvas.setAttribute(\n        'style',\n        'box-sizing: content-box;' +\n            'left: 0;' +\n            'pointer-events: none;' +\n            'position: absolute;' +\n            'top: 0;' +\n            'z-index: 1;'\n    );\n\n    // Apply a ponyfill if ResizeObserver is not implemented by browser.\n    if (this.ResizeObserver === undefined) {\n        if (window.ResizeObserver !== undefined) {\n            this.ResizeObserver = window.ResizeObserver;\n        } else {\n            var obs = _JSXTOOLS_RESIZE_OBSERVER({});\n            this.ResizeObserver = obs.ResizeObserver;\n        }\n    }\n\n    this.resizeObserverInstance = new this.ResizeObserver(function (entries) {\n        var nentries = entries.length;\n        for (var i = 0; i < nentries; i++) {\n            var entry = entries[i];\n            var width, height;\n            if (entry.contentBoxSize) {\n                if (entry.contentBoxSize instanceof Array) {\n                    // Chrome 84 implements new version of spec.\n                    width = entry.contentBoxSize[0].inlineSize;\n                    height = entry.contentBoxSize[0].blockSize;\n                } else {\n                    // Firefox implements old version of spec.\n                    width = entry.contentBoxSize.inlineSize;\n                    height = entry.contentBoxSize.blockSize;\n                }\n            } else {\n                // Chrome <84 implements even older version of spec.\n                width = entry.contentRect.width;\n                height = entry.contentRect.height;\n            }\n\n            // Keep the size of the canvas and rubber band canvas in sync with\n            // the canvas container.\n            if (entry.devicePixelContentBoxSize) {\n                // Chrome 84 implements new version of spec.\n                canvas.setAttribute(\n                    'width',\n                    entry.devicePixelContentBoxSize[0].inlineSize\n                );\n                canvas.setAttribute(\n                    'height',\n                    entry.devicePixelContentBoxSize[0].blockSize\n                );\n            } else {\n                canvas.setAttribute('width', width * fig.ratio);\n                canvas.setAttribute('height', height * fig.ratio);\n            }\n            /* This rescales the canvas back to display pixels, so that it\n             * appears correct on HiDPI screens. */\n            canvas.style.width = width + 'px';\n            canvas.style.height = height + 'px';\n\n            rubberband_canvas.setAttribute('width', width);\n            rubberband_canvas.setAttribute('height', height);\n\n            // And update the size in Python. We ignore the initial 0/0 size\n            // that occurs as the element is placed into the DOM, which should\n            // otherwise not happen due to the minimum size styling.\n            if (fig.ws.readyState == 1 && width != 0 && height != 0) {\n                fig.request_resize(width, height);\n            }\n        }\n    });\n    this.resizeObserverInstance.observe(canvas_div);\n\n    function on_mouse_event_closure(name) {\n        /* User Agent sniffing is bad, but WebKit is busted:\n         * https://bugs.webkit.org/show_bug.cgi?id=144526\n         * https://bugs.webkit.org/show_bug.cgi?id=181818\n         * The worst that happens here is that they get an extra browser\n         * selection when dragging, if this check fails to catch them.\n         */\n        var UA = navigator.userAgent;\n        var isWebKit = /AppleWebKit/.test(UA) && !/Chrome/.test(UA);\n        if(isWebKit) {\n            return function (event) {\n                /* This prevents the web browser from automatically changing to\n                 * the text insertion cursor when the button is pressed. We\n                 * want to control all of the cursor setting manually through\n                 * the 'cursor' event from matplotlib */\n                event.preventDefault()\n                return fig.mouse_event(event, name);\n            };\n        } else {\n            return function (event) {\n                return fig.mouse_event(event, name);\n            };\n        }\n    }\n\n    canvas_div.addEventListener(\n        'mousedown',\n        on_mouse_event_closure('button_press')\n    );\n    canvas_div.addEventListener(\n        'mouseup',\n        on_mouse_event_closure('button_release')\n    );\n    canvas_div.addEventListener(\n        'dblclick',\n        on_mouse_event_closure('dblclick')\n    );\n    // Throttle sequential mouse events to 1 every 20ms.\n    canvas_div.addEventListener(\n        'mousemove',\n        on_mouse_event_closure('motion_notify')\n    );\n\n    canvas_div.addEventListener(\n        'mouseenter',\n        on_mouse_event_closure('figure_enter')\n    );\n    canvas_div.addEventListener(\n        'mouseleave',\n        on_mouse_event_closure('figure_leave')\n    );\n\n    canvas_div.addEventListener('wheel', function (event) {\n        if (event.deltaY < 0) {\n            event.step = 1;\n        } else {\n            event.step = -1;\n        }\n        on_mouse_event_closure('scroll')(event);\n    });\n\n    canvas_div.appendChild(canvas);\n    canvas_div.appendChild(rubberband_canvas);\n\n    this.rubberband_context = rubberband_canvas.getContext('2d');\n    this.rubberband_context.strokeStyle = '#000000';\n\n    this._resize_canvas = function (width, height, forward) {\n        if (forward) {\n            canvas_div.style.width = width + 'px';\n            canvas_div.style.height = height + 'px';\n        }\n    };\n\n    // Disable right mouse context menu.\n    canvas_div.addEventListener('contextmenu', function (_e) {\n        event.preventDefault();\n        return false;\n    });\n\n    function set_focus() {\n        canvas.focus();\n        canvas_div.focus();\n    }\n\n    window.setTimeout(set_focus, 100);\n};\n\nmpl.figure.prototype._init_toolbar = function () {\n    var fig = this;\n\n    var toolbar = document.createElement('div');\n    toolbar.classList = 'mpl-toolbar';\n    this.root.appendChild(toolbar);\n\n    function on_click_closure(name) {\n        return function (_event) {\n            return fig.toolbar_button_onclick(name);\n        };\n    }\n\n    function on_mouseover_closure(tooltip) {\n        return function (event) {\n            if (!event.currentTarget.disabled) {\n                return fig.toolbar_button_onmouseover(tooltip);\n            }\n        };\n    }\n\n    fig.buttons = {};\n    var buttonGroup = document.createElement('div');\n    buttonGroup.classList = 'mpl-button-group';\n    for (var toolbar_ind in mpl.toolbar_items) {\n        var name = mpl.toolbar_items[toolbar_ind][0];\n        var tooltip = mpl.toolbar_items[toolbar_ind][1];\n        var image = mpl.toolbar_items[toolbar_ind][2];\n        var method_name = mpl.toolbar_items[toolbar_ind][3];\n\n        if (!name) {\n            /* Instead of a spacer, we start a new button group. */\n            if (buttonGroup.hasChildNodes()) {\n                toolbar.appendChild(buttonGroup);\n            }\n            buttonGroup = document.createElement('div');\n            buttonGroup.classList = 'mpl-button-group';\n            continue;\n        }\n\n        var button = (fig.buttons[name] = document.createElement('button'));\n        button.classList = 'mpl-widget';\n        button.setAttribute('role', 'button');\n        button.setAttribute('aria-disabled', 'false');\n        button.addEventListener('click', on_click_closure(method_name));\n        button.addEventListener('mouseover', on_mouseover_closure(tooltip));\n\n        var icon_img = document.createElement('img');\n        icon_img.src = '_images/' + image + '.png';\n        icon_img.srcset = '_images/' + image + '_large.png 2x';\n        icon_img.alt = tooltip;\n        button.appendChild(icon_img);\n\n        buttonGroup.appendChild(button);\n    }\n\n    if (buttonGroup.hasChildNodes()) {\n        toolbar.appendChild(buttonGroup);\n    }\n\n    var fmt_picker = document.createElement('select');\n    fmt_picker.classList = 'mpl-widget';\n    toolbar.appendChild(fmt_picker);\n    this.format_dropdown = fmt_picker;\n\n    for (var ind in mpl.extensions) {\n        var fmt = mpl.extensions[ind];\n        var option = document.createElement('option');\n        option.selected = fmt === mpl.default_extension;\n        option.innerHTML = fmt;\n        fmt_picker.appendChild(option);\n    }\n\n    var status_bar = document.createElement('span');\n    status_bar.classList = 'mpl-message';\n    toolbar.appendChild(status_bar);\n    this.message = status_bar;\n};\n\nmpl.figure.prototype.request_resize = function (x_pixels, y_pixels) {\n    // Request matplotlib to resize the figure. Matplotlib will then trigger a resize in the client,\n    // which will in turn request a refresh of the image.\n    this.send_message('resize', { width: x_pixels, height: y_pixels });\n};\n\nmpl.figure.prototype.send_message = function (type, properties) {\n    properties['type'] = type;\n    properties['figure_id'] = this.id;\n    this.ws.send(JSON.stringify(properties));\n};\n\nmpl.figure.prototype.send_draw_message = function () {\n    if (!this.waiting) {\n        this.waiting = true;\n        this.ws.send(JSON.stringify({ type: 'draw', figure_id: this.id }));\n    }\n};\n\nmpl.figure.prototype.handle_save = function (fig, _msg) {\n    var format_dropdown = fig.format_dropdown;\n    var format = format_dropdown.options[format_dropdown.selectedIndex].value;\n    fig.ondownload(fig, format);\n};\n\nmpl.figure.prototype.handle_resize = function (fig, msg) {\n    var size = msg['size'];\n    if (size[0] !== fig.canvas.width || size[1] !== fig.canvas.height) {\n        fig._resize_canvas(size[0], size[1], msg['forward']);\n        fig.send_message('refresh', {});\n    }\n};\n\nmpl.figure.prototype.handle_rubberband = function (fig, msg) {\n    var x0 = msg['x0'] / fig.ratio;\n    var y0 = (fig.canvas.height - msg['y0']) / fig.ratio;\n    var x1 = msg['x1'] / fig.ratio;\n    var y1 = (fig.canvas.height - msg['y1']) / fig.ratio;\n    x0 = Math.floor(x0) + 0.5;\n    y0 = Math.floor(y0) + 0.5;\n    x1 = Math.floor(x1) + 0.5;\n    y1 = Math.floor(y1) + 0.5;\n    var min_x = Math.min(x0, x1);\n    var min_y = Math.min(y0, y1);\n    var width = Math.abs(x1 - x0);\n    var height = Math.abs(y1 - y0);\n\n    fig.rubberband_context.clearRect(\n        0,\n        0,\n        fig.canvas.width / fig.ratio,\n        fig.canvas.height / fig.ratio\n    );\n\n    fig.rubberband_context.strokeRect(min_x, min_y, width, height);\n};\n\nmpl.figure.prototype.handle_figure_label = function (fig, msg) {\n    // Updates the figure title.\n    fig.header.textContent = msg['label'];\n};\n\nmpl.figure.prototype.handle_cursor = function (fig, msg) {\n    fig.canvas_div.style.cursor = msg['cursor'];\n};\n\nmpl.figure.prototype.handle_message = function (fig, msg) {\n    fig.message.textContent = msg['message'];\n};\n\nmpl.figure.prototype.handle_draw = function (fig, _msg) {\n    // Request the server to send over a new figure.\n    fig.send_draw_message();\n};\n\nmpl.figure.prototype.handle_image_mode = function (fig, msg) {\n    fig.image_mode = msg['mode'];\n};\n\nmpl.figure.prototype.handle_history_buttons = function (fig, msg) {\n    for (var key in msg) {\n        if (!(key in fig.buttons)) {\n            continue;\n        }\n        fig.buttons[key].disabled = !msg[key];\n        fig.buttons[key].setAttribute('aria-disabled', !msg[key]);\n    }\n};\n\nmpl.figure.prototype.handle_navigate_mode = function (fig, msg) {\n    if (msg['mode'] === 'PAN') {\n        fig.buttons['Pan'].classList.add('active');\n        fig.buttons['Zoom'].classList.remove('active');\n    } else if (msg['mode'] === 'ZOOM') {\n        fig.buttons['Pan'].classList.remove('active');\n        fig.buttons['Zoom'].classList.add('active');\n    } else {\n        fig.buttons['Pan'].classList.remove('active');\n        fig.buttons['Zoom'].classList.remove('active');\n    }\n};\n\nmpl.figure.prototype.updated_canvas_event = function () {\n    // Called whenever the canvas gets updated.\n    this.send_message('ack', {});\n};\n\n// A function to construct a web socket function for onmessage handling.\n// Called in the figure constructor.\nmpl.figure.prototype._make_on_message_function = function (fig) {\n    return function socket_on_message(evt) {\n        if (evt.data instanceof Blob) {\n            var img = evt.data;\n            if (img.type !== 'image/png') {\n                /* FIXME: We get \"Resource interpreted as Image but\n                 * transferred with MIME type text/plain:\" errors on\n                 * Chrome.  But how to set the MIME type?  It doesn't seem\n                 * to be part of the websocket stream */\n                img.type = 'image/png';\n            }\n\n            /* Free the memory for the previous frames */\n            if (fig.imageObj.src) {\n                (window.URL || window.webkitURL).revokeObjectURL(\n                    fig.imageObj.src\n                );\n            }\n\n            fig.imageObj.src = (window.URL || window.webkitURL).createObjectURL(\n                img\n            );\n            fig.updated_canvas_event();\n            fig.waiting = false;\n            return;\n        } else if (\n            typeof evt.data === 'string' &&\n            evt.data.slice(0, 21) === 'data:image/png;base64'\n        ) {\n            fig.imageObj.src = evt.data;\n            fig.updated_canvas_event();\n            fig.waiting = false;\n            return;\n        }\n\n        var msg = JSON.parse(evt.data);\n        var msg_type = msg['type'];\n\n        // Call the  \"handle_{type}\" callback, which takes\n        // the figure and JSON message as its only arguments.\n        try {\n            var callback = fig['handle_' + msg_type];\n        } catch (e) {\n            console.log(\n                \"No handler for the '\" + msg_type + \"' message type: \",\n                msg\n            );\n            return;\n        }\n\n        if (callback) {\n            try {\n                // console.log(\"Handling '\" + msg_type + \"' message: \", msg);\n                callback(fig, msg);\n            } catch (e) {\n                console.log(\n                    \"Exception inside the 'handler_\" + msg_type + \"' callback:\",\n                    e,\n                    e.stack,\n                    msg\n                );\n            }\n        }\n    };\n};\n\nfunction getModifiers(event) {\n    var mods = [];\n    if (event.ctrlKey) {\n        mods.push('ctrl');\n    }\n    if (event.altKey) {\n        mods.push('alt');\n    }\n    if (event.shiftKey) {\n        mods.push('shift');\n    }\n    if (event.metaKey) {\n        mods.push('meta');\n    }\n    return mods;\n}\n\n/*\n * return a copy of an object with only non-object keys\n * we need this to avoid circular references\n * https://stackoverflow.com/a/24161582/3208463\n */\nfunction simpleKeys(original) {\n    return Object.keys(original).reduce(function (obj, key) {\n        if (typeof original[key] !== 'object') {\n            obj[key] = original[key];\n        }\n        return obj;\n    }, {});\n}\n\nmpl.figure.prototype.mouse_event = function (event, name) {\n    if (name === 'button_press') {\n        this.canvas.focus();\n        this.canvas_div.focus();\n    }\n\n    // from https://stackoverflow.com/q/1114465\n    var boundingRect = this.canvas.getBoundingClientRect();\n    var x = (event.clientX - boundingRect.left) * this.ratio;\n    var y = (event.clientY - boundingRect.top) * this.ratio;\n\n    this.send_message(name, {\n        x: x,\n        y: y,\n        button: event.button,\n        step: event.step,\n        modifiers: getModifiers(event),\n        guiEvent: simpleKeys(event),\n    });\n\n    return false;\n};\n\nmpl.figure.prototype._key_event_extra = function (_event, _name) {\n    // Handle any extra behaviour associated with a key event\n};\n\nmpl.figure.prototype.key_event = function (event, name) {\n    // Prevent repeat events\n    if (name === 'key_press') {\n        if (event.key === this._key) {\n            return;\n        } else {\n            this._key = event.key;\n        }\n    }\n    if (name === 'key_release') {\n        this._key = null;\n    }\n\n    var value = '';\n    if (event.ctrlKey && event.key !== 'Control') {\n        value += 'ctrl+';\n    }\n    else if (event.altKey && event.key !== 'Alt') {\n        value += 'alt+';\n    }\n    else if (event.shiftKey && event.key !== 'Shift') {\n        value += 'shift+';\n    }\n\n    value += 'k' + event.key;\n\n    this._key_event_extra(event, name);\n\n    this.send_message(name, { key: value, guiEvent: simpleKeys(event) });\n    return false;\n};\n\nmpl.figure.prototype.toolbar_button_onclick = function (name) {\n    if (name === 'download') {\n        this.handle_save(this, null);\n    } else {\n        this.send_message('toolbar_button', { name: name });\n    }\n};\n\nmpl.figure.prototype.toolbar_button_onmouseover = function (tooltip) {\n    this.message.textContent = tooltip;\n};\n\n///////////////// REMAINING CONTENT GENERATED BY embed_js.py /////////////////\n// prettier-ignore\nvar _JSXTOOLS_RESIZE_OBSERVER=function(A){var t,i=new WeakMap,n=new WeakMap,a=new WeakMap,r=new WeakMap,o=new Set;function s(e){if(!(this instanceof s))throw new TypeError(\"Constructor requires 'new' operator\");i.set(this,e)}function h(){throw new TypeError(\"Function is not a constructor\")}function c(e,t,i,n){e=0 in arguments?Number(arguments[0]):0,t=1 in arguments?Number(arguments[1]):0,i=2 in arguments?Number(arguments[2]):0,n=3 in arguments?Number(arguments[3]):0,this.right=(this.x=this.left=e)+(this.width=i),this.bottom=(this.y=this.top=t)+(this.height=n),Object.freeze(this)}function d(){t=requestAnimationFrame(d);var s=new WeakMap,p=new Set;o.forEach((function(t){r.get(t).forEach((function(i){var r=t instanceof window.SVGElement,o=a.get(t),d=r?0:parseFloat(o.paddingTop),f=r?0:parseFloat(o.paddingRight),l=r?0:parseFloat(o.paddingBottom),u=r?0:parseFloat(o.paddingLeft),g=r?0:parseFloat(o.borderTopWidth),m=r?0:parseFloat(o.borderRightWidth),w=r?0:parseFloat(o.borderBottomWidth),b=u+f,F=d+l,v=(r?0:parseFloat(o.borderLeftWidth))+m,W=g+w,y=r?0:t.offsetHeight-W-t.clientHeight,E=r?0:t.offsetWidth-v-t.clientWidth,R=b+v,z=F+W,M=r?t.width:parseFloat(o.width)-R-E,O=r?t.height:parseFloat(o.height)-z-y;if(n.has(t)){var k=n.get(t);if(k[0]===M&&k[1]===O)return}n.set(t,[M,O]);var S=Object.create(h.prototype);S.target=t,S.contentRect=new c(u,d,M,O),s.has(i)||(s.set(i,[]),p.add(i)),s.get(i).push(S)}))})),p.forEach((function(e){i.get(e).call(e,s.get(e),e)}))}return s.prototype.observe=function(i){if(i instanceof window.Element){r.has(i)||(r.set(i,new Set),o.add(i),a.set(i,window.getComputedStyle(i)));var n=r.get(i);n.has(this)||n.add(this),cancelAnimationFrame(t),t=requestAnimationFrame(d)}},s.prototype.unobserve=function(i){if(i instanceof window.Element&&r.has(i)){var n=r.get(i);n.has(this)&&(n.delete(this),n.size||(r.delete(i),o.delete(i))),n.size||r.delete(i),o.size||cancelAnimationFrame(t)}},A.DOMRectReadOnly=c,A.ResizeObserver=s,A.ResizeObserverEntry=h,A}; // eslint-disable-line\nmpl.toolbar_items = [[\"Home\", \"Reset original view\", \"fa fa-home\", \"home\"], [\"Back\", \"Back to previous view\", \"fa fa-arrow-left\", \"back\"], [\"Forward\", \"Forward to next view\", \"fa fa-arrow-right\", \"forward\"], [\"\", \"\", \"\", \"\"], [\"Pan\", \"Left button pans, Right button zooms\\nx/y fixes axis, CTRL fixes aspect\", \"fa fa-arrows\", \"pan\"], [\"Zoom\", \"Zoom to rectangle\\nx/y fixes axis\", \"fa fa-square-o\", \"zoom\"], [\"\", \"\", \"\", \"\"], [\"Download\", \"Download plot\", \"fa fa-floppy-o\", \"download\"]];\n\nmpl.extensions = [\"eps\", \"jpeg\", \"pgf\", \"pdf\", \"png\", \"ps\", \"raw\", \"svg\", \"tif\", \"webp\"];\n\nmpl.default_extension = \"png\";/* global mpl */\n\nvar comm_websocket_adapter = function (comm) {\n    // Create a \"websocket\"-like object which calls the given IPython comm\n    // object with the appropriate methods. Currently this is a non binary\n    // socket, so there is still some room for performance tuning.\n    var ws = {};\n\n    ws.binaryType = comm.kernel.ws.binaryType;\n    ws.readyState = comm.kernel.ws.readyState;\n    function updateReadyState(_event) {\n        if (comm.kernel.ws) {\n            ws.readyState = comm.kernel.ws.readyState;\n        } else {\n            ws.readyState = 3; // Closed state.\n        }\n    }\n    comm.kernel.ws.addEventListener('open', updateReadyState);\n    comm.kernel.ws.addEventListener('close', updateReadyState);\n    comm.kernel.ws.addEventListener('error', updateReadyState);\n\n    ws.close = function () {\n        comm.close();\n    };\n    ws.send = function (m) {\n        //console.log('sending', m);\n        comm.send(m);\n    };\n    // Register the callback with on_msg.\n    comm.on_msg(function (msg) {\n        //console.log('receiving', msg['content']['data'], msg);\n        var data = msg['content']['data'];\n        if (data['blob'] !== undefined) {\n            data = {\n                data: new Blob(msg['buffers'], { type: data['blob'] }),\n            };\n        }\n        // Pass the mpl event to the overridden (by mpl) onmessage function.\n        ws.onmessage(data);\n    });\n    return ws;\n};\n\nmpl.mpl_figure_comm = function (comm, msg) {\n    // This is the function which gets called when the mpl process\n    // starts-up an IPython Comm through the \"matplotlib\" channel.\n\n    var id = msg.content.data.id;\n    // Get hold of the div created by the display call when the Comm\n    // socket was opened in Python.\n    var element = document.getElementById(id);\n    var ws_proxy = comm_websocket_adapter(comm);\n\n    function ondownload(figure, _format) {\n        window.open(figure.canvas.toDataURL());\n    }\n\n    var fig = new mpl.figure(id, ws_proxy, ondownload, element);\n\n    // Call onopen now - mpl needs it, as it is assuming we've passed it a real\n    // web socket which is closed, not our websocket->open comm proxy.\n    ws_proxy.onopen();\n\n    fig.parent_element = element;\n    fig.cell_info = mpl.find_output_cell(\"<div id='\" + id + \"'></div>\");\n    if (!fig.cell_info) {\n        console.error('Failed to find cell for figure', id, fig);\n        return;\n    }\n    fig.cell_info[0].output_area.element.on(\n        'cleared',\n        { fig: fig },\n        fig._remove_fig_handler\n    );\n};\n\nmpl.figure.prototype.handle_close = function (fig, msg) {\n    var width = fig.canvas.width / fig.ratio;\n    fig.cell_info[0].output_area.element.off(\n        'cleared',\n        fig._remove_fig_handler\n    );\n    fig.resizeObserverInstance.unobserve(fig.canvas_div);\n\n    // Update the output cell to use the data from the current canvas.\n    fig.push_to_output();\n    var dataURL = fig.canvas.toDataURL();\n    // Re-enable the keyboard manager in IPython - without this line, in FF,\n    // the notebook keyboard shortcuts fail.\n    IPython.keyboard_manager.enable();\n    fig.parent_element.innerHTML =\n        '<img src=\"' + dataURL + '\" width=\"' + width + '\">';\n    fig.close_ws(fig, msg);\n};\n\nmpl.figure.prototype.close_ws = function (fig, msg) {\n    fig.send_message('closing', msg);\n    // fig.ws.close()\n};\n\nmpl.figure.prototype.push_to_output = function (_remove_interactive) {\n    // Turn the data on the canvas into data in the output cell.\n    var width = this.canvas.width / this.ratio;\n    var dataURL = this.canvas.toDataURL();\n    this.cell_info[1]['text/html'] =\n        '<img src=\"' + dataURL + '\" width=\"' + width + '\">';\n};\n\nmpl.figure.prototype.updated_canvas_event = function () {\n    // Tell IPython that the notebook contents must change.\n    IPython.notebook.set_dirty(true);\n    this.send_message('ack', {});\n    var fig = this;\n    // Wait a second, then push the new image to the DOM so\n    // that it is saved nicely (might be nice to debounce this).\n    setTimeout(function () {\n        fig.push_to_output();\n    }, 1000);\n};\n\nmpl.figure.prototype._init_toolbar = function () {\n    var fig = this;\n\n    var toolbar = document.createElement('div');\n    toolbar.classList = 'btn-toolbar';\n    this.root.appendChild(toolbar);\n\n    function on_click_closure(name) {\n        return function (_event) {\n            return fig.toolbar_button_onclick(name);\n        };\n    }\n\n    function on_mouseover_closure(tooltip) {\n        return function (event) {\n            if (!event.currentTarget.disabled) {\n                return fig.toolbar_button_onmouseover(tooltip);\n            }\n        };\n    }\n\n    fig.buttons = {};\n    var buttonGroup = document.createElement('div');\n    buttonGroup.classList = 'btn-group';\n    var button;\n    for (var toolbar_ind in mpl.toolbar_items) {\n        var name = mpl.toolbar_items[toolbar_ind][0];\n        var tooltip = mpl.toolbar_items[toolbar_ind][1];\n        var image = mpl.toolbar_items[toolbar_ind][2];\n        var method_name = mpl.toolbar_items[toolbar_ind][3];\n\n        if (!name) {\n            /* Instead of a spacer, we start a new button group. */\n            if (buttonGroup.hasChildNodes()) {\n                toolbar.appendChild(buttonGroup);\n            }\n            buttonGroup = document.createElement('div');\n            buttonGroup.classList = 'btn-group';\n            continue;\n        }\n\n        button = fig.buttons[name] = document.createElement('button');\n        button.classList = 'btn btn-default';\n        button.href = '#';\n        button.title = name;\n        button.innerHTML = '<i class=\"fa ' + image + ' fa-lg\"></i>';\n        button.addEventListener('click', on_click_closure(method_name));\n        button.addEventListener('mouseover', on_mouseover_closure(tooltip));\n        buttonGroup.appendChild(button);\n    }\n\n    if (buttonGroup.hasChildNodes()) {\n        toolbar.appendChild(buttonGroup);\n    }\n\n    // Add the status bar.\n    var status_bar = document.createElement('span');\n    status_bar.classList = 'mpl-message pull-right';\n    toolbar.appendChild(status_bar);\n    this.message = status_bar;\n\n    // Add the close button to the window.\n    var buttongrp = document.createElement('div');\n    buttongrp.classList = 'btn-group inline pull-right';\n    button = document.createElement('button');\n    button.classList = 'btn btn-mini btn-primary';\n    button.href = '#';\n    button.title = 'Stop Interaction';\n    button.innerHTML = '<i class=\"fa fa-power-off icon-remove icon-large\"></i>';\n    button.addEventListener('click', function (_evt) {\n        fig.handle_close(fig, {});\n    });\n    button.addEventListener(\n        'mouseover',\n        on_mouseover_closure('Stop Interaction')\n    );\n    buttongrp.appendChild(button);\n    var titlebar = this.root.querySelector('.ui-dialog-titlebar');\n    titlebar.insertBefore(buttongrp, titlebar.firstChild);\n};\n\nmpl.figure.prototype._remove_fig_handler = function (event) {\n    var fig = event.data.fig;\n    if (event.target !== this) {\n        // Ignore bubbled events from children.\n        return;\n    }\n    fig.close_ws(fig, {});\n};\n\nmpl.figure.prototype._root_extra_style = function (el) {\n    el.style.boxSizing = 'content-box'; // override notebook setting of border-box.\n};\n\nmpl.figure.prototype._canvas_extra_style = function (el) {\n    // this is important to make the div 'focusable\n    el.setAttribute('tabindex', 0);\n    // reach out to IPython and tell the keyboard manager to turn it's self\n    // off when our div gets focus\n\n    // location in version 3\n    if (IPython.notebook.keyboard_manager) {\n        IPython.notebook.keyboard_manager.register_events(el);\n    } else {\n        // location in version 2\n        IPython.keyboard_manager.register_events(el);\n    }\n};\n\nmpl.figure.prototype._key_event_extra = function (event, _name) {\n    // Check for shift+enter\n    if (event.shiftKey && event.which === 13) {\n        this.canvas_div.blur();\n        // select the cell after this one\n        var index = IPython.notebook.find_cell_index(this.cell_info[0]);\n        IPython.notebook.select(index + 1);\n    }\n};\n\nmpl.figure.prototype.handle_save = function (fig, _msg) {\n    fig.ondownload(fig, null);\n};\n\nmpl.find_output_cell = function (html_output) {\n    // Return the cell and output element which can be found *uniquely* in the notebook.\n    // Note - this is a bit hacky, but it is done because the \"notebook_saving.Notebook\"\n    // IPython event is triggered only after the cells have been serialised, which for\n    // our purposes (turning an active figure into a static one), is too late.\n    var cells = IPython.notebook.get_cells();\n    var ncells = cells.length;\n    for (var i = 0; i < ncells; i++) {\n        var cell = cells[i];\n        if (cell.cell_type === 'code') {\n            for (var j = 0; j < cell.output_area.outputs.length; j++) {\n                var data = cell.output_area.outputs[j];\n                if (data.data) {\n                    // IPython >= 3 moved mimebundle to data attribute of output\n                    data = data.data;\n                }\n                if (data['text/html'] === html_output) {\n                    return [cell, data, j];\n                }\n            }\n        }\n    }\n};\n\n// Register the function which deals with the matplotlib target/channel.\n// The kernel may be null if the page has been refreshed.\nif (IPython.notebook.kernel !== null) {\n    IPython.notebook.kernel.comm_manager.register_target(\n        'matplotlib',\n        mpl.mpl_figure_comm\n    );\n}\n",
      "text/plain": [
       "<IPython.core.display.Javascript object>"
      ]
     },
     "metadata": {},
     "output_type": "display_data"
    },
    {
     "data": {
      "text/html": [
       "<div id='d52e20c4-2652-4eb1-9a86-b90c5f39cf12'></div>"
      ],
      "text/plain": [
       "<IPython.core.display.HTML object>"
      ]
     },
     "metadata": {},
     "output_type": "display_data"
    },
    {
     "data": {
      "text/plain": [
       "[[<Figure size 640x480 with 5 Axes>]]"
      ]
     },
     "execution_count": 2,
     "metadata": {},
     "output_type": "execute_result"
    }
   ],
   "source": [
    "import backtrader as bt\n",
    "import yfinance as yf\n",
    "import datetime\n",
    "\n",
    "# Adım 2: Bir Ticaret Stratejisi Oluşturun\n",
    "class MovingAverageCrossStrategy(bt.Strategy):\n",
    "    params = (\n",
    "        (\"short_window\", 40),\n",
    "        (\"long_window\", 100),\n",
    "    )\n",
    "\n",
    "    def __init__(self):\n",
    "        self.data_close = self.datas[0].close\n",
    "        self.short_ma = bt.indicators.SimpleMovingAverage(\n",
    "            self.data_close, period=self.params.short_window\n",
    "        )\n",
    "        self.long_ma = bt.indicators.SimpleMovingAverage(\n",
    "            self.data_close, period=self.params.long_window\n",
    "        )\n",
    "        self.crossover = bt.indicators.CrossOver(self.short_ma, self.long_ma)\n",
    "\n",
    "    def next(self):\n",
    "        if self.crossover > 0:  # kısa MA uzun MA'yı geçerse\n",
    "            self.buy()\n",
    "        elif self.crossover < 0:  # kısa MA uzun MA'nın altına geçerse\n",
    "            self.sell()\n",
    "\n",
    "# 3. Adım: yfinance'ı kullanarak Geçmiş Verileri Yükleyin\n",
    "data_df = yf.download('THYAO.IS', start='2020-01-01', end='2022-01-01')\n",
    "data = bt.feeds.PandasData(dataname=data_df)\n",
    "\n",
    "# Adım 4: Backtest'i Ayarlayın\n",
    "cerebro = bt.Cerebro()\n",
    "cerebro.addstrategy(MovingAverageCrossStrategy)\n",
    "cerebro.adddata(data)\n",
    "cerebro.broker.set_cash(100000)  # Örneğin. 100.000 nakitle başla\n",
    "\n",
    "# 5. Adım: Ek Ayarlar Ekleyin (İsteğe Bağlı)\n",
    "cerebro.addsizer(bt.sizers.FixedSize, stake=1000)\n",
    "cerebro.broker.setcommission(commission=0.001)  # %0,1 komisyon (örnek)\n",
    "\n",
    "# Adım 6: Geri Testi Çalıştırın\n",
    "print('Başlangıç ​​Portföy Değeri: %.2f' % cerebro.broker.getvalue())\n",
    "cerebro.run()\n",
    "print('Bitiş Portföy Değeri: %.2f' % cerebro.broker.getvalue())\n",
    "\n",
    "# Adım 7: Sonuçları Görselleştirin\n",
    "cerebro.plot()\n"
   ]
  },
  {
   "cell_type": "markdown",
   "id": "085870e8",
   "metadata": {},
   "source": [
    "Backtrader tarafından oluşturulan grafik, ticaret stratejisinin geriye dönük test dönemi boyunca performansının görsel bir temsilini sağlar. Olay örgüsünün ana bileşenlerini şu şekilde yorumlayabilirsiniz:\n",
    "\n",
    "### 1. **Fiyat Tablosu**\n",
    "- **Mum/OHLC Çubukları**: Varlığın her dönem için açılış, en yüksek, en düşük ve kapanış fiyatlarını temsil eder.\n",
    "- **Hareketli Ortalamalar**: Stratejinizde kullanılırsa, hareketli ortalamalar fiyat grafiğinin üzerine çizilecektir.\n",
    "- **Alış/Satış İşaretleri**: Oklar veya işaretler, stratejinin alım veya satım emirlerini nerede yürüttüğünü gösterir.\n",
    "\n",
    "### 2. **Portföy Değeri**\n",
    "- **Nakit**: Yatay çizgi, aracılık hesabında bulunan nakdi temsil eder.\n",
    "- **Portföy Değeri**: Çizgi grafik, nakit ve açık pozisyonların zaman içindeki değeri de dahil olmak üzere toplam portföy değerini gösterir.\n",
    "\n",
    "### 3. **İşlemler**\n",
    "- **Kapalı İşlemler**: Noktalar veya işaretler, çizim ayarlarınıza bağlı olarak işlemlerin nerede kapatıldığını gösterebilir.\n",
    "\n",
    "### 4. **Göstergeler**\n",
    "- Ek göstergeler (MACD, RSI vb. gibi) kullandıysanız, bunlar zaman içindeki değerlerini gösterecek şekilde ayrı panellerde gösterilebilir.\n",
    "\n",
    "### 5. **Yakınlaştırma ve Kaydırma**\n",
    "- Belirli zaman dilimlerini ayrıntılı olarak incelemek için yakınlaştırabilir/uzaklaştırabilir ve çizimi kaydırabilirsiniz.\n",
    "\n",
    "### Nasıl Analiz Edilir:\n",
    "- **Karlılık**: Stratejinin zaman içindeki karlılığını değerlendirmek için Portföy Değeri çizgisini gözlemleyin.\n",
    "- **Düşüş**: Portföy Değerinin düştüğü, düşüşleri gösteren dönemleri arayın.\n",
    "- **Ticaret Gerçekleştirme**: İşlemlerin (alış/satış göstergelerinin) strateji mantığına göre amaçlanan pozisyonlarda yürütülmesini sağlayın.\n",
    "- **Gösterge Davranışı**: Teknik göstergeler kullanılıyorsa davranışlarını gözlemleyin ve beklendiği gibi hesaplandığından emin olun.\n",
    "- **Aşırı uyum**: Aşırı uyum konusunda dikkatli olun. Eğer strateji geriye dönük testlerde son derece iyi performans gösteriyorsa, geçmiş verilere göre fazla uygun olabilir ve canlı ticarette iyi performans göstermeyebilir.\n",
    "\n",
    "### Ek İpuçları:\n",
    "- **Risk Yönetimi**: Stratejinin, zararı durdurma seviyelerini belirlemek ve tek bir işlemde portföyün yalnızca küçük bir yüzdesini riske atmak gibi sağlam risk yönetimi ilkelerine bağlı olduğundan emin olun.\n",
    "- **Hassasiyet**: Stratejinin parametrelerdeki değişikliklere (hareketli ortalama dönemleri gibi) ne kadar duyarlı olduğunu test edin ve stratejinin sağlam olduğundan ve test edilen döneme göre aşırı optimize edilmediğinden emin olun.\n",
    "- **Örnek Dışı Test**: Görünmeyen veriler üzerindeki performansını doğrulamak için stratejiyi örnek dışı veriler üzerinde doğrulayın."
   ]
  },
  {
   "cell_type": "markdown",
   "id": "99210fe7",
   "metadata": {},
   "source": [
    "Backtrader, özel mantık tanımlayarak kendi ticaret stratejilerinizi oluşturmanıza olanak tanıyan esnek bir Python kütüphanesidir. Kendi başına önceden tanımlanmış ticaret stratejileriyle birlikte gelmez, ancak çok çeşitli stratejileri tanımlamanıza olanak tanıyan sağlam bir çerçeve ve yerleşik göstergeler sağlar.\n",
    "\n",
    "Backtrader'ı kullanarak uygulayabileceğiniz bazı strateji türleri şunlardır:\n",
    "\n",
    "\n",
    "| Strateji                          | Kısa Açıklama |\n",
    "|:---------------------------------|:-------------------|\n",
    "| Hareketli Ortalama Kesişimi      | Kısa vadeli hareketli ortalama uzun vadeli hareketli ortalama kesiştiğinde al/sat yapma stratejisi. |\n",
    "| Ortalama Tersiyon                | Bir varlık fiyatının ortalama veya diğer ilgili bir referans noktasından sapmasına dayalı olarak işlem yapma. |\n",
    "| Momentum                         | Bir varlığın fiyatının hızlanmasına dayalı olarak al/sat yapma. |\n",
    "| Bollinger Bantları               | Bir hareketli ortalamanın üzerine ve altına yerleştirilen volatilite bantlarını kullanarak aşırı alım/aşırı satım koşullarını tanımlama. |\n",
    "| MACD                             | İki hareketli ortalama arasındaki yakınsama/ayrışmayı kullanarak al/sat sinyalleri üretme. |\n",
    "| RSI                              | Göreceli Güç Endeksi'ni kullanarak aşırı alım/aşırı satım koşullarını tanımlama. |\n",
    "| Çift Ticaret                     | İki ilişkili varlığın fiyat oranı üzerinde işlem yapma. |\n",
    "| Arbitraj                        | İlgili varlıklar veya piyasalar arasındaki fiyat farklılıklarından yararlanma. |\n",
    "| Makine Öğrenme Tabanlı           | Tahmin modellerini kullanarak ticaret sinyalleri üretme. |\n",
    "| Opsiyon Stratejileri            | Opsiyonları kullanarak straddle, strangle, spread gibi stratejileri uygulama. |\n",
    "| Dolar Maliyet Ortalama           | Fiyattan bağımsız olarak belirli aralıklarla sabit bir miktar yatırım yapma. |\n",
    "| Portföy Dengesi                 | İstenen varlık tahsisini korumak için bir portföyü yeniden dengeleme. |\n",
    "| Mevsimsellik                    | Piyasada mevsimsel desenlere veya döngülere dayalı olarak işlem yapma. |\n",
    "| İstatistik Arbitraj             | İstatistik yöntemleri kullanarak getiri üretme, örneğin, eşbütünleşme gibi. |\n",
    "| Trend Takip                    | Hakim olan trendin yönünü tanımlama ve ticaret yapma. |\n",
    "| Volatilite Patlaması            | Ani volatilite artışlarına dayalı olarak işlem yapma. |\n",
    "| Stop Loss / Kar Al              | Ticaretleri yönetmek için stop-loss veya kar alma seviyelerini kullanan stratejileri uygulama. |\n",
    "| Izgara Ticareti                 | Fiyat yönünü tahmin etmeksizin önceden belirlenmiş aralıklarda (ızgara seviyelerinde) al/sat yapma. |\n",
    "| Sapma Ticareti                  | Fiyat ile bir osilatör arasındaki sapmayı tanımlama ve buna göre işlem yapma. |\n",
    "| Hedge                           | Ticarette olası kayıpları azaltmayı amaçlayan stratejileri uygulama. |\n",
    "| Çoklu Zaman Çerçevesi Stratejileri | Ticaret kararları vermek için birden fazla zaman çerçevesini kullanma. |\n",
    "| Çoklu Varlık Stratejileri       | Birden fazla, muhtemelen ilişkili, varlık içeren ticaret stratejileri uygulama. |\n",
    "| Piyasa Yapıcılığı                | Alım-satım fiyatlarını sürekli olarak teklif ederek teklif-fiyat arasındaki farktan kar elde etme. |\n",
    "| Yüksek Frekanslı Ticaret         | Genellikle yüksek kaldıraçla küçük fiyat farklarından faydalanmayı amaçlayan stratejileri uygulama. |\n",
    "| Emir Akışı                      | Emir akış bilgisi analizi temelinde ticaret yapma. |\n",
    "| Duygu Analizi                  | Ticaret kararları vermek için duygu analizi kullanma. |\n",
    "| Desen Tanıma                   | Tanınmış desenlere dayalı olarak ticaret yapma (örneğin, baş ve omuzlar, üçgenler vb.). |\n",
    "| Wyckoff Yöntemi              | Birikim ve dağıtımın Wyckoff yöntemi prensiplerine dayalı olarak ticaret yapma. |\n",
    "| Elliott Dalga Teorisi         | Piyasa yapılarını tanımlama temelinde ticaret yapma, bu yapılar \"dalgalar\" olarak adlandırılır. |\n",
    "| Fibonacci Geri Çekilmeleri   | Potansiyel ters dönüş seviyelerini tanımlamak için Fibonacci seviyelerini kullanma. |\n",
    "| Pivot Noktaları               | Pivot noktaları ve destek/direnç seviyelerine dayalı olarak ticaret yapma. |\n",
    "| Ichimoku Bulutu               | Trendleri ve bunların güçlerini tanımlamak için Ichimoku bulutunu kullanma. |\n",
    "| Heikin Ashi                  | Heikin Ashi mumlarını kullanarak trendleri ve ters dönüşleri tanımlama. |\n",
    "| Gann Teorisi                | W.D. Gann'ın teorilerine dayalı stratejiler uygulama, Gann açılarının kullanımı gibi. |\n",
    "| Piyasa Profili              | Piyasa profilini kullanarak fiyat gelişmelerini ve piyasadaki değer alanlarını anlama. |\n",
    "| Hacim Profili               | Farklı fiyat seviyelerindeki hacmin dağılımına dayalı olarak ticaret yapma. |\n",
    "| VWAP (Hacme Ağırlıklı Ortalama Fiyat) | VWAP'a yakın ticaret yapmayı amaçlayan stratejiler uygulama. |\n",
    "| TWAP (Zaman Ağırlıklı Ortalama Fiyat) | TWAP'a yakın ticaret yapmayı amaçlayan stratejiler uygulama. |\n",
    "| Alpha ve Beta               | Alfa (aktif getiri) ve beta (piyasa getirisine duyarlılık) temelinde stratejiler geliştirme. |\n",
    "| Risk Paritesi               | Risk temelinde sermaye tahsisi yapma, genellikle volatiliteyi bir ölçüt olarak kullanma. |\n",
    "| Akıllı Beta                  | Alternatif endeks oluşturma kurallarını kullanarak stratejiler uygulama. |\n",
    "| Carry Ticareti              | Farklı menkul kıymetler arasındaki getiri farkından kar elde etmeyi amaçlayan stratejiler uygulama. |\n",
    "| Gamma Kazanç                | Bir opsiyonun delta değişikliklerinden kar elde etmeyi amaçlayan stratejiler uygulama. |\n",
    "| Delta Hedge                 | Bir pozisyonun fiyat riskini dengelemeyi amaçlayan stratejiler uygulama. |\n",
    "| Takvim Yayılımlar            | Farklı son kullanma tarihlerine sahip iki opsiyonun uzun ve kısa pozisyonunu oluşturan stratejiler uygulama. |\n",
    "| Kelebek Yayılımlar            | Farklı kullanım fiyatlarına sahip birden fazla opsiyon işlemi içeren stratejiler uygulama. |\n",
    "| Demir Turna Yayılımları         | Aynı son kullanma tarihine sahip dört opsiyon işlemi içeren stratejiler uygulama. |\n",
    "| Yönlendirme Stratejileri        | Opsiyon pozisyonlarını ayarlamayı içeren stratejiler uygulama. |\n",
    "| Kapalı Çağrı                   | Sahip olunan bir hisse senedi üzerine alım opsiyonları yazmayı içeren stratejiler uygulama. |\n",
    "| Koruyucu Alım                  | Sahip olunan hisse senedine karşı düşüşe karşı sigorta olarak put opsiyonları satın almayı içeren stratejiler uygulama. |\n",
    "| Boğa Alım Yayılımı             | Aynı son kullanma tarihine sahip, farklı kullanım fiyatlarına sahip alım opsiyonlarını satın almayı ve satmayı içeren stratejiler uygulama. |\n",
    "| Ayı Put Yayılımı               | Aynı son kullanma tarihine sahip, farklı kullanım fiyatlarına sahip put opsiyonlarını satın almayı ve satmayı içeren stratejiler uygulama. |\n",
    "| Straddle                       | Aynı kullanım fiyatına ve son kullanma tarihine sahip hem bir alım hem de bir put opsiyonunu satın almayı veya satmayı içeren stratejiler uygulama. |\n",
    "| Strangle                       | Aynı son kullanma tarihine sahip farklı kullanım fiyatlarına sahip hem bir alım hem de bir put opsiyonunu satın almayı veya satmayı içeren stratejiler uygulama. |\n",
    "| Yaka                          | Altında yatırım yapılırken aynı anda bir koruyucu put opsiyonu almayı ve bir karşı tarafça örtülü çağrı yazmayı içeren stratejiler uygulama. |\n",
    "| Turna                           | Aynı son kullanma tarihine sahip dört opsiyon sözleşmesini içeren stratejiler uygulama. |\n",
    "| Kutu Yayılımı                   | Boğa çağrı yayılımı ve ayı put yayılımının bir kombinasyonunu içeren stratejiler uygulama. |\n",
    "| Oran Yayılımı                   | Belirli bir oranda opsiyon almayı ve satmayı içeren stratejiler uygulama. |\n",
    "\n"
   ]
  },
  {
   "cell_type": "markdown",
   "id": "1610b673",
   "metadata": {},
   "source": [
    "## Örnek 2: Bollinger Bantları ve Göreceli Güç Endeksi (RSI)\n",
    "\n",
    "Backtrader ile Bollinger Bantlarını ve Göreceli Güç Endeksi'ni (RSI) kullanarak daha karmaşık bir strateji oluşturalım. Bu strateji şunları sağlayacaktır:\n",
    "- Fiyat alt Bollinger Bandının altında kapandığında ve RSI 30'un altında olduğunda (aşırı satış durumunu gösterir) satın alın.\n",
    "- Fiyat üst Bollinger Bandının üzerinde kapandığında ve RSI 70'in üzerinde olduğunda satış yapın (aşırı alım durumunu gösterir).\n",
    "\n",
    "\n",
    "### Not:\n",
    "- Stratejinin sağlamlığından emin olmak için farklı verilerle ve çeşitli senaryolar altında doğrulandığından emin olun.\n",
    "- Geçmiş performansın gelecekteki sonuçların göstergesi olmadığını ve geriye dönük testin bir ticaret stratejisi geliştirirken kullanılan birçok araçtan biri olması gerektiğini unutmayın.\n",
    "- Ticaret stratejileri geliştirirken daima sağlam risk yönetimi ilkelerine bağlı kalın."
   ]
  },
  {
   "cell_type": "code",
   "execution_count": 3,
   "id": "05e0a054",
   "metadata": {},
   "outputs": [
    {
     "name": "stdout",
     "output_type": "stream",
     "text": [
      "[*********************100%***********************]  1 of 1 completed\n",
      "Başlangıç ​​Portföy Değeri: 100000.00\n",
      "Bitiş Portföy Değeri: 159804.48\n"
     ]
    },
    {
     "data": {
      "application/javascript": "/* Put everything inside the global mpl namespace */\n/* global mpl */\nwindow.mpl = {};\n\nmpl.get_websocket_type = function () {\n    if (typeof WebSocket !== 'undefined') {\n        return WebSocket;\n    } else if (typeof MozWebSocket !== 'undefined') {\n        return MozWebSocket;\n    } else {\n        alert(\n            'Your browser does not have WebSocket support. ' +\n                'Please try Chrome, Safari or Firefox ≥ 6. ' +\n                'Firefox 4 and 5 are also supported but you ' +\n                'have to enable WebSockets in about:config.'\n        );\n    }\n};\n\nmpl.figure = function (figure_id, websocket, ondownload, parent_element) {\n    this.id = figure_id;\n\n    this.ws = websocket;\n\n    this.supports_binary = this.ws.binaryType !== undefined;\n\n    if (!this.supports_binary) {\n        var warnings = document.getElementById('mpl-warnings');\n        if (warnings) {\n            warnings.style.display = 'block';\n            warnings.textContent =\n                'This browser does not support binary websocket messages. ' +\n                'Performance may be slow.';\n        }\n    }\n\n    this.imageObj = new Image();\n\n    this.context = undefined;\n    this.message = undefined;\n    this.canvas = undefined;\n    this.rubberband_canvas = undefined;\n    this.rubberband_context = undefined;\n    this.format_dropdown = undefined;\n\n    this.image_mode = 'full';\n\n    this.root = document.createElement('div');\n    this.root.setAttribute('style', 'display: inline-block');\n    this._root_extra_style(this.root);\n\n    parent_element.appendChild(this.root);\n\n    this._init_header(this);\n    this._init_canvas(this);\n    this._init_toolbar(this);\n\n    var fig = this;\n\n    this.waiting = false;\n\n    this.ws.onopen = function () {\n        fig.send_message('supports_binary', { value: fig.supports_binary });\n        fig.send_message('send_image_mode', {});\n        if (fig.ratio !== 1) {\n            fig.send_message('set_device_pixel_ratio', {\n                device_pixel_ratio: fig.ratio,\n            });\n        }\n        fig.send_message('refresh', {});\n    };\n\n    this.imageObj.onload = function () {\n        if (fig.image_mode === 'full') {\n            // Full images could contain transparency (where diff images\n            // almost always do), so we need to clear the canvas so that\n            // there is no ghosting.\n            fig.context.clearRect(0, 0, fig.canvas.width, fig.canvas.height);\n        }\n        fig.context.drawImage(fig.imageObj, 0, 0);\n    };\n\n    this.imageObj.onunload = function () {\n        fig.ws.close();\n    };\n\n    this.ws.onmessage = this._make_on_message_function(this);\n\n    this.ondownload = ondownload;\n};\n\nmpl.figure.prototype._init_header = function () {\n    var titlebar = document.createElement('div');\n    titlebar.classList =\n        'ui-dialog-titlebar ui-widget-header ui-corner-all ui-helper-clearfix';\n    var titletext = document.createElement('div');\n    titletext.classList = 'ui-dialog-title';\n    titletext.setAttribute(\n        'style',\n        'width: 100%; text-align: center; padding: 3px;'\n    );\n    titlebar.appendChild(titletext);\n    this.root.appendChild(titlebar);\n    this.header = titletext;\n};\n\nmpl.figure.prototype._canvas_extra_style = function (_canvas_div) {};\n\nmpl.figure.prototype._root_extra_style = function (_canvas_div) {};\n\nmpl.figure.prototype._init_canvas = function () {\n    var fig = this;\n\n    var canvas_div = (this.canvas_div = document.createElement('div'));\n    canvas_div.setAttribute('tabindex', '0');\n    canvas_div.setAttribute(\n        'style',\n        'border: 1px solid #ddd;' +\n            'box-sizing: content-box;' +\n            'clear: both;' +\n            'min-height: 1px;' +\n            'min-width: 1px;' +\n            'outline: 0;' +\n            'overflow: hidden;' +\n            'position: relative;' +\n            'resize: both;' +\n            'z-index: 2;'\n    );\n\n    function on_keyboard_event_closure(name) {\n        return function (event) {\n            return fig.key_event(event, name);\n        };\n    }\n\n    canvas_div.addEventListener(\n        'keydown',\n        on_keyboard_event_closure('key_press')\n    );\n    canvas_div.addEventListener(\n        'keyup',\n        on_keyboard_event_closure('key_release')\n    );\n\n    this._canvas_extra_style(canvas_div);\n    this.root.appendChild(canvas_div);\n\n    var canvas = (this.canvas = document.createElement('canvas'));\n    canvas.classList.add('mpl-canvas');\n    canvas.setAttribute(\n        'style',\n        'box-sizing: content-box;' +\n            'pointer-events: none;' +\n            'position: relative;' +\n            'z-index: 0;'\n    );\n\n    this.context = canvas.getContext('2d');\n\n    var backingStore =\n        this.context.backingStorePixelRatio ||\n        this.context.webkitBackingStorePixelRatio ||\n        this.context.mozBackingStorePixelRatio ||\n        this.context.msBackingStorePixelRatio ||\n        this.context.oBackingStorePixelRatio ||\n        this.context.backingStorePixelRatio ||\n        1;\n\n    this.ratio = (window.devicePixelRatio || 1) / backingStore;\n\n    var rubberband_canvas = (this.rubberband_canvas = document.createElement(\n        'canvas'\n    ));\n    rubberband_canvas.setAttribute(\n        'style',\n        'box-sizing: content-box;' +\n            'left: 0;' +\n            'pointer-events: none;' +\n            'position: absolute;' +\n            'top: 0;' +\n            'z-index: 1;'\n    );\n\n    // Apply a ponyfill if ResizeObserver is not implemented by browser.\n    if (this.ResizeObserver === undefined) {\n        if (window.ResizeObserver !== undefined) {\n            this.ResizeObserver = window.ResizeObserver;\n        } else {\n            var obs = _JSXTOOLS_RESIZE_OBSERVER({});\n            this.ResizeObserver = obs.ResizeObserver;\n        }\n    }\n\n    this.resizeObserverInstance = new this.ResizeObserver(function (entries) {\n        var nentries = entries.length;\n        for (var i = 0; i < nentries; i++) {\n            var entry = entries[i];\n            var width, height;\n            if (entry.contentBoxSize) {\n                if (entry.contentBoxSize instanceof Array) {\n                    // Chrome 84 implements new version of spec.\n                    width = entry.contentBoxSize[0].inlineSize;\n                    height = entry.contentBoxSize[0].blockSize;\n                } else {\n                    // Firefox implements old version of spec.\n                    width = entry.contentBoxSize.inlineSize;\n                    height = entry.contentBoxSize.blockSize;\n                }\n            } else {\n                // Chrome <84 implements even older version of spec.\n                width = entry.contentRect.width;\n                height = entry.contentRect.height;\n            }\n\n            // Keep the size of the canvas and rubber band canvas in sync with\n            // the canvas container.\n            if (entry.devicePixelContentBoxSize) {\n                // Chrome 84 implements new version of spec.\n                canvas.setAttribute(\n                    'width',\n                    entry.devicePixelContentBoxSize[0].inlineSize\n                );\n                canvas.setAttribute(\n                    'height',\n                    entry.devicePixelContentBoxSize[0].blockSize\n                );\n            } else {\n                canvas.setAttribute('width', width * fig.ratio);\n                canvas.setAttribute('height', height * fig.ratio);\n            }\n            /* This rescales the canvas back to display pixels, so that it\n             * appears correct on HiDPI screens. */\n            canvas.style.width = width + 'px';\n            canvas.style.height = height + 'px';\n\n            rubberband_canvas.setAttribute('width', width);\n            rubberband_canvas.setAttribute('height', height);\n\n            // And update the size in Python. We ignore the initial 0/0 size\n            // that occurs as the element is placed into the DOM, which should\n            // otherwise not happen due to the minimum size styling.\n            if (fig.ws.readyState == 1 && width != 0 && height != 0) {\n                fig.request_resize(width, height);\n            }\n        }\n    });\n    this.resizeObserverInstance.observe(canvas_div);\n\n    function on_mouse_event_closure(name) {\n        /* User Agent sniffing is bad, but WebKit is busted:\n         * https://bugs.webkit.org/show_bug.cgi?id=144526\n         * https://bugs.webkit.org/show_bug.cgi?id=181818\n         * The worst that happens here is that they get an extra browser\n         * selection when dragging, if this check fails to catch them.\n         */\n        var UA = navigator.userAgent;\n        var isWebKit = /AppleWebKit/.test(UA) && !/Chrome/.test(UA);\n        if(isWebKit) {\n            return function (event) {\n                /* This prevents the web browser from automatically changing to\n                 * the text insertion cursor when the button is pressed. We\n                 * want to control all of the cursor setting manually through\n                 * the 'cursor' event from matplotlib */\n                event.preventDefault()\n                return fig.mouse_event(event, name);\n            };\n        } else {\n            return function (event) {\n                return fig.mouse_event(event, name);\n            };\n        }\n    }\n\n    canvas_div.addEventListener(\n        'mousedown',\n        on_mouse_event_closure('button_press')\n    );\n    canvas_div.addEventListener(\n        'mouseup',\n        on_mouse_event_closure('button_release')\n    );\n    canvas_div.addEventListener(\n        'dblclick',\n        on_mouse_event_closure('dblclick')\n    );\n    // Throttle sequential mouse events to 1 every 20ms.\n    canvas_div.addEventListener(\n        'mousemove',\n        on_mouse_event_closure('motion_notify')\n    );\n\n    canvas_div.addEventListener(\n        'mouseenter',\n        on_mouse_event_closure('figure_enter')\n    );\n    canvas_div.addEventListener(\n        'mouseleave',\n        on_mouse_event_closure('figure_leave')\n    );\n\n    canvas_div.addEventListener('wheel', function (event) {\n        if (event.deltaY < 0) {\n            event.step = 1;\n        } else {\n            event.step = -1;\n        }\n        on_mouse_event_closure('scroll')(event);\n    });\n\n    canvas_div.appendChild(canvas);\n    canvas_div.appendChild(rubberband_canvas);\n\n    this.rubberband_context = rubberband_canvas.getContext('2d');\n    this.rubberband_context.strokeStyle = '#000000';\n\n    this._resize_canvas = function (width, height, forward) {\n        if (forward) {\n            canvas_div.style.width = width + 'px';\n            canvas_div.style.height = height + 'px';\n        }\n    };\n\n    // Disable right mouse context menu.\n    canvas_div.addEventListener('contextmenu', function (_e) {\n        event.preventDefault();\n        return false;\n    });\n\n    function set_focus() {\n        canvas.focus();\n        canvas_div.focus();\n    }\n\n    window.setTimeout(set_focus, 100);\n};\n\nmpl.figure.prototype._init_toolbar = function () {\n    var fig = this;\n\n    var toolbar = document.createElement('div');\n    toolbar.classList = 'mpl-toolbar';\n    this.root.appendChild(toolbar);\n\n    function on_click_closure(name) {\n        return function (_event) {\n            return fig.toolbar_button_onclick(name);\n        };\n    }\n\n    function on_mouseover_closure(tooltip) {\n        return function (event) {\n            if (!event.currentTarget.disabled) {\n                return fig.toolbar_button_onmouseover(tooltip);\n            }\n        };\n    }\n\n    fig.buttons = {};\n    var buttonGroup = document.createElement('div');\n    buttonGroup.classList = 'mpl-button-group';\n    for (var toolbar_ind in mpl.toolbar_items) {\n        var name = mpl.toolbar_items[toolbar_ind][0];\n        var tooltip = mpl.toolbar_items[toolbar_ind][1];\n        var image = mpl.toolbar_items[toolbar_ind][2];\n        var method_name = mpl.toolbar_items[toolbar_ind][3];\n\n        if (!name) {\n            /* Instead of a spacer, we start a new button group. */\n            if (buttonGroup.hasChildNodes()) {\n                toolbar.appendChild(buttonGroup);\n            }\n            buttonGroup = document.createElement('div');\n            buttonGroup.classList = 'mpl-button-group';\n            continue;\n        }\n\n        var button = (fig.buttons[name] = document.createElement('button'));\n        button.classList = 'mpl-widget';\n        button.setAttribute('role', 'button');\n        button.setAttribute('aria-disabled', 'false');\n        button.addEventListener('click', on_click_closure(method_name));\n        button.addEventListener('mouseover', on_mouseover_closure(tooltip));\n\n        var icon_img = document.createElement('img');\n        icon_img.src = '_images/' + image + '.png';\n        icon_img.srcset = '_images/' + image + '_large.png 2x';\n        icon_img.alt = tooltip;\n        button.appendChild(icon_img);\n\n        buttonGroup.appendChild(button);\n    }\n\n    if (buttonGroup.hasChildNodes()) {\n        toolbar.appendChild(buttonGroup);\n    }\n\n    var fmt_picker = document.createElement('select');\n    fmt_picker.classList = 'mpl-widget';\n    toolbar.appendChild(fmt_picker);\n    this.format_dropdown = fmt_picker;\n\n    for (var ind in mpl.extensions) {\n        var fmt = mpl.extensions[ind];\n        var option = document.createElement('option');\n        option.selected = fmt === mpl.default_extension;\n        option.innerHTML = fmt;\n        fmt_picker.appendChild(option);\n    }\n\n    var status_bar = document.createElement('span');\n    status_bar.classList = 'mpl-message';\n    toolbar.appendChild(status_bar);\n    this.message = status_bar;\n};\n\nmpl.figure.prototype.request_resize = function (x_pixels, y_pixels) {\n    // Request matplotlib to resize the figure. Matplotlib will then trigger a resize in the client,\n    // which will in turn request a refresh of the image.\n    this.send_message('resize', { width: x_pixels, height: y_pixels });\n};\n\nmpl.figure.prototype.send_message = function (type, properties) {\n    properties['type'] = type;\n    properties['figure_id'] = this.id;\n    this.ws.send(JSON.stringify(properties));\n};\n\nmpl.figure.prototype.send_draw_message = function () {\n    if (!this.waiting) {\n        this.waiting = true;\n        this.ws.send(JSON.stringify({ type: 'draw', figure_id: this.id }));\n    }\n};\n\nmpl.figure.prototype.handle_save = function (fig, _msg) {\n    var format_dropdown = fig.format_dropdown;\n    var format = format_dropdown.options[format_dropdown.selectedIndex].value;\n    fig.ondownload(fig, format);\n};\n\nmpl.figure.prototype.handle_resize = function (fig, msg) {\n    var size = msg['size'];\n    if (size[0] !== fig.canvas.width || size[1] !== fig.canvas.height) {\n        fig._resize_canvas(size[0], size[1], msg['forward']);\n        fig.send_message('refresh', {});\n    }\n};\n\nmpl.figure.prototype.handle_rubberband = function (fig, msg) {\n    var x0 = msg['x0'] / fig.ratio;\n    var y0 = (fig.canvas.height - msg['y0']) / fig.ratio;\n    var x1 = msg['x1'] / fig.ratio;\n    var y1 = (fig.canvas.height - msg['y1']) / fig.ratio;\n    x0 = Math.floor(x0) + 0.5;\n    y0 = Math.floor(y0) + 0.5;\n    x1 = Math.floor(x1) + 0.5;\n    y1 = Math.floor(y1) + 0.5;\n    var min_x = Math.min(x0, x1);\n    var min_y = Math.min(y0, y1);\n    var width = Math.abs(x1 - x0);\n    var height = Math.abs(y1 - y0);\n\n    fig.rubberband_context.clearRect(\n        0,\n        0,\n        fig.canvas.width / fig.ratio,\n        fig.canvas.height / fig.ratio\n    );\n\n    fig.rubberband_context.strokeRect(min_x, min_y, width, height);\n};\n\nmpl.figure.prototype.handle_figure_label = function (fig, msg) {\n    // Updates the figure title.\n    fig.header.textContent = msg['label'];\n};\n\nmpl.figure.prototype.handle_cursor = function (fig, msg) {\n    fig.canvas_div.style.cursor = msg['cursor'];\n};\n\nmpl.figure.prototype.handle_message = function (fig, msg) {\n    fig.message.textContent = msg['message'];\n};\n\nmpl.figure.prototype.handle_draw = function (fig, _msg) {\n    // Request the server to send over a new figure.\n    fig.send_draw_message();\n};\n\nmpl.figure.prototype.handle_image_mode = function (fig, msg) {\n    fig.image_mode = msg['mode'];\n};\n\nmpl.figure.prototype.handle_history_buttons = function (fig, msg) {\n    for (var key in msg) {\n        if (!(key in fig.buttons)) {\n            continue;\n        }\n        fig.buttons[key].disabled = !msg[key];\n        fig.buttons[key].setAttribute('aria-disabled', !msg[key]);\n    }\n};\n\nmpl.figure.prototype.handle_navigate_mode = function (fig, msg) {\n    if (msg['mode'] === 'PAN') {\n        fig.buttons['Pan'].classList.add('active');\n        fig.buttons['Zoom'].classList.remove('active');\n    } else if (msg['mode'] === 'ZOOM') {\n        fig.buttons['Pan'].classList.remove('active');\n        fig.buttons['Zoom'].classList.add('active');\n    } else {\n        fig.buttons['Pan'].classList.remove('active');\n        fig.buttons['Zoom'].classList.remove('active');\n    }\n};\n\nmpl.figure.prototype.updated_canvas_event = function () {\n    // Called whenever the canvas gets updated.\n    this.send_message('ack', {});\n};\n\n// A function to construct a web socket function for onmessage handling.\n// Called in the figure constructor.\nmpl.figure.prototype._make_on_message_function = function (fig) {\n    return function socket_on_message(evt) {\n        if (evt.data instanceof Blob) {\n            var img = evt.data;\n            if (img.type !== 'image/png') {\n                /* FIXME: We get \"Resource interpreted as Image but\n                 * transferred with MIME type text/plain:\" errors on\n                 * Chrome.  But how to set the MIME type?  It doesn't seem\n                 * to be part of the websocket stream */\n                img.type = 'image/png';\n            }\n\n            /* Free the memory for the previous frames */\n            if (fig.imageObj.src) {\n                (window.URL || window.webkitURL).revokeObjectURL(\n                    fig.imageObj.src\n                );\n            }\n\n            fig.imageObj.src = (window.URL || window.webkitURL).createObjectURL(\n                img\n            );\n            fig.updated_canvas_event();\n            fig.waiting = false;\n            return;\n        } else if (\n            typeof evt.data === 'string' &&\n            evt.data.slice(0, 21) === 'data:image/png;base64'\n        ) {\n            fig.imageObj.src = evt.data;\n            fig.updated_canvas_event();\n            fig.waiting = false;\n            return;\n        }\n\n        var msg = JSON.parse(evt.data);\n        var msg_type = msg['type'];\n\n        // Call the  \"handle_{type}\" callback, which takes\n        // the figure and JSON message as its only arguments.\n        try {\n            var callback = fig['handle_' + msg_type];\n        } catch (e) {\n            console.log(\n                \"No handler for the '\" + msg_type + \"' message type: \",\n                msg\n            );\n            return;\n        }\n\n        if (callback) {\n            try {\n                // console.log(\"Handling '\" + msg_type + \"' message: \", msg);\n                callback(fig, msg);\n            } catch (e) {\n                console.log(\n                    \"Exception inside the 'handler_\" + msg_type + \"' callback:\",\n                    e,\n                    e.stack,\n                    msg\n                );\n            }\n        }\n    };\n};\n\nfunction getModifiers(event) {\n    var mods = [];\n    if (event.ctrlKey) {\n        mods.push('ctrl');\n    }\n    if (event.altKey) {\n        mods.push('alt');\n    }\n    if (event.shiftKey) {\n        mods.push('shift');\n    }\n    if (event.metaKey) {\n        mods.push('meta');\n    }\n    return mods;\n}\n\n/*\n * return a copy of an object with only non-object keys\n * we need this to avoid circular references\n * https://stackoverflow.com/a/24161582/3208463\n */\nfunction simpleKeys(original) {\n    return Object.keys(original).reduce(function (obj, key) {\n        if (typeof original[key] !== 'object') {\n            obj[key] = original[key];\n        }\n        return obj;\n    }, {});\n}\n\nmpl.figure.prototype.mouse_event = function (event, name) {\n    if (name === 'button_press') {\n        this.canvas.focus();\n        this.canvas_div.focus();\n    }\n\n    // from https://stackoverflow.com/q/1114465\n    var boundingRect = this.canvas.getBoundingClientRect();\n    var x = (event.clientX - boundingRect.left) * this.ratio;\n    var y = (event.clientY - boundingRect.top) * this.ratio;\n\n    this.send_message(name, {\n        x: x,\n        y: y,\n        button: event.button,\n        step: event.step,\n        modifiers: getModifiers(event),\n        guiEvent: simpleKeys(event),\n    });\n\n    return false;\n};\n\nmpl.figure.prototype._key_event_extra = function (_event, _name) {\n    // Handle any extra behaviour associated with a key event\n};\n\nmpl.figure.prototype.key_event = function (event, name) {\n    // Prevent repeat events\n    if (name === 'key_press') {\n        if (event.key === this._key) {\n            return;\n        } else {\n            this._key = event.key;\n        }\n    }\n    if (name === 'key_release') {\n        this._key = null;\n    }\n\n    var value = '';\n    if (event.ctrlKey && event.key !== 'Control') {\n        value += 'ctrl+';\n    }\n    else if (event.altKey && event.key !== 'Alt') {\n        value += 'alt+';\n    }\n    else if (event.shiftKey && event.key !== 'Shift') {\n        value += 'shift+';\n    }\n\n    value += 'k' + event.key;\n\n    this._key_event_extra(event, name);\n\n    this.send_message(name, { key: value, guiEvent: simpleKeys(event) });\n    return false;\n};\n\nmpl.figure.prototype.toolbar_button_onclick = function (name) {\n    if (name === 'download') {\n        this.handle_save(this, null);\n    } else {\n        this.send_message('toolbar_button', { name: name });\n    }\n};\n\nmpl.figure.prototype.toolbar_button_onmouseover = function (tooltip) {\n    this.message.textContent = tooltip;\n};\n\n///////////////// REMAINING CONTENT GENERATED BY embed_js.py /////////////////\n// prettier-ignore\nvar _JSXTOOLS_RESIZE_OBSERVER=function(A){var t,i=new WeakMap,n=new WeakMap,a=new WeakMap,r=new WeakMap,o=new Set;function s(e){if(!(this instanceof s))throw new TypeError(\"Constructor requires 'new' operator\");i.set(this,e)}function h(){throw new TypeError(\"Function is not a constructor\")}function c(e,t,i,n){e=0 in arguments?Number(arguments[0]):0,t=1 in arguments?Number(arguments[1]):0,i=2 in arguments?Number(arguments[2]):0,n=3 in arguments?Number(arguments[3]):0,this.right=(this.x=this.left=e)+(this.width=i),this.bottom=(this.y=this.top=t)+(this.height=n),Object.freeze(this)}function d(){t=requestAnimationFrame(d);var s=new WeakMap,p=new Set;o.forEach((function(t){r.get(t).forEach((function(i){var r=t instanceof window.SVGElement,o=a.get(t),d=r?0:parseFloat(o.paddingTop),f=r?0:parseFloat(o.paddingRight),l=r?0:parseFloat(o.paddingBottom),u=r?0:parseFloat(o.paddingLeft),g=r?0:parseFloat(o.borderTopWidth),m=r?0:parseFloat(o.borderRightWidth),w=r?0:parseFloat(o.borderBottomWidth),b=u+f,F=d+l,v=(r?0:parseFloat(o.borderLeftWidth))+m,W=g+w,y=r?0:t.offsetHeight-W-t.clientHeight,E=r?0:t.offsetWidth-v-t.clientWidth,R=b+v,z=F+W,M=r?t.width:parseFloat(o.width)-R-E,O=r?t.height:parseFloat(o.height)-z-y;if(n.has(t)){var k=n.get(t);if(k[0]===M&&k[1]===O)return}n.set(t,[M,O]);var S=Object.create(h.prototype);S.target=t,S.contentRect=new c(u,d,M,O),s.has(i)||(s.set(i,[]),p.add(i)),s.get(i).push(S)}))})),p.forEach((function(e){i.get(e).call(e,s.get(e),e)}))}return s.prototype.observe=function(i){if(i instanceof window.Element){r.has(i)||(r.set(i,new Set),o.add(i),a.set(i,window.getComputedStyle(i)));var n=r.get(i);n.has(this)||n.add(this),cancelAnimationFrame(t),t=requestAnimationFrame(d)}},s.prototype.unobserve=function(i){if(i instanceof window.Element&&r.has(i)){var n=r.get(i);n.has(this)&&(n.delete(this),n.size||(r.delete(i),o.delete(i))),n.size||r.delete(i),o.size||cancelAnimationFrame(t)}},A.DOMRectReadOnly=c,A.ResizeObserver=s,A.ResizeObserverEntry=h,A}; // eslint-disable-line\nmpl.toolbar_items = [[\"Home\", \"Reset original view\", \"fa fa-home\", \"home\"], [\"Back\", \"Back to previous view\", \"fa fa-arrow-left\", \"back\"], [\"Forward\", \"Forward to next view\", \"fa fa-arrow-right\", \"forward\"], [\"\", \"\", \"\", \"\"], [\"Pan\", \"Left button pans, Right button zooms\\nx/y fixes axis, CTRL fixes aspect\", \"fa fa-arrows\", \"pan\"], [\"Zoom\", \"Zoom to rectangle\\nx/y fixes axis\", \"fa fa-square-o\", \"zoom\"], [\"\", \"\", \"\", \"\"], [\"Download\", \"Download plot\", \"fa fa-floppy-o\", \"download\"]];\n\nmpl.extensions = [\"eps\", \"jpeg\", \"pgf\", \"pdf\", \"png\", \"ps\", \"raw\", \"svg\", \"tif\", \"webp\"];\n\nmpl.default_extension = \"png\";/* global mpl */\n\nvar comm_websocket_adapter = function (comm) {\n    // Create a \"websocket\"-like object which calls the given IPython comm\n    // object with the appropriate methods. Currently this is a non binary\n    // socket, so there is still some room for performance tuning.\n    var ws = {};\n\n    ws.binaryType = comm.kernel.ws.binaryType;\n    ws.readyState = comm.kernel.ws.readyState;\n    function updateReadyState(_event) {\n        if (comm.kernel.ws) {\n            ws.readyState = comm.kernel.ws.readyState;\n        } else {\n            ws.readyState = 3; // Closed state.\n        }\n    }\n    comm.kernel.ws.addEventListener('open', updateReadyState);\n    comm.kernel.ws.addEventListener('close', updateReadyState);\n    comm.kernel.ws.addEventListener('error', updateReadyState);\n\n    ws.close = function () {\n        comm.close();\n    };\n    ws.send = function (m) {\n        //console.log('sending', m);\n        comm.send(m);\n    };\n    // Register the callback with on_msg.\n    comm.on_msg(function (msg) {\n        //console.log('receiving', msg['content']['data'], msg);\n        var data = msg['content']['data'];\n        if (data['blob'] !== undefined) {\n            data = {\n                data: new Blob(msg['buffers'], { type: data['blob'] }),\n            };\n        }\n        // Pass the mpl event to the overridden (by mpl) onmessage function.\n        ws.onmessage(data);\n    });\n    return ws;\n};\n\nmpl.mpl_figure_comm = function (comm, msg) {\n    // This is the function which gets called when the mpl process\n    // starts-up an IPython Comm through the \"matplotlib\" channel.\n\n    var id = msg.content.data.id;\n    // Get hold of the div created by the display call when the Comm\n    // socket was opened in Python.\n    var element = document.getElementById(id);\n    var ws_proxy = comm_websocket_adapter(comm);\n\n    function ondownload(figure, _format) {\n        window.open(figure.canvas.toDataURL());\n    }\n\n    var fig = new mpl.figure(id, ws_proxy, ondownload, element);\n\n    // Call onopen now - mpl needs it, as it is assuming we've passed it a real\n    // web socket which is closed, not our websocket->open comm proxy.\n    ws_proxy.onopen();\n\n    fig.parent_element = element;\n    fig.cell_info = mpl.find_output_cell(\"<div id='\" + id + \"'></div>\");\n    if (!fig.cell_info) {\n        console.error('Failed to find cell for figure', id, fig);\n        return;\n    }\n    fig.cell_info[0].output_area.element.on(\n        'cleared',\n        { fig: fig },\n        fig._remove_fig_handler\n    );\n};\n\nmpl.figure.prototype.handle_close = function (fig, msg) {\n    var width = fig.canvas.width / fig.ratio;\n    fig.cell_info[0].output_area.element.off(\n        'cleared',\n        fig._remove_fig_handler\n    );\n    fig.resizeObserverInstance.unobserve(fig.canvas_div);\n\n    // Update the output cell to use the data from the current canvas.\n    fig.push_to_output();\n    var dataURL = fig.canvas.toDataURL();\n    // Re-enable the keyboard manager in IPython - without this line, in FF,\n    // the notebook keyboard shortcuts fail.\n    IPython.keyboard_manager.enable();\n    fig.parent_element.innerHTML =\n        '<img src=\"' + dataURL + '\" width=\"' + width + '\">';\n    fig.close_ws(fig, msg);\n};\n\nmpl.figure.prototype.close_ws = function (fig, msg) {\n    fig.send_message('closing', msg);\n    // fig.ws.close()\n};\n\nmpl.figure.prototype.push_to_output = function (_remove_interactive) {\n    // Turn the data on the canvas into data in the output cell.\n    var width = this.canvas.width / this.ratio;\n    var dataURL = this.canvas.toDataURL();\n    this.cell_info[1]['text/html'] =\n        '<img src=\"' + dataURL + '\" width=\"' + width + '\">';\n};\n\nmpl.figure.prototype.updated_canvas_event = function () {\n    // Tell IPython that the notebook contents must change.\n    IPython.notebook.set_dirty(true);\n    this.send_message('ack', {});\n    var fig = this;\n    // Wait a second, then push the new image to the DOM so\n    // that it is saved nicely (might be nice to debounce this).\n    setTimeout(function () {\n        fig.push_to_output();\n    }, 1000);\n};\n\nmpl.figure.prototype._init_toolbar = function () {\n    var fig = this;\n\n    var toolbar = document.createElement('div');\n    toolbar.classList = 'btn-toolbar';\n    this.root.appendChild(toolbar);\n\n    function on_click_closure(name) {\n        return function (_event) {\n            return fig.toolbar_button_onclick(name);\n        };\n    }\n\n    function on_mouseover_closure(tooltip) {\n        return function (event) {\n            if (!event.currentTarget.disabled) {\n                return fig.toolbar_button_onmouseover(tooltip);\n            }\n        };\n    }\n\n    fig.buttons = {};\n    var buttonGroup = document.createElement('div');\n    buttonGroup.classList = 'btn-group';\n    var button;\n    for (var toolbar_ind in mpl.toolbar_items) {\n        var name = mpl.toolbar_items[toolbar_ind][0];\n        var tooltip = mpl.toolbar_items[toolbar_ind][1];\n        var image = mpl.toolbar_items[toolbar_ind][2];\n        var method_name = mpl.toolbar_items[toolbar_ind][3];\n\n        if (!name) {\n            /* Instead of a spacer, we start a new button group. */\n            if (buttonGroup.hasChildNodes()) {\n                toolbar.appendChild(buttonGroup);\n            }\n            buttonGroup = document.createElement('div');\n            buttonGroup.classList = 'btn-group';\n            continue;\n        }\n\n        button = fig.buttons[name] = document.createElement('button');\n        button.classList = 'btn btn-default';\n        button.href = '#';\n        button.title = name;\n        button.innerHTML = '<i class=\"fa ' + image + ' fa-lg\"></i>';\n        button.addEventListener('click', on_click_closure(method_name));\n        button.addEventListener('mouseover', on_mouseover_closure(tooltip));\n        buttonGroup.appendChild(button);\n    }\n\n    if (buttonGroup.hasChildNodes()) {\n        toolbar.appendChild(buttonGroup);\n    }\n\n    // Add the status bar.\n    var status_bar = document.createElement('span');\n    status_bar.classList = 'mpl-message pull-right';\n    toolbar.appendChild(status_bar);\n    this.message = status_bar;\n\n    // Add the close button to the window.\n    var buttongrp = document.createElement('div');\n    buttongrp.classList = 'btn-group inline pull-right';\n    button = document.createElement('button');\n    button.classList = 'btn btn-mini btn-primary';\n    button.href = '#';\n    button.title = 'Stop Interaction';\n    button.innerHTML = '<i class=\"fa fa-power-off icon-remove icon-large\"></i>';\n    button.addEventListener('click', function (_evt) {\n        fig.handle_close(fig, {});\n    });\n    button.addEventListener(\n        'mouseover',\n        on_mouseover_closure('Stop Interaction')\n    );\n    buttongrp.appendChild(button);\n    var titlebar = this.root.querySelector('.ui-dialog-titlebar');\n    titlebar.insertBefore(buttongrp, titlebar.firstChild);\n};\n\nmpl.figure.prototype._remove_fig_handler = function (event) {\n    var fig = event.data.fig;\n    if (event.target !== this) {\n        // Ignore bubbled events from children.\n        return;\n    }\n    fig.close_ws(fig, {});\n};\n\nmpl.figure.prototype._root_extra_style = function (el) {\n    el.style.boxSizing = 'content-box'; // override notebook setting of border-box.\n};\n\nmpl.figure.prototype._canvas_extra_style = function (el) {\n    // this is important to make the div 'focusable\n    el.setAttribute('tabindex', 0);\n    // reach out to IPython and tell the keyboard manager to turn it's self\n    // off when our div gets focus\n\n    // location in version 3\n    if (IPython.notebook.keyboard_manager) {\n        IPython.notebook.keyboard_manager.register_events(el);\n    } else {\n        // location in version 2\n        IPython.keyboard_manager.register_events(el);\n    }\n};\n\nmpl.figure.prototype._key_event_extra = function (event, _name) {\n    // Check for shift+enter\n    if (event.shiftKey && event.which === 13) {\n        this.canvas_div.blur();\n        // select the cell after this one\n        var index = IPython.notebook.find_cell_index(this.cell_info[0]);\n        IPython.notebook.select(index + 1);\n    }\n};\n\nmpl.figure.prototype.handle_save = function (fig, _msg) {\n    fig.ondownload(fig, null);\n};\n\nmpl.find_output_cell = function (html_output) {\n    // Return the cell and output element which can be found *uniquely* in the notebook.\n    // Note - this is a bit hacky, but it is done because the \"notebook_saving.Notebook\"\n    // IPython event is triggered only after the cells have been serialised, which for\n    // our purposes (turning an active figure into a static one), is too late.\n    var cells = IPython.notebook.get_cells();\n    var ncells = cells.length;\n    for (var i = 0; i < ncells; i++) {\n        var cell = cells[i];\n        if (cell.cell_type === 'code') {\n            for (var j = 0; j < cell.output_area.outputs.length; j++) {\n                var data = cell.output_area.outputs[j];\n                if (data.data) {\n                    // IPython >= 3 moved mimebundle to data attribute of output\n                    data = data.data;\n                }\n                if (data['text/html'] === html_output) {\n                    return [cell, data, j];\n                }\n            }\n        }\n    }\n};\n\n// Register the function which deals with the matplotlib target/channel.\n// The kernel may be null if the page has been refreshed.\nif (IPython.notebook.kernel !== null) {\n    IPython.notebook.kernel.comm_manager.register_target(\n        'matplotlib',\n        mpl.mpl_figure_comm\n    );\n}\n",
      "text/plain": [
       "<IPython.core.display.Javascript object>"
      ]
     },
     "metadata": {},
     "output_type": "display_data"
    },
    {
     "data": {
      "text/html": [
       "<div id='a0b6bb16-23f9-4a29-83b6-df561ae0d929'></div>"
      ],
      "text/plain": [
       "<IPython.core.display.HTML object>"
      ]
     },
     "metadata": {},
     "output_type": "display_data"
    },
    {
     "data": {
      "text/plain": [
       "[[<Figure size 640x480 with 3 Axes>]]"
      ]
     },
     "execution_count": 3,
     "metadata": {},
     "output_type": "execute_result"
    }
   ],
   "source": [
    "import backtrader as bt\n",
    "import yfinance as yf\n",
    "import datetime\n",
    "\n",
    "# Strateji Oluşturun\n",
    "class BollingerRSIStrategy(bt.Strategy):\n",
    "    params = (\n",
    "        (\"bband_period\", 20),\n",
    "        (\"rsi_period\", 14),\n",
    "        (\"overbought\", 70),\n",
    "        (\"oversold\", 30),\n",
    "        (\"stddev\", 2),\n",
    "    )\n",
    "\n",
    "    def __init__(self):\n",
    "        self.bband = bt.indicators.BollingerBands(\n",
    "            self.data.close, period=self.params.bband_period, devfactor=self.params.stddev\n",
    "        )\n",
    "        self.rsi = bt.indicators.RelativeStrengthIndex(\n",
    "            period=self.params.rsi_period\n",
    "        )\n",
    "\n",
    "    def next(self):\n",
    "        if self.data.close < self.bband.lines.bot and self.rsi < self.params.oversold:\n",
    "            self.buy()\n",
    "        elif self.data.close > self.bband.lines.top and self.rsi > self.params.overbought:\n",
    "            self.sell()\n",
    "\n",
    "# Geçmiş verileri indir\n",
    "data_df = yf.download('THYAO.IS', start='2020-01-01', end='2022-01-01')\n",
    "data = bt.feeds.PandasData(dataname=data_df)\n",
    "\n",
    "# Bir Cerebro varlığı oluşturun\n",
    "cerebro = bt.Cerebro(stdstats=False)\n",
    "\n",
    "# Strateji ekle\n",
    "cerebro.addstrategy(BollingerRSIStrategy)\n",
    "\n",
    "# Veri Akışını Cerebro'ya Ekle\n",
    "cerebro.adddata(data)\n",
    "\n",
    "# İstediğiniz nakit başlangıcını ayarlayın\n",
    "cerebro.broker.set_cash(100000.0)\n",
    "\n",
    "# Bahis miktarına göre bir Sabit Boyut boyutlandırıcı ekleyin\n",
    "cerebro.addsizer(bt.sizers.FixedSize, stake=1000)\n",
    "\n",
    "# Komisyonu ayarlayın\n",
    "cerebro.broker.setcommission(commission=0.001)\n",
    "\n",
    "# Başlangıç ​​koşullarını yazdırın\n",
    "print('Başlangıç ​​Portföy Değeri: %.2f' % cerebro.broker.getvalue())\n",
    "\n",
    "# Her şeyin üzerinden geç\n",
    "cerebro.run()\n",
    "\n",
    "# Nihai sonucu yazdırın\n",
    "print('Bitiş Portföy Değeri: %.2f' % cerebro.broker.getvalue())\n",
    "\n",
    "# Sonucu çizin\n",
    "cerebro.plot(iplot=True)"
   ]
  },
  {
   "cell_type": "markdown",
   "id": "c5691b91",
   "metadata": {},
   "source": [
    "### Ticarette Performans ve Risk Metriklerini Anlamaya İlişkin Kısa Not\n",
    "\n",
    "Ticarette bir stratejinin etkinliğini ve riskini değerlendirmek çok önemlidir. Performans ölçümleri bir stratejinin karlılığını ve tutarlılığını değerlendirmeye yardımcı olurken, risk ölçümleri de stratejinin potansiyel güvenlik açıklarına ilişkin içgörüler sağlar. Her iki kategorideki bazı temel metrikleri inceleyelim.\n",
    "\n",
    "#### Bölüm 1: Performans Metrikleri\n",
    "\n",
    "1. **İade Önlemleri**\n",
    "   - **Toplam K/Z**: Bir stratejinin genel kar veya zararını değerlendirir.\n",
    "   - **Ortalama K/Z**: Birim zaman başına ortalama kar veya zararı gösterir.\n",
    "   - **Başarı Oranı (İsabet Oranı)**: Kârlı işlemlerin kaybedilen işlemlere oranını temsil eder.\n",
    "\n",
    "2. **Riske Göre Ayarlanmış Önlemler**\n",
    "   - **Sharpe Oranı**: Risk birimi başına aşırı getiriyi değerlendirir, ancak gelecekteki modellerin geçmişi taklit edeceğini varsaymak gibi sınırlamaları vardır.\n",
    "   - **Sortino Oranı**: Negatif getirilerin standart sapmasına odaklanan Sharpe Oranının bir varyasyonu.\n",
    "   - **Calmar Oranı**: Aynı dönemdeki maksimum düşüşe karşı üç yıllık ortalama yıllık getiri oranını dikkate alır.\n",
    "\n",
    "3. **Göreceli Getiri Ölçüleri**\n",
    "   - **Yukarı/Aşağı Yakalama Oranı**: Fonun yukarı/aşağı hareketleri sırasındaki getirisini referans getirisiyle karşılaştırır.\n",
    "   - **Yukarı/Aşağı Yüzde Oranı**: Bir fonun olumlu/negatif dönemlerinde karşılaştırma ölçütünün ne sıklıkla üzerinde performans gösterdiğini ölçer.\n",
    "\n",
    "#### Bölüm 2: Risk Ölçümleri\n",
    "\n",
    "1. **Temel Risk Ölçümleri**\n",
    "   - **Varyans**: Varlık volatilitesini yansıtacak şekilde getirinin beklenenden ne kadar saptığını gösterir.\n",
    "   - **Maksimum Düşüş**: Yüzde olarak ifade edilen, zirveden dibe kadar en büyük kaybı temsil eder.\n",
    "\n",
    "2. **Göreceli Risk Önlemleri**\n",
    "   - **Korelasyon Katsayısı**: İki değişken arasındaki doğrusal ilişkinin gücünü ve yönünü gösterir.\n",
    "   - **Beta**: Bir portföyün piyasaya göre oynaklığını ölçer.\n",
    "\n",
    "3. **Kuyruk Riski Önlemleri**\n",
    "   - **Riske Maruz Değer (VaR)**: Belirli bir dönem ve güven aralığı boyunca potansiyel kaybı tahmin eder.\n",
    "   - **Koşullu Riske Maruz Değer (CVaR)**: VaR ile VaR'ı aşan kayıplar arasındaki ortalamalar, daha kapsamlı bir risk değerlendirmesi sağlar.\n",
    "\n",
    "Bu ölçümleri anlamak ve uygulamak, yatırımcılara stratejilerini değerlendirme ve iyileştirme, getiri arayışı ile ihtiyatlı risk yönetimi arasında denge kurma gücü verecektir. Ticaret tarzınıza ve hedeflerinize uygun olduklarından emin olmak için daima her metriğin sınırlamalarını ve uygulanabilirliğini göz önünde bulundurun."
   ]
  },
  {
   "cell_type": "markdown",
   "id": "0f809e52",
   "metadata": {},
   "source": [
    "Python, ticaret stratejilerine yönelik performans ve risk ölçümlerini hesaplamak için çeşitli kütüphaneler sunar. Aşağıda dikkate değer olanlardan bazıları verilmiştir:\n",
    "\n",
    "\n",
    "### 1. 'pyfolio'\n",
    "\n",
    "'pyfolio', Quantopian Inc. tarafından geliştirilen, finansal portföylerin performans ve risk analizine yönelik bir Python kütüphanesidir. Performans ve riskin çeşitli yönlerini görselleştirmeye yönelik işlevsellik sağlar ve aynı zamanda Sharpe oranı gibi birçok ortak performans ölçümünü hesaplamak için yerleşik işlevlere sahiptir. Sortino oranı ve çok daha fazlası.\n",
    "\n",
    "\n",
    "### 2. `ffn` - Python için Finansal İşlevler\n",
    "\n",
    "'ffn', niceliksel finans alanında çalışanlar için birçok yararlı işlevi içeren bir kütüphanedir. Ayrıca yalnızca birkaç satır kodla Calmar oranı, maksimum düşüş ve çok daha fazlası gibi performans ölçümlerini hesaplamanıza da olanak tanır.\n",
    "\n",
    "\n",
    "### 3. 'ampirik'\n",
    "\n",
    "'ampirik', Quantopian tarafından geliştirilen ve çeşitli finansal risk ve performans ölçümleri sağlayan başka bir kütüphanedir. Kullanımı oldukça kolaydır ve Sharpe oranı, Sortino oranı vb. gibi ölçümleri hesaplayabilir.\n",
    "\n",
    "\n",
    "### 4. `bt` - Python için Geriye Dönük Test\n",
    "\n",
    "'bt', niceliksel ticaret stratejilerini test etmek için kullanılan Python için esnek bir geriye dönük test kütüphanesidir. Ayrıca çeşitli risk ve performans ölçümlerini hesaplamanıza da olanak tanır.\n",
    "\n",
    "\n",
    "### 5. 'Quantlib'\n",
    "\n",
    "'Quantlib' daha çok türevlere ve niceliksel finans hesaplamalarına odaklanır ancak çeşitli finansal hesaplamalara uyarlanabilir ve finansta karmaşık niceliksel yöntemler için yaygın olarak kullanılır."
   ]
  }
 ],
 "metadata": {
  "kernelspec": {
   "display_name": "Python 3 (ipykernel)",
   "language": "python",
   "name": "python3"
  },
  "language_info": {
   "codemirror_mode": {
    "name": "ipython",
    "version": 3
   },
   "file_extension": ".py",
   "mimetype": "text/x-python",
   "name": "python",
   "nbconvert_exporter": "python",
   "pygments_lexer": "ipython3",
   "version": "3.10.9"
  }
 },
 "nbformat": 4,
 "nbformat_minor": 5
}
